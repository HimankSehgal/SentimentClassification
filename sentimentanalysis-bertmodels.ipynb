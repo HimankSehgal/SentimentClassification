{
 "cells": [
  {
   "cell_type": "markdown",
   "id": "6adc10bc",
   "metadata": {
    "_cell_guid": "b1076dfc-b9ad-4769-8c92-a6c4dae69d19",
    "_uuid": "8f2839f25d086af736a60e9eeb907d3b93b6e0e5",
    "papermill": {
     "duration": 0.040149,
     "end_time": "2022-02-03T06:55:24.127353",
     "exception": false,
     "start_time": "2022-02-03T06:55:24.087204",
     "status": "completed"
    },
    "tags": []
   },
   "source": [
    "# Introduction\n"
   ]
  },
  {
   "cell_type": "markdown",
   "id": "a2da59c3",
   "metadata": {
    "papermill": {
     "duration": 0.038151,
     "end_time": "2022-02-03T06:55:24.204999",
     "exception": false,
     "start_time": "2022-02-03T06:55:24.166848",
     "status": "completed"
    },
    "tags": []
   },
   "source": [
    "In this project we'll be performing sentiment analysis on Rotten Tomatoes Dataset whose dataset has been attached in this repo\n",
    "\n",
    "The main task corresponds to a multi-class text classification on Movie Reviews Competition and the dataset contains 156,060 from which we have to classify among 5 classes. The sentiment labels are:\n",
    "\n",
    "0 → Negative      </br>\n",
    "1 → Somewhat negative  </br>\n",
    "2 → Neutral </br>\n",
    "3 → Somewhat positive </br>\n",
    "4 → Positive </br>\n",
    "\n",
    "\n",
    "\n",
    "We will be comparing performance of several algorithms and will deduce which works best"
   ]
  },
  {
   "cell_type": "markdown",
   "id": "f085d3fb",
   "metadata": {
    "papermill": {
     "duration": 0.038267,
     "end_time": "2022-02-03T06:55:24.283408",
     "exception": false,
     "start_time": "2022-02-03T06:55:24.245141",
     "status": "completed"
    },
    "tags": []
   },
   "source": [
    "# Steps to be followed\n",
    "\n",
    "1. Importing necessary libraries\n",
    "2. Opening the train and test dataset in the form of pandas dataframe and perform exploratory data analysis on train data\n",
    "3. Performing pre-processing \n",
    "4. Taking the train data and splitting it into train and val dataset ( test set is already given)\n",
    "5. Applying different models </br>\n",
    "   a) BERT </br>\n",
    "   b) RoBERTa (Robustly Optimized BERT Pre-training Approach) </br>\n",
    "5. Comparing performance of different models \n",
    "6. Final Analysis"
   ]
  },
  {
   "cell_type": "markdown",
   "id": "b831369c",
   "metadata": {
    "papermill": {
     "duration": 0.038973,
     "end_time": "2022-02-03T06:55:24.360967",
     "exception": false,
     "start_time": "2022-02-03T06:55:24.321994",
     "status": "completed"
    },
    "tags": []
   },
   "source": [
    "### Step 1. Importing necessary libraries"
   ]
  },
  {
   "cell_type": "code",
   "execution_count": 1,
   "id": "b29eea7f",
   "metadata": {
    "execution": {
     "iopub.execute_input": "2022-02-03T06:55:24.455676Z",
     "iopub.status.busy": "2022-02-03T06:55:24.454144Z",
     "iopub.status.idle": "2022-02-03T06:55:25.329296Z",
     "shell.execute_reply": "2022-02-03T06:55:25.329770Z",
     "shell.execute_reply.started": "2022-02-03T06:49:32.398332Z"
    },
    "papermill": {
     "duration": 0.930505,
     "end_time": "2022-02-03T06:55:25.330021",
     "exception": false,
     "start_time": "2022-02-03T06:55:24.399516",
     "status": "completed"
    },
    "tags": []
   },
   "outputs": [],
   "source": [
    "import pandas as pd\n",
    "import numpy as np\n",
    "import matplotlib.pyplot as plt\n",
    "import seaborn as sns\n",
    "## other libraries will be imported as and when required"
   ]
  },
  {
   "cell_type": "markdown",
   "id": "69b3dc5b",
   "metadata": {
    "papermill": {
     "duration": 0.038146,
     "end_time": "2022-02-03T06:55:25.407140",
     "exception": false,
     "start_time": "2022-02-03T06:55:25.368994",
     "status": "completed"
    },
    "tags": []
   },
   "source": [
    "## Step 2. Opening the dataset and performing EDA"
   ]
  },
  {
   "cell_type": "code",
   "execution_count": 2,
   "id": "a452310c",
   "metadata": {
    "execution": {
     "iopub.execute_input": "2022-02-03T06:55:25.490588Z",
     "iopub.status.busy": "2022-02-03T06:55:25.490101Z",
     "iopub.status.idle": "2022-02-03T06:55:25.887961Z",
     "shell.execute_reply": "2022-02-03T06:55:25.888427Z",
     "shell.execute_reply.started": "2022-02-03T06:49:33.260726Z"
    },
    "papermill": {
     "duration": 0.440846,
     "end_time": "2022-02-03T06:55:25.888577",
     "exception": false,
     "start_time": "2022-02-03T06:55:25.447731",
     "status": "completed"
    },
    "tags": []
   },
   "outputs": [],
   "source": [
    "train_df = pd.read_csv('../input/sentimentdata/train.tsv/train.tsv' , sep='\\t')\n",
    "test_df = pd.read_csv('../input/sentimentdata/test.tsv/test.tsv' , sep = '\\t')"
   ]
  },
  {
   "cell_type": "code",
   "execution_count": 3,
   "id": "6eaa06ca",
   "metadata": {
    "execution": {
     "iopub.execute_input": "2022-02-03T06:55:25.978242Z",
     "iopub.status.busy": "2022-02-03T06:55:25.977707Z",
     "iopub.status.idle": "2022-02-03T06:55:25.989232Z",
     "shell.execute_reply": "2022-02-03T06:55:25.989781Z",
     "shell.execute_reply.started": "2022-02-03T06:49:33.593710Z"
    },
    "papermill": {
     "duration": 0.05875,
     "end_time": "2022-02-03T06:55:25.989923",
     "exception": false,
     "start_time": "2022-02-03T06:55:25.931173",
     "status": "completed"
    },
    "tags": []
   },
   "outputs": [
    {
     "data": {
      "text/html": [
       "<div>\n",
       "<style scoped>\n",
       "    .dataframe tbody tr th:only-of-type {\n",
       "        vertical-align: middle;\n",
       "    }\n",
       "\n",
       "    .dataframe tbody tr th {\n",
       "        vertical-align: top;\n",
       "    }\n",
       "\n",
       "    .dataframe thead th {\n",
       "        text-align: right;\n",
       "    }\n",
       "</style>\n",
       "<table border=\"1\" class=\"dataframe\">\n",
       "  <thead>\n",
       "    <tr style=\"text-align: right;\">\n",
       "      <th></th>\n",
       "      <th>PhraseId</th>\n",
       "      <th>SentenceId</th>\n",
       "      <th>Phrase</th>\n",
       "      <th>Sentiment</th>\n",
       "    </tr>\n",
       "  </thead>\n",
       "  <tbody>\n",
       "    <tr>\n",
       "      <th>0</th>\n",
       "      <td>1</td>\n",
       "      <td>1</td>\n",
       "      <td>A series of escapades demonstrating the adage ...</td>\n",
       "      <td>1</td>\n",
       "    </tr>\n",
       "    <tr>\n",
       "      <th>1</th>\n",
       "      <td>2</td>\n",
       "      <td>1</td>\n",
       "      <td>A series of escapades demonstrating the adage ...</td>\n",
       "      <td>2</td>\n",
       "    </tr>\n",
       "    <tr>\n",
       "      <th>2</th>\n",
       "      <td>3</td>\n",
       "      <td>1</td>\n",
       "      <td>A series</td>\n",
       "      <td>2</td>\n",
       "    </tr>\n",
       "    <tr>\n",
       "      <th>3</th>\n",
       "      <td>4</td>\n",
       "      <td>1</td>\n",
       "      <td>A</td>\n",
       "      <td>2</td>\n",
       "    </tr>\n",
       "    <tr>\n",
       "      <th>4</th>\n",
       "      <td>5</td>\n",
       "      <td>1</td>\n",
       "      <td>series</td>\n",
       "      <td>2</td>\n",
       "    </tr>\n",
       "  </tbody>\n",
       "</table>\n",
       "</div>"
      ],
      "text/plain": [
       "   PhraseId  SentenceId                                             Phrase  \\\n",
       "0         1           1  A series of escapades demonstrating the adage ...   \n",
       "1         2           1  A series of escapades demonstrating the adage ...   \n",
       "2         3           1                                           A series   \n",
       "3         4           1                                                  A   \n",
       "4         5           1                                             series   \n",
       "\n",
       "   Sentiment  \n",
       "0          1  \n",
       "1          2  \n",
       "2          2  \n",
       "3          2  \n",
       "4          2  "
      ]
     },
     "execution_count": 3,
     "metadata": {},
     "output_type": "execute_result"
    }
   ],
   "source": [
    "train_df.head()"
   ]
  },
  {
   "cell_type": "code",
   "execution_count": 4,
   "id": "388f4320",
   "metadata": {
    "execution": {
     "iopub.execute_input": "2022-02-03T06:55:26.072339Z",
     "iopub.status.busy": "2022-02-03T06:55:26.071829Z",
     "iopub.status.idle": "2022-02-03T06:55:26.092847Z",
     "shell.execute_reply": "2022-02-03T06:55:26.093242Z",
     "shell.execute_reply.started": "2022-02-03T06:49:33.615829Z"
    },
    "papermill": {
     "duration": 0.064343,
     "end_time": "2022-02-03T06:55:26.093373",
     "exception": false,
     "start_time": "2022-02-03T06:55:26.029030",
     "status": "completed"
    },
    "tags": []
   },
   "outputs": [
    {
     "name": "stdout",
     "output_type": "stream",
     "text": [
      "(156060, 4)\n",
      "Index(['PhraseId', 'SentenceId', 'Phrase', 'Sentiment'], dtype='object')\n",
      "PhraseId      0\n",
      "SentenceId    0\n",
      "Phrase        0\n",
      "Sentiment     0\n",
      "dtype: int64\n"
     ]
    }
   ],
   "source": [
    "print(train_df.shape)\n",
    "#print(train_df.info)\n",
    "print(train_df.columns)\n",
    "print(train_df.isnull().sum())"
   ]
  },
  {
   "cell_type": "code",
   "execution_count": 5,
   "id": "01cc909f",
   "metadata": {
    "execution": {
     "iopub.execute_input": "2022-02-03T06:55:26.182677Z",
     "iopub.status.busy": "2022-02-03T06:55:26.181892Z",
     "iopub.status.idle": "2022-02-03T06:55:26.185315Z",
     "shell.execute_reply": "2022-02-03T06:55:26.184919Z",
     "shell.execute_reply.started": "2022-02-03T06:49:33.641304Z"
    },
    "papermill": {
     "duration": 0.05227,
     "end_time": "2022-02-03T06:55:26.185421",
     "exception": false,
     "start_time": "2022-02-03T06:55:26.133151",
     "status": "completed"
    },
    "tags": []
   },
   "outputs": [
    {
     "data": {
      "text/plain": [
       "2    79582\n",
       "3    32927\n",
       "1    27273\n",
       "4     9206\n",
       "0     7072\n",
       "Name: Sentiment, dtype: int64"
      ]
     },
     "execution_count": 5,
     "metadata": {},
     "output_type": "execute_result"
    }
   ],
   "source": [
    "train_df['Sentiment'].value_counts()\n"
   ]
  },
  {
   "cell_type": "code",
   "execution_count": 6,
   "id": "b89565c6",
   "metadata": {
    "execution": {
     "iopub.execute_input": "2022-02-03T06:55:26.270250Z",
     "iopub.status.busy": "2022-02-03T06:55:26.269356Z",
     "iopub.status.idle": "2022-02-03T06:55:26.560542Z",
     "shell.execute_reply": "2022-02-03T06:55:26.561678Z",
     "shell.execute_reply.started": "2022-02-03T06:49:33.655570Z"
    },
    "papermill": {
     "duration": 0.337186,
     "end_time": "2022-02-03T06:55:26.561934",
     "exception": false,
     "start_time": "2022-02-03T06:55:26.224748",
     "status": "completed"
    },
    "tags": []
   },
   "outputs": [
    {
     "data": {
      "text/plain": [
       "<AxesSubplot:title={'center':'Pie chart of Sentiment Class'}, ylabel='Sentiment'>"
      ]
     },
     "execution_count": 6,
     "metadata": {},
     "output_type": "execute_result"
    },
    {
     "data": {
      "image/png": "[encoded data removed]",
      "text/plain": [
       "<Figure size 864x864 with 1 Axes>"
      ]
     },
     "metadata": {},
     "output_type": "display_data"
    }
   ],
   "source": [
    "df2=train_df.copy(deep=True)\n",
    "pie1=pd.DataFrame(df2['Sentiment'].replace(0,'Negative').replace(1,'Somewhat negative').replace(2,'Neutral').replace(3,'Somewhat positive').replace(4,'Positive').value_counts())\n",
    "pie1.reset_index(inplace=True)\n",
    "pie1.plot(kind='pie', title='Pie chart of Sentiment Class',y = 'Sentiment', \n",
    "          autopct='%1.1f%%', shadow=False, labels=pie1['index'], legend = False, fontsize=14, figsize=(12,12))"
   ]
  },
  {
   "cell_type": "markdown",
   "id": "63c802ab",
   "metadata": {
    "papermill": {
     "duration": 0.041349,
     "end_time": "2022-02-03T06:55:26.651609",
     "exception": false,
     "start_time": "2022-02-03T06:55:26.610260",
     "status": "completed"
    },
    "tags": []
   },
   "source": [
    "***Insights*** <br>\n",
    "There is an imbalance . So we cannot do random split, We'll do <tt>**StratifiedSplit()**</tt> to ensure distribution is same in splits"
   ]
  },
  {
   "cell_type": "code",
   "execution_count": 7,
   "id": "531477ec",
   "metadata": {
    "execution": {
     "iopub.execute_input": "2022-02-03T06:55:26.756972Z",
     "iopub.status.busy": "2022-02-03T06:55:26.749007Z",
     "iopub.status.idle": "2022-02-03T06:55:28.488691Z",
     "shell.execute_reply": "2022-02-03T06:55:28.489105Z",
     "shell.execute_reply.started": "2022-02-03T06:49:33.959434Z"
    },
    "papermill": {
     "duration": 1.796085,
     "end_time": "2022-02-03T06:55:28.489246",
     "exception": false,
     "start_time": "2022-02-03T06:55:26.693161",
     "status": "completed"
    },
    "tags": []
   },
   "outputs": [
    {
     "data": {
      "text/plain": [
       "Text(0.5, 0.98, 'Histogram number of words in reviews')"
      ]
     },
     "execution_count": 7,
     "metadata": {},
     "output_type": "execute_result"
    },
    {
     "data": {
      "image/png": "[encoded data removed]",
      "text/plain": [
       "<Figure size 1800x576 with 5 Axes>"
      ]
     },
     "metadata": {
      "needs_background": "light"
     },
     "output_type": "display_data"
    }
   ],
   "source": [
    "f, (ax1, ax2, ax3, ax4, ax5) = plt.subplots(1,5,figsize=(25,8))\n",
    "ax1.hist(train_df[train_df['Sentiment'] == 0]['Phrase'].str.split().map(lambda x: len(x)), bins=50, color='b')\n",
    "ax1.set_title('Negative Reviews')\n",
    "\n",
    "ax2.hist(train_df[train_df['Sentiment'] == 1]['Phrase'].str.split().map(lambda x: len(x)), bins=50, color='r')\n",
    "ax2.set_title('Somewhat Negative Reviews')\n",
    "\n",
    "ax3.hist(train_df[train_df['Sentiment'] == 2]['Phrase'].str.split().map(lambda x: len(x)), bins=50, color='g')\n",
    "ax3.set_title('Neutral Reviews')\n",
    "\n",
    "ax4.hist(train_df[train_df['Sentiment'] == 3]['Phrase'].str.split().map(lambda x: len(x)), bins=50, color='y')\n",
    "ax4.set_title('Somewhat Positive Reviews')\n",
    "\n",
    "ax5.hist(train_df[train_df['Sentiment'] == 4]['Phrase'].str.split().map(lambda x: len(x)), bins=50, color='k')\n",
    "ax5.set_title('Positive Reviews')\n",
    "\n",
    "f.suptitle('Histogram number of words in reviews')"
   ]
  },
  {
   "cell_type": "code",
   "execution_count": 8,
   "id": "df20367c",
   "metadata": {
    "execution": {
     "iopub.execute_input": "2022-02-03T06:55:28.596215Z",
     "iopub.status.busy": "2022-02-03T06:55:28.595702Z",
     "iopub.status.idle": "2022-02-03T06:55:29.116177Z",
     "shell.execute_reply": "2022-02-03T06:55:29.115604Z",
     "shell.execute_reply.started": "2022-02-03T06:49:35.533463Z"
    },
    "papermill": {
     "duration": 0.581999,
     "end_time": "2022-02-03T06:55:29.116318",
     "exception": false,
     "start_time": "2022-02-03T06:55:28.534319",
     "status": "completed"
    },
    "tags": []
   },
   "outputs": [
    {
     "data": {
      "text/plain": [
       "52"
      ]
     },
     "execution_count": 8,
     "metadata": {},
     "output_type": "execute_result"
    }
   ],
   "source": [
    "train_df['Phrase'].str.split().map(lambda x: len(x)).max()"
   ]
  },
  {
   "cell_type": "markdown",
   "id": "f8b4c4dc",
   "metadata": {
    "papermill": {
     "duration": 0.044113,
     "end_time": "2022-02-03T06:55:29.205053",
     "exception": false,
     "start_time": "2022-02-03T06:55:29.160940",
     "status": "completed"
    },
    "tags": []
   },
   "source": [
    "***Insights*** <br>\n",
    "Through these graphs we can see that most reviews of any class are of shorter length, around 5-20. But max length is 52 \n",
    "Effectively was 52 words, this means if we would Tokenize by word the max_length should be 52, however as transformers consider sub-words tokenization such number could be increased depending on the words being used which can increase such length to 60 or even more, thus we have to take that into account when modeling as it could cause our model to take significatively a long time to train, therefore we have to find a trade-off between training time and performance."
   ]
  },
  {
   "cell_type": "code",
   "execution_count": 9,
   "id": "3d647090",
   "metadata": {
    "execution": {
     "iopub.execute_input": "2022-02-03T06:55:29.313538Z",
     "iopub.status.busy": "2022-02-03T06:55:29.298428Z",
     "iopub.status.idle": "2022-02-03T06:55:31.541897Z",
     "shell.execute_reply": "2022-02-03T06:55:31.541294Z",
     "shell.execute_reply.started": "2022-02-03T06:49:36.140073Z"
    },
    "papermill": {
     "duration": 2.29481,
     "end_time": "2022-02-03T06:55:31.542067",
     "exception": false,
     "start_time": "2022-02-03T06:55:29.247257",
     "status": "completed"
    },
    "tags": []
   },
   "outputs": [
    {
     "name": "stdout",
     "output_type": "stream",
     "text": [
      "Number of sentences which contain more than 20 words:  11494\n",
      " \n",
      "Number of sentences which contain more than 30 words:  2568\n",
      " \n",
      "Number of sentences which contain more than 40 words:  352\n",
      " \n",
      "Number of sentences which contain more than 50 words:  18\n",
      " \n",
      "Number of sentences which contain 52 words:  3\n",
      " \n"
     ]
    }
   ],
   "source": [
    "\n",
    "df=pd.DataFrame(train_df['Phrase'].str.split().map(lambda x: len(x))>=20)\n",
    "print('Number of sentences which contain more than 20 words: ', df.loc[df['Phrase']==True].shape[0])\n",
    "print(' ')\n",
    "df=pd.DataFrame(train_df['Phrase'].str.split().map(lambda x: len(x))>=30)\n",
    "print('Number of sentences which contain more than 30 words: ', df.loc[df['Phrase']==True].shape[0])\n",
    "print(' ')\n",
    "df=pd.DataFrame(train_df['Phrase'].str.split().map(lambda x: len(x))>=40)\n",
    "print('Number of sentences which contain more than 40 words: ', df.loc[df['Phrase']==True].shape[0])\n",
    "print(' ')\n",
    "df=pd.DataFrame(train_df['Phrase'].str.split().map(lambda x: len(x))>=50)\n",
    "print('Number of sentences which contain more than 50 words: ', df.loc[df['Phrase']==True].shape[0])\n",
    "print(' ')\n",
    "df=pd.DataFrame(train_df['Phrase'].str.split().map(lambda x: len(x))==52)\n",
    "print('Number of sentences which contain 52 words: ', df.loc[df['Phrase']==True].shape[0])\n",
    "print(' ')\n",
    "#dfff.loc[dfff['Phrase']==True]"
   ]
  },
  {
   "cell_type": "markdown",
   "id": "b1fb1ae7",
   "metadata": {
    "papermill": {
     "duration": 0.04373,
     "end_time": "2022-02-03T06:55:31.630868",
     "exception": false,
     "start_time": "2022-02-03T06:55:31.587138",
     "status": "completed"
    },
    "tags": []
   },
   "source": [
    "***Insights*** <br>\n",
    "We can remove sentences which have length more than 40 words and they won't contribute much but removing them can help to boost computation"
   ]
  },
  {
   "cell_type": "code",
   "execution_count": 10,
   "id": "feca3bd2",
   "metadata": {
    "execution": {
     "iopub.execute_input": "2022-02-03T06:55:31.870477Z",
     "iopub.status.busy": "2022-02-03T06:55:31.740517Z",
     "iopub.status.idle": "2022-02-03T06:55:32.246325Z",
     "shell.execute_reply": "2022-02-03T06:55:32.246755Z",
     "shell.execute_reply.started": "2022-02-03T06:49:38.590548Z"
    },
    "papermill": {
     "duration": 0.571405,
     "end_time": "2022-02-03T06:55:32.246907",
     "exception": false,
     "start_time": "2022-02-03T06:55:31.675502",
     "status": "completed"
    },
    "tags": []
   },
   "outputs": [
    {
     "name": "stdout",
     "output_type": "stream",
     "text": [
      "(156060, 5)\n",
      "(155708, 5)\n"
     ]
    }
   ],
   "source": [
    "train_df['len'] = train_df['Phrase'].str.split().map(lambda x: len(x))\n",
    "print(train_df.shape)\n",
    "\n",
    "train_df = train_df[train_df['len'] <40 ]\n",
    "print(train_df.shape)"
   ]
  },
  {
   "cell_type": "code",
   "execution_count": 11,
   "id": "6647cd35",
   "metadata": {
    "execution": {
     "iopub.execute_input": "2022-02-03T06:55:32.340158Z",
     "iopub.status.busy": "2022-02-03T06:55:32.339507Z",
     "iopub.status.idle": "2022-02-03T06:55:32.342063Z",
     "shell.execute_reply": "2022-02-03T06:55:32.342490Z",
     "shell.execute_reply.started": "2022-02-03T06:49:39.118903Z"
    },
    "papermill": {
     "duration": 0.051455,
     "end_time": "2022-02-03T06:55:32.342616",
     "exception": false,
     "start_time": "2022-02-03T06:55:32.291161",
     "status": "completed"
    },
    "tags": []
   },
   "outputs": [
    {
     "data": {
      "text/plain": [
       "352"
      ]
     },
     "execution_count": 11,
     "metadata": {},
     "output_type": "execute_result"
    }
   ],
   "source": [
    "156060 - 155708"
   ]
  },
  {
   "cell_type": "markdown",
   "id": "6cca8162",
   "metadata": {
    "papermill": {
     "duration": 0.044386,
     "end_time": "2022-02-03T06:55:32.431200",
     "exception": false,
     "start_time": "2022-02-03T06:55:32.386814",
     "status": "completed"
    },
    "tags": []
   },
   "source": [
    "### Step 4. Taking the new data and splitting it into train and test (validation set will be made from train set later)"
   ]
  },
  {
   "cell_type": "code",
   "execution_count": 12,
   "id": "73efce93",
   "metadata": {
    "execution": {
     "iopub.execute_input": "2022-02-03T06:55:32.527144Z",
     "iopub.status.busy": "2022-02-03T06:55:32.526513Z",
     "iopub.status.idle": "2022-02-03T06:55:32.528932Z",
     "shell.execute_reply": "2022-02-03T06:55:32.529335Z",
     "shell.execute_reply.started": "2022-02-03T06:49:39.125504Z"
    },
    "papermill": {
     "duration": 0.054084,
     "end_time": "2022-02-03T06:55:32.529455",
     "exception": false,
     "start_time": "2022-02-03T06:55:32.475371",
     "status": "completed"
    },
    "tags": []
   },
   "outputs": [
    {
     "data": {
      "text/plain": [
       "2    79525\n",
       "3    32810\n",
       "1    27195\n",
       "4     9146\n",
       "0     7032\n",
       "Name: Sentiment, dtype: int64"
      ]
     },
     "execution_count": 12,
     "metadata": {},
     "output_type": "execute_result"
    }
   ],
   "source": [
    "train_df['Sentiment'].value_counts()"
   ]
  },
  {
   "cell_type": "markdown",
   "id": "aedc0baa",
   "metadata": {
    "papermill": {
     "duration": 0.044349,
     "end_time": "2022-02-03T06:55:32.618735",
     "exception": false,
     "start_time": "2022-02-03T06:55:32.574386",
     "status": "completed"
    },
    "tags": []
   },
   "source": [
    "There is an imbalance . So we cannot do random split, We'll do <tt>**StratifiedSplit()**</tt> to ensure distribution is same in splits"
   ]
  },
  {
   "cell_type": "code",
   "execution_count": 13,
   "id": "fd2ea1fc",
   "metadata": {
    "execution": {
     "iopub.execute_input": "2022-02-03T06:55:32.714862Z",
     "iopub.status.busy": "2022-02-03T06:55:32.714196Z",
     "iopub.status.idle": "2022-02-03T06:55:32.988321Z",
     "shell.execute_reply": "2022-02-03T06:55:32.988805Z",
     "shell.execute_reply.started": "2022-02-03T06:49:39.140114Z"
    },
    "papermill": {
     "duration": 0.325409,
     "end_time": "2022-02-03T06:55:32.988979",
     "exception": false,
     "start_time": "2022-02-03T06:55:32.663570",
     "status": "completed"
    },
    "tags": []
   },
   "outputs": [],
   "source": [
    "from sklearn.model_selection import StratifiedShuffleSplit\n",
    "X = train_df.drop('Sentiment',axis=1)\n",
    "y = train_df['Sentiment']\n",
    "sss = StratifiedShuffleSplit(n_splits=2, test_size=0.1, random_state=0) #test size of 10% \n",
    "\n",
    "for train_index, test_index in sss.split(X , y):  \n",
    "    X_train = X.iloc[train_index]\n",
    "    y_train = y.iloc[train_index]  \n",
    "    X_val = X.iloc[test_index]\n",
    "    y_val = y.iloc[test_index]"
   ]
  },
  {
   "cell_type": "code",
   "execution_count": 14,
   "id": "5b6e7a1d",
   "metadata": {
    "execution": {
     "iopub.execute_input": "2022-02-03T06:55:33.086496Z",
     "iopub.status.busy": "2022-02-03T06:55:33.084920Z",
     "iopub.status.idle": "2022-02-03T06:55:33.091574Z",
     "shell.execute_reply": "2022-02-03T06:55:33.091162Z",
     "shell.execute_reply.started": "2022-02-03T06:49:39.415572Z"
    },
    "papermill": {
     "duration": 0.057302,
     "end_time": "2022-02-03T06:55:33.091706",
     "exception": false,
     "start_time": "2022-02-03T06:55:33.034404",
     "status": "completed"
    },
    "tags": []
   },
   "outputs": [
    {
     "name": "stdout",
     "output_type": "stream",
     "text": [
      "Train distribution\n",
      "2    71572\n",
      "3    29529\n",
      "1    24476\n",
      "4     8231\n",
      "0     6329\n",
      "Name: Sentiment, dtype: int64\n",
      "140137\n",
      "\n",
      "\n",
      "Val distribution\n",
      "2    7953\n",
      "3    3281\n",
      "1    2719\n",
      "4     915\n",
      "0     703\n",
      "Name: Sentiment, dtype: int64\n",
      "15571\n"
     ]
    }
   ],
   "source": [
    "print('Train distribution')\n",
    "print(y_train.value_counts())\n",
    "print(y_train.shape[0])\n",
    "print(\"\\n\")\n",
    "print('Val distribution')\n",
    "print(y_val.value_counts())\n",
    "print(y_val.shape[0])"
   ]
  },
  {
   "cell_type": "code",
   "execution_count": 15,
   "id": "6e27e063",
   "metadata": {
    "execution": {
     "iopub.execute_input": "2022-02-03T06:55:33.185652Z",
     "iopub.status.busy": "2022-02-03T06:55:33.184930Z",
     "iopub.status.idle": "2022-02-03T06:55:37.681003Z",
     "shell.execute_reply": "2022-02-03T06:55:37.680225Z",
     "shell.execute_reply.started": "2022-02-03T06:49:39.427516Z"
    },
    "papermill": {
     "duration": 4.544431,
     "end_time": "2022-02-03T06:55:37.681151",
     "exception": false,
     "start_time": "2022-02-03T06:55:33.136720",
     "status": "completed"
    },
    "tags": []
   },
   "outputs": [],
   "source": [
    "from tensorflow.keras.utils import to_categorical\n",
    "y_train = to_categorical(y_train)\n",
    "y_val = to_categorical(y_val)"
   ]
  },
  {
   "cell_type": "markdown",
   "id": "7f787791",
   "metadata": {
    "papermill": {
     "duration": 0.045916,
     "end_time": "2022-02-03T06:55:37.775032",
     "exception": false,
     "start_time": "2022-02-03T06:55:37.729116",
     "status": "completed"
    },
    "tags": []
   },
   "source": [
    "### Step 5. Applying Transformer Model\n",
    "### a) BERT"
   ]
  },
  {
   "cell_type": "code",
   "execution_count": 16,
   "id": "8db5a2c4",
   "metadata": {
    "execution": {
     "iopub.execute_input": "2022-02-03T06:55:37.885526Z",
     "iopub.status.busy": "2022-02-03T06:55:37.884566Z",
     "iopub.status.idle": "2022-02-03T06:55:37.890110Z",
     "shell.execute_reply": "2022-02-03T06:55:37.889683Z",
     "shell.execute_reply.started": "2022-02-03T06:49:44.006567Z"
    },
    "papermill": {
     "duration": 0.062736,
     "end_time": "2022-02-03T06:55:37.890222",
     "exception": false,
     "start_time": "2022-02-03T06:55:37.827486",
     "status": "completed"
    },
    "tags": []
   },
   "outputs": [],
   "source": [
    "from tensorflow.keras.layers import Input, Dropout, Dense\n",
    "from tensorflow.keras.models import Model\n",
    "from tensorflow.keras.optimizers import Adam\n",
    "from tensorflow.keras.initializers import TruncatedNormal\n",
    "from tensorflow.keras.losses import CategoricalCrossentropy\n",
    "from tensorflow.keras.metrics import CategoricalAccuracy\n",
    "\n",
    "from tensorflow.keras.callbacks import ReduceLROnPlateau , ModelCheckpoint , EarlyStopping\n",
    "\n",
    "import pandas as pd\n"
   ]
  },
  {
   "cell_type": "code",
   "execution_count": 17,
   "id": "d36cf88f",
   "metadata": {
    "execution": {
     "iopub.execute_input": "2022-02-03T06:55:38.055244Z",
     "iopub.status.busy": "2022-02-03T06:55:38.054374Z",
     "iopub.status.idle": "2022-02-03T06:56:19.646406Z",
     "shell.execute_reply": "2022-02-03T06:56:19.645753Z",
     "shell.execute_reply.started": "2022-02-03T06:49:44.023877Z"
    },
    "papermill": {
     "duration": 41.67919,
     "end_time": "2022-02-03T06:56:19.646574",
     "exception": false,
     "start_time": "2022-02-03T06:55:37.967384",
     "status": "completed"
    },
    "tags": []
   },
   "outputs": [
    {
     "data": {
      "application/vnd.jupyter.widget-view+json": {
       "model_id": "f778b46fadef447c9513db360dc6b942",
       "version_major": 2,
       "version_minor": 0
      },
      "text/plain": [
       "Downloading:   0%|          | 0.00/570 [00:00<?, ?B/s]"
      ]
     },
     "metadata": {},
     "output_type": "display_data"
    },
    {
     "data": {
      "application/vnd.jupyter.widget-view+json": {
       "model_id": "82cd1b281dab44779957de19788c2058",
       "version_major": 2,
       "version_minor": 0
      },
      "text/plain": [
       "Downloading:   0%|          | 0.00/226k [00:00<?, ?B/s]"
      ]
     },
     "metadata": {},
     "output_type": "display_data"
    },
    {
     "data": {
      "application/vnd.jupyter.widget-view+json": {
       "model_id": "f65f3960309d427fa8720ad8833e6310",
       "version_major": 2,
       "version_minor": 0
      },
      "text/plain": [
       "Downloading:   0%|          | 0.00/455k [00:00<?, ?B/s]"
      ]
     },
     "metadata": {},
     "output_type": "display_data"
    },
    {
     "data": {
      "application/vnd.jupyter.widget-view+json": {
       "model_id": "13b8ea64cc224027a9d3b5fa7baa0295",
       "version_major": 2,
       "version_minor": 0
      },
      "text/plain": [
       "Downloading:   0%|          | 0.00/28.0 [00:00<?, ?B/s]"
      ]
     },
     "metadata": {},
     "output_type": "display_data"
    },
    {
     "data": {
      "application/vnd.jupyter.widget-view+json": {
       "model_id": "8ee3e3b71e57486f9e470075be479d44",
       "version_major": 2,
       "version_minor": 0
      },
      "text/plain": [
       "Downloading:   0%|          | 0.00/511M [00:00<?, ?B/s]"
      ]
     },
     "metadata": {},
     "output_type": "display_data"
    },
    {
     "name": "stderr",
     "output_type": "stream",
     "text": [
      "2022-02-03 06:56:12.921038: I tensorflow/stream_executor/cuda/cuda_gpu_executor.cc:937] successful NUMA node read from SysFS had negative value (-1), but there must be at least one NUMA node, so returning NUMA node zero\n",
      "2022-02-03 06:56:12.922226: I tensorflow/stream_executor/cuda/cuda_gpu_executor.cc:937] successful NUMA node read from SysFS had negative value (-1), but there must be at least one NUMA node, so returning NUMA node zero\n",
      "2022-02-03 06:56:12.922930: I tensorflow/stream_executor/cuda/cuda_gpu_executor.cc:937] successful NUMA node read from SysFS had negative value (-1), but there must be at least one NUMA node, so returning NUMA node zero\n",
      "2022-02-03 06:56:12.923867: I tensorflow/core/platform/cpu_feature_guard.cc:142] This TensorFlow binary is optimized with oneAPI Deep Neural Network Library (oneDNN) to use the following CPU instructions in performance-critical operations:  AVX2 AVX512F FMA\n",
      "To enable them in other operations, rebuild TensorFlow with the appropriate compiler flags.\n",
      "2022-02-03 06:56:12.925006: I tensorflow/stream_executor/cuda/cuda_gpu_executor.cc:937] successful NUMA node read from SysFS had negative value (-1), but there must be at least one NUMA node, so returning NUMA node zero\n",
      "2022-02-03 06:56:12.925777: I tensorflow/stream_executor/cuda/cuda_gpu_executor.cc:937] successful NUMA node read from SysFS had negative value (-1), but there must be at least one NUMA node, so returning NUMA node zero\n",
      "2022-02-03 06:56:12.926438: I tensorflow/stream_executor/cuda/cuda_gpu_executor.cc:937] successful NUMA node read from SysFS had negative value (-1), but there must be at least one NUMA node, so returning NUMA node zero\n",
      "2022-02-03 06:56:17.464776: I tensorflow/stream_executor/cuda/cuda_gpu_executor.cc:937] successful NUMA node read from SysFS had negative value (-1), but there must be at least one NUMA node, so returning NUMA node zero\n",
      "2022-02-03 06:56:17.465542: I tensorflow/stream_executor/cuda/cuda_gpu_executor.cc:937] successful NUMA node read from SysFS had negative value (-1), but there must be at least one NUMA node, so returning NUMA node zero\n",
      "2022-02-03 06:56:17.466231: I tensorflow/stream_executor/cuda/cuda_gpu_executor.cc:937] successful NUMA node read from SysFS had negative value (-1), but there must be at least one NUMA node, so returning NUMA node zero\n",
      "2022-02-03 06:56:17.466820: I tensorflow/core/common_runtime/gpu/gpu_device.cc:1510] Created device /job:localhost/replica:0/task:0/device:GPU:0 with 14959 MB memory:  -> device: 0, name: Tesla P100-PCIE-16GB, pci bus id: 0000:00:04.0, compute capability: 6.0\n",
      "Some layers from the model checkpoint at bert-base-uncased were not used when initializing TFBertModel: ['mlm___cls', 'nsp___cls']\n",
      "- This IS expected if you are initializing TFBertModel from the checkpoint of a model trained on another task or with another architecture (e.g. initializing a BertForSequenceClassification model from a BertForPreTraining model).\n",
      "- This IS NOT expected if you are initializing TFBertModel from the checkpoint of a model that you expect to be exactly identical (initializing a BertForSequenceClassification model from a BertForSequenceClassification model).\n",
      "All the layers of TFBertModel were initialized from the model checkpoint at bert-base-uncased.\n",
      "If your task is similar to the task the model of the checkpoint was trained on, you can already use TFBertModel for predictions without further training.\n"
     ]
    }
   ],
   "source": [
    "from transformers import TFBertModel,  BertConfig, BertTokenizerFast\n",
    "\n",
    "model_name = 'bert-base-uncased'\n",
    "max_length = 45\n",
    "\n",
    "config = BertConfig.from_pretrained(model_name)\n",
    "bert_tokenizer = BertTokenizerFast.from_pretrained(pretrained_model_name_or_path=model_name , config=config)\n",
    "transformer_bert_model = TFBertModel.from_pretrained(model_name , config = config)"
   ]
  },
  {
   "cell_type": "code",
   "execution_count": 18,
   "id": "0b8d72d6",
   "metadata": {
    "execution": {
     "iopub.execute_input": "2022-02-03T06:56:19.757331Z",
     "iopub.status.busy": "2022-02-03T06:56:19.756569Z",
     "iopub.status.idle": "2022-02-03T06:56:19.767390Z",
     "shell.execute_reply": "2022-02-03T06:56:19.766951Z",
     "shell.execute_reply.started": "2022-02-03T06:50:25.535785Z"
    },
    "papermill": {
     "duration": 0.071179,
     "end_time": "2022-02-03T06:56:19.767497",
     "exception": false,
     "start_time": "2022-02-03T06:56:19.696318",
     "status": "completed"
    },
    "tags": []
   },
   "outputs": [
    {
     "name": "stdout",
     "output_type": "stream",
     "text": [
      "A series of escapades demonstrating the adage that what is good for the goose is also good for the gander , some of which occasionally amuses but none of which amounts to much of a story .\n",
      "{'input_ids': [101, 1037, 2186, 1997, 9686, 17695, 18673, 14313, 1996, 15262, 3351, 2008, 2054, 2003, 2204, 2005, 1996, 13020, 2003, 2036, 2204, 2005, 1996, 25957, 4063, 1010, 2070, 1997, 2029, 5681, 2572, 25581, 2021, 3904, 1997, 2029, 8310, 2000, 2172, 1997, 1037, 2466, 1012, 102], 'token_type_ids': [0, 0, 0, 0, 0, 0, 0, 0, 0, 0, 0, 0, 0, 0, 0, 0, 0, 0, 0, 0, 0, 0, 0, 0, 0, 0, 0, 0, 0, 0, 0, 0, 0, 0, 0, 0, 0, 0, 0, 0, 0, 0, 0, 0], 'attention_mask': [1, 1, 1, 1, 1, 1, 1, 1, 1, 1, 1, 1, 1, 1, 1, 1, 1, 1, 1, 1, 1, 1, 1, 1, 1, 1, 1, 1, 1, 1, 1, 1, 1, 1, 1, 1, 1, 1, 1, 1, 1, 1, 1, 1]}\n"
     ]
    }
   ],
   "source": [
    "sample_text = train_df['Phrase'][0]\n",
    "print(sample_text)\n",
    "print(bert_tokenizer(sample_text))"
   ]
  },
  {
   "cell_type": "markdown",
   "id": "2e7ff15f",
   "metadata": {
    "papermill": {
     "duration": 0.048139,
     "end_time": "2022-02-03T06:56:19.863681",
     "exception": false,
     "start_time": "2022-02-03T06:56:19.815542",
     "status": "completed"
    },
    "tags": []
   },
   "source": [
    "#### Building the model"
   ]
  },
  {
   "cell_type": "code",
   "execution_count": 19,
   "id": "43e5d7a0",
   "metadata": {
    "execution": {
     "iopub.execute_input": "2022-02-03T06:56:19.972116Z",
     "iopub.status.busy": "2022-02-03T06:56:19.971510Z",
     "iopub.status.idle": "2022-02-03T06:56:26.511927Z",
     "shell.execute_reply": "2022-02-03T06:56:26.510997Z",
     "shell.execute_reply.started": "2022-02-03T06:50:25.552756Z"
    },
    "papermill": {
     "duration": 6.599453,
     "end_time": "2022-02-03T06:56:26.512067",
     "exception": false,
     "start_time": "2022-02-03T06:56:19.912614",
     "status": "completed"
    },
    "tags": []
   },
   "outputs": [],
   "source": [
    "\n",
    "\n",
    "input_ids = Input(shape = (max_length,) , name = 'input_ids' , dtype = 'int32')\n",
    "\n",
    "#transformer_bert_model.trainable = False\n",
    "# Load the Transformers BERT model as a layer in a Keras model\n",
    "bert_model = transformer_bert_model(input_ids)[1]\n",
    "\n",
    "dropout = Dropout(config.hidden_dropout_prob, name='pooled_output')\n",
    "pooled_output = dropout(bert_model, training=False)\n",
    "\n",
    "\n",
    "# Then build your model output\n",
    "Sentiments = Dense(units=5, kernel_initializer=TruncatedNormal(stddev=config.initializer_range), name='Sentiment')(pooled_output)\n",
    "outputs = Sentiments\n",
    "bert_model = Model(inputs=input_ids, outputs=outputs, name='Bert-SentimentNetwork')\n"
   ]
  },
  {
   "cell_type": "code",
   "execution_count": 20,
   "id": "a457e4c3",
   "metadata": {
    "execution": {
     "iopub.execute_input": "2022-02-03T06:56:26.615347Z",
     "iopub.status.busy": "2022-02-03T06:56:26.614541Z",
     "iopub.status.idle": "2022-02-03T06:56:26.632985Z",
     "shell.execute_reply": "2022-02-03T06:56:26.633525Z",
     "shell.execute_reply.started": "2022-02-03T06:50:33.172806Z"
    },
    "papermill": {
     "duration": 0.072956,
     "end_time": "2022-02-03T06:56:26.633729",
     "exception": false,
     "start_time": "2022-02-03T06:56:26.560773",
     "status": "completed"
    },
    "tags": []
   },
   "outputs": [
    {
     "name": "stdout",
     "output_type": "stream",
     "text": [
      "Model: \"Bert-SentimentNetwork\"\n",
      "_________________________________________________________________\n",
      "Layer (type)                 Output Shape              Param #   \n",
      "=================================================================\n",
      "input_ids (InputLayer)       [(None, 45)]              0         \n",
      "_________________________________________________________________\n",
      "tf_bert_model (TFBertModel)  TFBaseModelOutputWithPool 109482240 \n",
      "_________________________________________________________________\n",
      "pooled_output (Dropout)      (None, 768)               0         \n",
      "_________________________________________________________________\n",
      "Sentiment (Dense)            (None, 5)                 3845      \n",
      "=================================================================\n",
      "Total params: 109,486,085\n",
      "Trainable params: 109,486,085\n",
      "Non-trainable params: 0\n",
      "_________________________________________________________________\n"
     ]
    }
   ],
   "source": [
    "bert_model.summary()"
   ]
  },
  {
   "cell_type": "code",
   "execution_count": 21,
   "id": "7599fd69",
   "metadata": {
    "execution": {
     "iopub.execute_input": "2022-02-03T06:56:26.747520Z",
     "iopub.status.busy": "2022-02-03T06:56:26.744450Z",
     "iopub.status.idle": "2022-02-03T06:56:36.569103Z",
     "shell.execute_reply": "2022-02-03T06:56:36.568132Z",
     "shell.execute_reply.started": "2022-02-03T06:50:33.198464Z"
    },
    "papermill": {
     "duration": 9.885676,
     "end_time": "2022-02-03T06:56:36.569256",
     "exception": false,
     "start_time": "2022-02-03T06:56:26.683580",
     "status": "completed"
    },
    "tags": []
   },
   "outputs": [],
   "source": [
    "optimizer = Adam(learning_rate=5e-05,epsilon=1e-08,decay=0.01,clipnorm=1.0)\n",
    "loss = {'Sentiment': CategoricalCrossentropy(from_logits = True)}\n",
    "bert_model.compile(optimizer = optimizer, loss = loss, metrics = ['accuracy'])\n",
    "\n",
    "\n",
    "\n",
    "x_train = bert_tokenizer(\n",
    "          text=X_train['Phrase'].to_list(),\n",
    "          add_special_tokens=True,\n",
    "          max_length=max_length,\n",
    "          truncation=True,\n",
    "          padding=True, \n",
    "          return_tensors='tf',\n",
    "          return_token_type_ids = False,\n",
    "          return_attention_mask = True,\n",
    "          verbose = True)\n",
    "\n",
    "\n",
    "\n",
    "x_val = bert_tokenizer(\n",
    "          text=X_val['Phrase'].to_list(),\n",
    "          add_special_tokens=True,\n",
    "          max_length=max_length,\n",
    "          truncation=True,\n",
    "          padding=True, \n",
    "          return_tensors='tf',\n",
    "          return_token_type_ids = False,\n",
    "          return_attention_mask = True,\n",
    "          verbose = True)\n"
   ]
  },
  {
   "cell_type": "code",
   "execution_count": 22,
   "id": "6836b443",
   "metadata": {
    "execution": {
     "iopub.execute_input": "2022-02-03T06:56:36.671725Z",
     "iopub.status.busy": "2022-02-03T06:56:36.670998Z",
     "iopub.status.idle": "2022-02-03T06:56:36.673226Z",
     "shell.execute_reply": "2022-02-03T06:56:36.673863Z",
     "shell.execute_reply.started": "2022-02-03T06:50:41.889621Z"
    },
    "papermill": {
     "duration": 0.0547,
     "end_time": "2022-02-03T06:56:36.674009",
     "exception": false,
     "start_time": "2022-02-03T06:56:36.619309",
     "status": "completed"
    },
    "tags": []
   },
   "outputs": [],
   "source": [
    "# callbacks = [\n",
    "#     EarlyStopping(patience=5),\n",
    "#     ReduceLROnPlateau(factor=0.3, patience=3, min_lr=0.00001 ),\n",
    "#     ModelCheckpoint('bert_model.h5')\n",
    "# ]"
   ]
  },
  {
   "cell_type": "code",
   "execution_count": 23,
   "id": "27acdb9c",
   "metadata": {
    "collapsed": true,
    "execution": {
     "iopub.execute_input": "2022-02-03T06:56:36.776936Z",
     "iopub.status.busy": "2022-02-03T06:56:36.776183Z",
     "iopub.status.idle": "2022-02-03T08:48:16.914060Z",
     "shell.execute_reply": "2022-02-03T08:48:16.914479Z",
     "shell.execute_reply.started": "2022-02-03T06:50:41.897407Z"
    },
    "jupyter": {
     "outputs_hidden": true
    },
    "papermill": {
     "duration": 6700.191924,
     "end_time": "2022-02-03T08:48:16.914675",
     "exception": false,
     "start_time": "2022-02-03T06:56:36.722751",
     "status": "completed"
    },
    "tags": []
   },
   "outputs": [
    {
     "name": "stderr",
     "output_type": "stream",
     "text": [
      "2022-02-03 06:56:36.837425: I tensorflow/compiler/mlir/mlir_graph_optimization_pass.cc:185] None of the MLIR Optimization Passes are enabled (registered 2)\n"
     ]
    },
    {
     "name": "stdout",
     "output_type": "stream",
     "text": [
      "Epoch 1/10\n",
      "548/548 [==============================] - 702s 1s/step - loss: 0.8239 - accuracy: 0.6610 - val_loss: 0.7354 - val_accuracy: 0.6958\n",
      "Epoch 2/10\n",
      "548/548 [==============================] - 664s 1s/step - loss: 0.7003 - accuracy: 0.7103 - val_loss: 0.7256 - val_accuracy: 0.6962\n",
      "Epoch 3/10\n",
      "548/548 [==============================] - 663s 1s/step - loss: 0.6682 - accuracy: 0.7230 - val_loss: 0.7238 - val_accuracy: 0.6971\n",
      "Epoch 4/10\n",
      "548/548 [==============================] - 663s 1s/step - loss: 0.6503 - accuracy: 0.7310 - val_loss: 0.7205 - val_accuracy: 0.6989\n",
      "Epoch 5/10\n",
      "548/548 [==============================] - 663s 1s/step - loss: 0.6390 - accuracy: 0.7371 - val_loss: 0.7208 - val_accuracy: 0.6983\n",
      "Epoch 6/10\n",
      "548/548 [==============================] - 663s 1s/step - loss: 0.6300 - accuracy: 0.7415 - val_loss: 0.7236 - val_accuracy: 0.6962\n",
      "Epoch 7/10\n",
      "548/548 [==============================] - 663s 1s/step - loss: 0.6232 - accuracy: 0.7444 - val_loss: 0.7207 - val_accuracy: 0.6987\n",
      "Epoch 8/10\n",
      "548/548 [==============================] - 664s 1s/step - loss: 0.6171 - accuracy: 0.7464 - val_loss: 0.7193 - val_accuracy: 0.6989\n",
      "Epoch 9/10\n",
      "548/548 [==============================] - 664s 1s/step - loss: 0.6131 - accuracy: 0.7486 - val_loss: 0.7251 - val_accuracy: 0.6939\n",
      "Epoch 10/10\n",
      "548/548 [==============================] - 664s 1s/step - loss: 0.6089 - accuracy: 0.7509 - val_loss: 0.7266 - val_accuracy: 0.6937\n"
     ]
    }
   ],
   "source": [
    "# Fit the model\n",
    "history = bert_model.fit(\n",
    "    x=x_train['input_ids'],\n",
    "    y= y_train,\n",
    "    validation_data=(x_val['input_ids'], y_val),\n",
    "    batch_size=256,\n",
    "    epochs=10,\n",
    "    )"
   ]
  },
  {
   "cell_type": "code",
   "execution_count": 24,
   "id": "1369e2c2",
   "metadata": {
    "execution": {
     "iopub.execute_input": "2022-02-03T08:48:19.878850Z",
     "iopub.status.busy": "2022-02-03T08:48:19.878049Z",
     "iopub.status.idle": "2022-02-03T08:48:57.097705Z",
     "shell.execute_reply": "2022-02-03T08:48:57.098155Z",
     "shell.execute_reply.started": "2022-02-03T06:51:11.898735Z"
    },
    "papermill": {
     "duration": 38.680239,
     "end_time": "2022-02-03T08:48:57.098316",
     "exception": false,
     "start_time": "2022-02-03T08:48:18.418077",
     "status": "completed"
    },
    "tags": []
   },
   "outputs": [],
   "source": [
    "y_val_pred = bert_model.predict(x_val['input_ids'])\n",
    "\n"
   ]
  },
  {
   "cell_type": "code",
   "execution_count": 25,
   "id": "ead7ca1d",
   "metadata": {
    "execution": {
     "iopub.execute_input": "2022-02-03T08:49:00.061250Z",
     "iopub.status.busy": "2022-02-03T08:49:00.060039Z",
     "iopub.status.idle": "2022-02-03T08:49:00.063828Z",
     "shell.execute_reply": "2022-02-03T08:49:00.063188Z",
     "shell.execute_reply.started": "2022-02-03T06:51:55.422585Z"
    },
    "papermill": {
     "duration": 1.512701,
     "end_time": "2022-02-03T08:49:00.063971",
     "exception": false,
     "start_time": "2022-02-03T08:48:58.551270",
     "status": "completed"
    },
    "tags": []
   },
   "outputs": [
    {
     "data": {
      "text/plain": [
       "(15571, 5)"
      ]
     },
     "execution_count": 25,
     "metadata": {},
     "output_type": "execute_result"
    }
   ],
   "source": [
    "y_val_pred.shape"
   ]
  },
  {
   "cell_type": "code",
   "execution_count": 26,
   "id": "46513c86",
   "metadata": {
    "execution": {
     "iopub.execute_input": "2022-02-03T08:49:03.046767Z",
     "iopub.status.busy": "2022-02-03T08:49:03.045689Z",
     "iopub.status.idle": "2022-02-03T08:49:03.049751Z",
     "shell.execute_reply": "2022-02-03T08:49:03.049300Z",
     "shell.execute_reply.started": "2022-02-03T06:51:55.429894Z"
    },
    "papermill": {
     "duration": 1.52164,
     "end_time": "2022-02-03T08:49:03.049864",
     "exception": false,
     "start_time": "2022-02-03T08:49:01.528224",
     "status": "completed"
    },
    "tags": []
   },
   "outputs": [
    {
     "name": "stdout",
     "output_type": "stream",
     "text": [
      "(15571,)\n",
      "(15571,)\n"
     ]
    }
   ],
   "source": [
    "y_val_pred_max = np.argmax(y_val_pred , axis = 1)\n",
    "y_val_gt_max = np.argmax(y_val , axis = 1)\n",
    "\n",
    "print(y_val_pred_max.shape)\n",
    "print(y_val_gt_max.shape)\n"
   ]
  },
  {
   "cell_type": "code",
   "execution_count": 27,
   "id": "403a0e99",
   "metadata": {
    "execution": {
     "iopub.execute_input": "2022-02-03T08:49:06.038438Z",
     "iopub.status.busy": "2022-02-03T08:49:06.037580Z",
     "iopub.status.idle": "2022-02-03T08:49:06.059959Z",
     "shell.execute_reply": "2022-02-03T08:49:06.060397Z",
     "shell.execute_reply.started": "2022-02-03T06:51:55.443752Z"
    },
    "papermill": {
     "duration": 1.502226,
     "end_time": "2022-02-03T08:49:06.060528",
     "exception": false,
     "start_time": "2022-02-03T08:49:04.558302",
     "status": "completed"
    },
    "tags": []
   },
   "outputs": [
    {
     "name": "stdout",
     "output_type": "stream",
     "text": [
      "              precision    recall  f1-score   support\n",
      "\n",
      "           0       0.56      0.50      0.53       782\n",
      "           1       0.63      0.58      0.60      2943\n",
      "           2       0.78      0.81      0.79      7661\n",
      "           3       0.59      0.62      0.61      3120\n",
      "           4       0.64      0.55      0.59      1065\n",
      "\n",
      "    accuracy                           0.69     15571\n",
      "   macro avg       0.64      0.61      0.62     15571\n",
      "weighted avg       0.69      0.69      0.69     15571\n",
      "\n"
     ]
    }
   ],
   "source": [
    "from sklearn.metrics import classification_report,confusion_matrix\n",
    "report = classification_report(y_val_pred_max, y_val_gt_max)\n",
    "\n",
    "print(report)"
   ]
  },
  {
   "cell_type": "code",
   "execution_count": 28,
   "id": "59f7e7c9",
   "metadata": {
    "execution": {
     "iopub.execute_input": "2022-02-03T08:49:09.273381Z",
     "iopub.status.busy": "2022-02-03T08:49:09.272591Z",
     "iopub.status.idle": "2022-02-03T08:49:09.563548Z",
     "shell.execute_reply": "2022-02-03T08:49:09.563139Z",
     "shell.execute_reply.started": "2022-02-03T06:51:55.474704Z"
    },
    "papermill": {
     "duration": 1.767977,
     "end_time": "2022-02-03T08:49:09.563691",
     "exception": false,
     "start_time": "2022-02-03T08:49:07.795714",
     "status": "completed"
    },
    "tags": []
   },
   "outputs": [
    {
     "name": "stdout",
     "output_type": "stream",
     "text": [
      "AxesSubplot(0.125,0.125;0.62x0.755)\n"
     ]
    },
    {
     "data": {
      "image/png": "[encoded data removed]",
      "text/plain": [
       "<Figure size 432x288 with 2 Axes>"
      ]
     },
     "metadata": {
      "needs_background": "light"
     },
     "output_type": "display_data"
    }
   ],
   "source": [
    "import seaborn as sns\n",
    "print(sns.heatmap(confusion_matrix(y_val_gt_max , y_val_pred_max) , annot=True))"
   ]
  },
  {
   "cell_type": "markdown",
   "id": "45da8f30",
   "metadata": {
    "papermill": {
     "duration": 1.523628,
     "end_time": "2022-02-03T08:49:12.559724",
     "exception": false,
     "start_time": "2022-02-03T08:49:11.036096",
     "status": "completed"
    },
    "tags": []
   },
   "source": [
    "#### b) RoBERTa"
   ]
  },
  {
   "cell_type": "code",
   "execution_count": 29,
   "id": "f4573f51",
   "metadata": {
    "execution": {
     "iopub.execute_input": "2022-02-03T08:49:15.536065Z",
     "iopub.status.busy": "2022-02-03T08:49:15.535305Z",
     "iopub.status.idle": "2022-02-03T08:49:56.517173Z",
     "shell.execute_reply": "2022-02-03T08:49:56.517580Z",
     "shell.execute_reply.started": "2022-02-03T06:51:55.773088Z"
    },
    "papermill": {
     "duration": 42.492847,
     "end_time": "2022-02-03T08:49:56.517764",
     "exception": false,
     "start_time": "2022-02-03T08:49:14.024917",
     "status": "completed"
    },
    "tags": []
   },
   "outputs": [
    {
     "data": {
      "application/vnd.jupyter.widget-view+json": {
       "model_id": "4036a259b64a4f5e9cd26f38c5b19101",
       "version_major": 2,
       "version_minor": 0
      },
      "text/plain": [
       "Downloading:   0%|          | 0.00/481 [00:00<?, ?B/s]"
      ]
     },
     "metadata": {},
     "output_type": "display_data"
    },
    {
     "data": {
      "application/vnd.jupyter.widget-view+json": {
       "model_id": "d8cea52d2e374ae6804fbea5a955d4dd",
       "version_major": 2,
       "version_minor": 0
      },
      "text/plain": [
       "Downloading:   0%|          | 0.00/878k [00:00<?, ?B/s]"
      ]
     },
     "metadata": {},
     "output_type": "display_data"
    },
    {
     "data": {
      "application/vnd.jupyter.widget-view+json": {
       "model_id": "228b0ec994434f95bed33fd3d8712043",
       "version_major": 2,
       "version_minor": 0
      },
      "text/plain": [
       "Downloading:   0%|          | 0.00/446k [00:00<?, ?B/s]"
      ]
     },
     "metadata": {},
     "output_type": "display_data"
    },
    {
     "data": {
      "application/vnd.jupyter.widget-view+json": {
       "model_id": "f1c7c1955f3f44f5b60c9541f2f6f707",
       "version_major": 2,
       "version_minor": 0
      },
      "text/plain": [
       "Downloading:   0%|          | 0.00/1.29M [00:00<?, ?B/s]"
      ]
     },
     "metadata": {},
     "output_type": "display_data"
    },
    {
     "data": {
      "application/vnd.jupyter.widget-view+json": {
       "model_id": "c5134394e0b54efc9c6637f7eef07c5f",
       "version_major": 2,
       "version_minor": 0
      },
      "text/plain": [
       "Downloading:   0%|          | 0.00/627M [00:00<?, ?B/s]"
      ]
     },
     "metadata": {},
     "output_type": "display_data"
    },
    {
     "name": "stderr",
     "output_type": "stream",
     "text": [
      "Some layers from the model checkpoint at roberta-base were not used when initializing TFRobertaModel: ['lm_head']\n",
      "- This IS expected if you are initializing TFRobertaModel from the checkpoint of a model trained on another task or with another architecture (e.g. initializing a BertForSequenceClassification model from a BertForPreTraining model).\n",
      "- This IS NOT expected if you are initializing TFRobertaModel from the checkpoint of a model that you expect to be exactly identical (initializing a BertForSequenceClassification model from a BertForSequenceClassification model).\n",
      "All the layers of TFRobertaModel were initialized from the model checkpoint at roberta-base.\n",
      "If your task is similar to the task the model of the checkpoint was trained on, you can already use TFRobertaModel for predictions without further training.\n"
     ]
    }
   ],
   "source": [
    "from transformers import RobertaTokenizer, TFRobertaModel, RobertaConfig \n",
    "\n",
    "model_name = 'roberta-base'\n",
    "max_length = 40\n",
    "\n",
    "config = RobertaConfig.from_pretrained(model_name)\n",
    "config.output_hidden_states = False\n",
    "\n",
    "roberta_tokenizer = RobertaTokenizer.from_pretrained(pretrained_model_name_or_path = model_name, config = config)\n",
    "\n",
    "transformer_roberta_model = TFRobertaModel.from_pretrained(model_name, config = config)"
   ]
  },
  {
   "cell_type": "code",
   "execution_count": 30,
   "id": "d1075535",
   "metadata": {
    "execution": {
     "iopub.execute_input": "2022-02-03T08:49:59.494816Z",
     "iopub.status.busy": "2022-02-03T08:49:59.493953Z",
     "iopub.status.idle": "2022-02-03T08:50:03.675131Z",
     "shell.execute_reply": "2022-02-03T08:50:03.674196Z",
     "shell.execute_reply.started": "2022-02-03T06:52:36.111067Z"
    },
    "papermill": {
     "duration": 5.700421,
     "end_time": "2022-02-03T08:50:03.675278",
     "exception": false,
     "start_time": "2022-02-03T08:49:57.974857",
     "status": "completed"
    },
    "tags": []
   },
   "outputs": [],
   "source": [
    "input_ids = Input(shape = (max_length,) , name = 'input_ids' , dtype = 'int32')\n",
    "\n",
    "#transformer_roberta_model.trainable = False\n",
    "# Load the Transformers RoBERTa model as a layer in a Keras model\n",
    "roberta_model = transformer_roberta_model(input_ids)[1]\n",
    "\n",
    "dropout = Dropout(config.hidden_dropout_prob, name='pooled_output')\n",
    "pooled_output = dropout(roberta_model, training=False)\n",
    "\n",
    "\n",
    "# Then build your model output\n",
    "Sentiments = Dense(units=5, kernel_initializer=TruncatedNormal(stddev=config.initializer_range), name='Sentiment')(pooled_output)\n",
    "outputs = Sentiments\n",
    "roberta_model = Model(inputs=input_ids, outputs=outputs, name='RobBERTa_Sentiment')"
   ]
  },
  {
   "cell_type": "code",
   "execution_count": 31,
   "id": "6842b3d6",
   "metadata": {
    "execution": {
     "iopub.execute_input": "2022-02-03T08:50:06.715644Z",
     "iopub.status.busy": "2022-02-03T08:50:06.714808Z",
     "iopub.status.idle": "2022-02-03T08:50:06.728997Z",
     "shell.execute_reply": "2022-02-03T08:50:06.728525Z",
     "shell.execute_reply.started": "2022-02-03T06:52:40.478225Z"
    },
    "papermill": {
     "duration": 1.484275,
     "end_time": "2022-02-03T08:50:06.729113",
     "exception": false,
     "start_time": "2022-02-03T08:50:05.244838",
     "status": "completed"
    },
    "tags": []
   },
   "outputs": [
    {
     "name": "stdout",
     "output_type": "stream",
     "text": [
      "Model: \"RobBERTa_Sentiment\"\n",
      "_________________________________________________________________\n",
      "Layer (type)                 Output Shape              Param #   \n",
      "=================================================================\n",
      "input_ids (InputLayer)       [(None, 40)]              0         \n",
      "_________________________________________________________________\n",
      "tf_roberta_model (TFRobertaM TFBaseModelOutputWithPool 124645632 \n",
      "_________________________________________________________________\n",
      "pooled_output (Dropout)      (None, 768)               0         \n",
      "_________________________________________________________________\n",
      "Sentiment (Dense)            (None, 5)                 3845      \n",
      "=================================================================\n",
      "Total params: 124,649,477\n",
      "Trainable params: 124,649,477\n",
      "Non-trainable params: 0\n",
      "_________________________________________________________________\n"
     ]
    }
   ],
   "source": [
    "roberta_model.summary()"
   ]
  },
  {
   "cell_type": "code",
   "execution_count": 32,
   "id": "4c1b751e",
   "metadata": {
    "execution": {
     "iopub.execute_input": "2022-02-03T08:50:09.686836Z",
     "iopub.status.busy": "2022-02-03T08:50:09.685333Z",
     "iopub.status.idle": "2022-02-03T08:50:35.761829Z",
     "shell.execute_reply": "2022-02-03T08:50:35.761341Z",
     "shell.execute_reply.started": "2022-02-03T06:52:40.504139Z"
    },
    "papermill": {
     "duration": 27.568972,
     "end_time": "2022-02-03T08:50:35.761962",
     "exception": false,
     "start_time": "2022-02-03T08:50:08.192990",
     "status": "completed"
    },
    "tags": []
   },
   "outputs": [],
   "source": [
    "optimizer = Adam(learning_rate=5e-05,epsilon=1e-08,decay=0.01,clipnorm=1.0)\n",
    "loss = {'Sentiment': CategoricalCrossentropy(from_logits = True)}\n",
    "roberta_model.compile(optimizer = optimizer, loss = loss, metrics = ['accuracy'])\n",
    "\n",
    "x_train = roberta_tokenizer(\n",
    "          text=X_train['Phrase'].to_list(),\n",
    "          add_special_tokens=True,\n",
    "          max_length=max_length,\n",
    "          truncation=True,\n",
    "          padding=True, \n",
    "          return_tensors='tf',\n",
    "          return_token_type_ids = False,\n",
    "          return_attention_mask = True,\n",
    "          verbose = True)\n",
    "\n",
    "\n",
    "\n",
    "x_val = roberta_tokenizer(\n",
    "          text=X_val['Phrase'].to_list(),\n",
    "          add_special_tokens=True,\n",
    "          max_length=max_length,\n",
    "          truncation=True,\n",
    "          padding=True, \n",
    "          return_tensors='tf',\n",
    "          return_token_type_ids = False,\n",
    "          return_attention_mask = True,\n",
    "          verbose = True)"
   ]
  },
  {
   "cell_type": "code",
   "execution_count": 33,
   "id": "666f4a50",
   "metadata": {
    "collapsed": true,
    "execution": {
     "iopub.execute_input": "2022-02-03T08:50:38.707105Z",
     "iopub.status.busy": "2022-02-03T08:50:38.706337Z",
     "iopub.status.idle": "2022-02-03T10:31:43.210381Z",
     "shell.execute_reply": "2022-02-03T10:31:43.211073Z",
     "shell.execute_reply.started": "2022-02-03T06:53:08.628744Z"
    },
    "jupyter": {
     "outputs_hidden": true
    },
    "papermill": {
     "duration": 6065.983054,
     "end_time": "2022-02-03T10:31:43.211287",
     "exception": false,
     "start_time": "2022-02-03T08:50:37.228233",
     "status": "completed"
    },
    "tags": []
   },
   "outputs": [
    {
     "name": "stdout",
     "output_type": "stream",
     "text": [
      "Epoch 1/10\n",
      "548/548 [==============================] - 625s 1s/step - loss: 0.8466 - accuracy: 0.6527 - val_loss: 0.7366 - val_accuracy: 0.6962\n",
      "Epoch 2/10\n",
      "548/548 [==============================] - 604s 1s/step - loss: 0.7160 - accuracy: 0.7029 - val_loss: 0.7326 - val_accuracy: 0.6910\n",
      "Epoch 3/10\n",
      "548/548 [==============================] - 604s 1s/step - loss: 0.6906 - accuracy: 0.7132 - val_loss: 0.7192 - val_accuracy: 0.6978\n",
      "Epoch 4/10\n",
      "548/548 [==============================] - 604s 1s/step - loss: 0.6747 - accuracy: 0.7200 - val_loss: 0.7302 - val_accuracy: 0.6902\n",
      "Epoch 5/10\n",
      "548/548 [==============================] - 604s 1s/step - loss: 0.6638 - accuracy: 0.7241 - val_loss: 0.7270 - val_accuracy: 0.6924\n",
      "Epoch 6/10\n",
      "548/548 [==============================] - 604s 1s/step - loss: 0.6561 - accuracy: 0.7285 - val_loss: 0.7191 - val_accuracy: 0.6989\n",
      "Epoch 7/10\n",
      "548/548 [==============================] - 604s 1s/step - loss: 0.6497 - accuracy: 0.7312 - val_loss: 0.7165 - val_accuracy: 0.7019\n",
      "Epoch 8/10\n",
      "548/548 [==============================] - 604s 1s/step - loss: 0.6448 - accuracy: 0.7328 - val_loss: 0.7190 - val_accuracy: 0.7000\n",
      "Epoch 9/10\n",
      "548/548 [==============================] - 604s 1s/step - loss: 0.6407 - accuracy: 0.7356 - val_loss: 0.7252 - val_accuracy: 0.6959\n",
      "Epoch 10/10\n",
      "548/548 [==============================] - 604s 1s/step - loss: 0.6364 - accuracy: 0.7366 - val_loss: 0.7229 - val_accuracy: 0.7001\n"
     ]
    }
   ],
   "source": [
    "history = roberta_model.fit(\n",
    "    x=x_train['input_ids'],\n",
    "    y= y_train,\n",
    "    validation_data=(x_val['input_ids'], y_val),\n",
    "    batch_size=256,\n",
    "    epochs=10,\n",
    "\n",
    ")"
   ]
  },
  {
   "cell_type": "markdown",
   "id": "16ed2dda",
   "metadata": {
    "papermill": {
     "duration": 3.172971,
     "end_time": "2022-02-03T10:31:49.265005",
     "exception": false,
     "start_time": "2022-02-03T10:31:46.092034",
     "status": "completed"
    },
    "tags": []
   },
   "source": [
    "### Step 6. Evaluating performance of both models on val set"
   ]
  },
  {
   "cell_type": "code",
   "execution_count": 34,
   "id": "e0bbf330",
   "metadata": {
    "execution": {
     "iopub.execute_input": "2022-02-03T10:31:55.007404Z",
     "iopub.status.busy": "2022-02-03T10:31:55.006587Z",
     "iopub.status.idle": "2022-02-03T10:32:29.739531Z",
     "shell.execute_reply": "2022-02-03T10:32:29.740010Z",
     "shell.execute_reply.started": "2022-02-03T06:53:57.668528Z"
    },
    "papermill": {
     "duration": 37.607917,
     "end_time": "2022-02-03T10:32:29.740182",
     "exception": false,
     "start_time": "2022-02-03T10:31:52.132265",
     "status": "completed"
    },
    "tags": []
   },
   "outputs": [],
   "source": [
    "y_val_pred = roberta_model.predict(x_val['input_ids'])"
   ]
  },
  {
   "cell_type": "code",
   "execution_count": 35,
   "id": "4f5b9294",
   "metadata": {
    "execution": {
     "iopub.execute_input": "2022-02-03T10:32:35.879051Z",
     "iopub.status.busy": "2022-02-03T10:32:35.877852Z",
     "iopub.status.idle": "2022-02-03T10:32:35.881364Z",
     "shell.execute_reply": "2022-02-03T10:32:35.880941Z",
     "shell.execute_reply.started": "2022-02-03T06:54:32.567329Z"
    },
    "papermill": {
     "duration": 2.951396,
     "end_time": "2022-02-03T10:32:35.881472",
     "exception": false,
     "start_time": "2022-02-03T10:32:32.930076",
     "status": "completed"
    },
    "tags": []
   },
   "outputs": [
    {
     "data": {
      "text/plain": [
       "(15571, 5)"
      ]
     },
     "execution_count": 35,
     "metadata": {},
     "output_type": "execute_result"
    }
   ],
   "source": [
    "y_val_pred.shape"
   ]
  },
  {
   "cell_type": "code",
   "execution_count": 36,
   "id": "55e0d603",
   "metadata": {
    "execution": {
     "iopub.execute_input": "2022-02-03T10:32:41.617354Z",
     "iopub.status.busy": "2022-02-03T10:32:41.616439Z",
     "iopub.status.idle": "2022-02-03T10:32:41.619765Z",
     "shell.execute_reply": "2022-02-03T10:32:41.620183Z",
     "shell.execute_reply.started": "2022-02-03T06:54:32.575207Z"
    },
    "papermill": {
     "duration": 2.905416,
     "end_time": "2022-02-03T10:32:41.620325",
     "exception": false,
     "start_time": "2022-02-03T10:32:38.714909",
     "status": "completed"
    },
    "tags": []
   },
   "outputs": [
    {
     "name": "stdout",
     "output_type": "stream",
     "text": [
      "(15571,)\n",
      "(15571,)\n"
     ]
    }
   ],
   "source": [
    "y_val_pred_max = np.argmax(y_val_pred , axis = 1)\n",
    "y_val_gt_max = np.argmax(y_val , axis = 1)\n",
    "\n",
    "print(y_val_pred_max.shape)\n",
    "print(y_val_gt_max.shape)"
   ]
  },
  {
   "cell_type": "code",
   "execution_count": 37,
   "id": "ef99c211",
   "metadata": {
    "execution": {
     "iopub.execute_input": "2022-02-03T10:32:48.125292Z",
     "iopub.status.busy": "2022-02-03T10:32:48.124462Z",
     "iopub.status.idle": "2022-02-03T10:32:48.150139Z",
     "shell.execute_reply": "2022-02-03T10:32:48.149697Z",
     "shell.execute_reply.started": "2022-02-03T06:54:32.589929Z"
    },
    "papermill": {
     "duration": 3.08394,
     "end_time": "2022-02-03T10:32:48.150251",
     "exception": false,
     "start_time": "2022-02-03T10:32:45.066311",
     "status": "completed"
    },
    "tags": []
   },
   "outputs": [
    {
     "name": "stdout",
     "output_type": "stream",
     "text": [
      "              precision    recall  f1-score   support\n",
      "\n",
      "           0       0.53      0.52      0.53       713\n",
      "           1       0.60      0.60      0.60      2737\n",
      "           2       0.79      0.80      0.80      7855\n",
      "           3       0.61      0.62      0.61      3208\n",
      "           4       0.65      0.56      0.60      1058\n",
      "\n",
      "    accuracy                           0.70     15571\n",
      "   macro avg       0.64      0.62      0.63     15571\n",
      "weighted avg       0.70      0.70      0.70     15571\n",
      "\n"
     ]
    }
   ],
   "source": [
    "from sklearn.metrics import classification_report,confusion_matrix\n",
    "report = classification_report(y_val_pred_max, y_val_gt_max)\n",
    "\n",
    "print(report)"
   ]
  },
  {
   "cell_type": "code",
   "execution_count": 38,
   "id": "44e4c7d2",
   "metadata": {
    "execution": {
     "iopub.execute_input": "2022-02-03T10:32:54.244521Z",
     "iopub.status.busy": "2022-02-03T10:32:54.243610Z",
     "iopub.status.idle": "2022-02-03T10:32:54.535129Z",
     "shell.execute_reply": "2022-02-03T10:32:54.535505Z",
     "shell.execute_reply.started": "2022-02-03T06:54:32.614950Z"
    },
    "papermill": {
     "duration": 3.511565,
     "end_time": "2022-02-03T10:32:54.535677",
     "exception": false,
     "start_time": "2022-02-03T10:32:51.024112",
     "status": "completed"
    },
    "tags": []
   },
   "outputs": [
    {
     "name": "stdout",
     "output_type": "stream",
     "text": [
      "AxesSubplot(0.125,0.125;0.62x0.755)\n"
     ]
    },
    {
     "data": {
      "image/png": "[encoded data removed]",
      "text/plain": [
       "<Figure size 432x288 with 2 Axes>"
      ]
     },
     "metadata": {
      "needs_background": "light"
     },
     "output_type": "display_data"
    }
   ],
   "source": [
    "import seaborn as sns\n",
    "print(sns.heatmap(confusion_matrix(y_val_gt_max , y_val_pred_max) , annot=True))"
   ]
  },
  {
   "cell_type": "code",
   "execution_count": null,
   "id": "2b6d51a8",
   "metadata": {
    "papermill": {
     "duration": 2.871976,
     "end_time": "2022-02-03T10:33:00.286227",
     "exception": false,
     "start_time": "2022-02-03T10:32:57.414251",
     "status": "completed"
    },
    "tags": []
   },
   "outputs": [],
   "source": []
  },
  {
   "cell_type": "code",
   "execution_count": null,
   "id": "c62ed620",
   "metadata": {
    "papermill": {
     "duration": 3.141712,
     "end_time": "2022-02-03T10:33:06.382708",
     "exception": false,
     "start_time": "2022-02-03T10:33:03.240996",
     "status": "completed"
    },
    "tags": []
   },
   "outputs": [],
   "source": []
  },
  {
   "cell_type": "code",
   "execution_count": null,
   "id": "4102314a",
   "metadata": {
    "papermill": {
     "duration": 2.884236,
     "end_time": "2022-02-03T10:33:12.161336",
     "exception": false,
     "start_time": "2022-02-03T10:33:09.277100",
     "status": "completed"
    },
    "tags": []
   },
   "outputs": [],
   "source": []
  },
  {
   "cell_type": "code",
   "execution_count": null,
   "id": "bf0f769c",
   "metadata": {
    "papermill": {
     "duration": 3.422357,
     "end_time": "2022-02-03T10:33:18.718789",
     "exception": false,
     "start_time": "2022-02-03T10:33:15.296432",
     "status": "completed"
    },
    "tags": []
   },
   "outputs": [],
   "source": []
  },
  {
   "cell_type": "code",
   "execution_count": null,
   "id": "a82fc2ad",
   "metadata": {
    "papermill": {
     "duration": 2.983473,
     "end_time": "2022-02-03T10:33:24.577735",
     "exception": false,
     "start_time": "2022-02-03T10:33:21.594262",
     "status": "completed"
    },
    "tags": []
   },
   "outputs": [],
   "source": []
  },
  {
   "cell_type": "code",
   "execution_count": null,
   "id": "33d4e462",
   "metadata": {
    "papermill": {
     "duration": 2.880704,
     "end_time": "2022-02-03T10:33:30.600846",
     "exception": false,
     "start_time": "2022-02-03T10:33:27.720142",
     "status": "completed"
    },
    "tags": []
   },
   "outputs": [],
   "source": []
  },
  {
   "cell_type": "code",
   "execution_count": null,
   "id": "c063462c",
   "metadata": {
    "papermill": {
     "duration": 2.9502,
     "end_time": "2022-02-03T10:33:36.450698",
     "exception": false,
     "start_time": "2022-02-03T10:33:33.500498",
     "status": "completed"
    },
    "tags": []
   },
   "outputs": [],
   "source": []
  },
  {
   "cell_type": "code",
   "execution_count": null,
   "id": "6a6d1be5",
   "metadata": {
    "papermill": {
     "duration": 2.861993,
     "end_time": "2022-02-03T10:33:42.476262",
     "exception": false,
     "start_time": "2022-02-03T10:33:39.614269",
     "status": "completed"
    },
    "tags": []
   },
   "outputs": [],
   "source": []
  },
  {
   "cell_type": "code",
   "execution_count": null,
   "id": "d77f9870",
   "metadata": {
    "papermill": {
     "duration": 3.173232,
     "end_time": "2022-02-03T10:33:48.595888",
     "exception": false,
     "start_time": "2022-02-03T10:33:45.422656",
     "status": "completed"
    },
    "tags": []
   },
   "outputs": [],
   "source": []
  },
  {
   "cell_type": "code",
   "execution_count": null,
   "id": "a4c74831",
   "metadata": {
    "papermill": {
     "duration": 2.863292,
     "end_time": "2022-02-03T10:33:54.823147",
     "exception": false,
     "start_time": "2022-02-03T10:33:51.959855",
     "status": "completed"
    },
    "tags": []
   },
   "outputs": [],
   "source": []
  },
  {
   "cell_type": "code",
   "execution_count": null,
   "id": "dea3fde1",
   "metadata": {
    "papermill": {
     "duration": 3.118593,
     "end_time": "2022-02-03T10:34:00.886050",
     "exception": false,
     "start_time": "2022-02-03T10:33:57.767457",
     "status": "completed"
    },
    "tags": []
   },
   "outputs": [],
   "source": []
  },
  {
   "cell_type": "code",
   "execution_count": null,
   "id": "06dd3028",
   "metadata": {
    "papermill": {
     "duration": 2.922571,
     "end_time": "2022-02-03T10:34:06.718299",
     "exception": false,
     "start_time": "2022-02-03T10:34:03.795728",
     "status": "completed"
    },
    "tags": []
   },
   "outputs": [],
   "source": []
  },
  {
   "cell_type": "code",
   "execution_count": null,
   "id": "996b55d4",
   "metadata": {
    "papermill": {
     "duration": 3.169567,
     "end_time": "2022-02-03T10:34:12.766215",
     "exception": false,
     "start_time": "2022-02-03T10:34:09.596648",
     "status": "completed"
    },
    "tags": []
   },
   "outputs": [],
   "source": []
  },
  {
   "cell_type": "code",
   "execution_count": null,
   "id": "b24fa20a",
   "metadata": {
    "papermill": {
     "duration": 2.95165,
     "end_time": "2022-02-03T10:34:18.629988",
     "exception": false,
     "start_time": "2022-02-03T10:34:15.678338",
     "status": "completed"
    },
    "tags": []
   },
   "outputs": [],
   "source": []
  },
  {
   "cell_type": "code",
   "execution_count": null,
   "id": "9283e59c",
   "metadata": {
    "papermill": {
     "duration": 3.351648,
     "end_time": "2022-02-03T10:34:25.109124",
     "exception": false,
     "start_time": "2022-02-03T10:34:21.757476",
     "status": "completed"
    },
    "tags": []
   },
   "outputs": [],
   "source": []
  }
 ],
 "metadata": {
  "kernelspec": {
   "display_name": "Python 3",
   "language": "python",
   "name": "python3"
  },
  "language_info": {
   "codemirror_mode": {
    "name": "ipython",
    "version": 3
   },
   "file_extension": ".py",
   "mimetype": "text/x-python",
   "name": "python",
   "nbconvert_exporter": "python",
   "pygments_lexer": "ipython3",
   "version": "3.7.12"
  },
  "papermill": {
   "default_parameters": {},
   "duration": 13155.262736,
   "end_time": "2022-02-03T10:34:31.318952",
   "environment_variables": {},
   "exception": null,
   "input_path": "__notebook__.ipynb",
   "output_path": "__notebook__.ipynb",
   "parameters": {},
   "start_time": "2022-02-03T06:55:16.056216",
   "version": "2.3.3"
  },
  "widgets": {
   "application/vnd.jupyter.widget-state+json": {
    "state": {
     "01fb9ba3377f478ea9a1954363bfcc0d": {
      "model_module": "@jupyter-widgets/controls",
      "model_module_version": "1.5.0",
      "model_name": "ProgressStyleModel",
      "state": {
       "_model_module": "@jupyter-widgets/controls",
       "_model_module_version": "1.5.0",
       "_model_name": "ProgressStyleModel",
       "_view_count": null,
       "_view_module": "@jupyter-widgets/base",
       "_view_module_version": "1.2.0",
       "_view_name": "StyleView",
       "bar_color": null,
       "description_width": ""
      }
     },
     "01fbb87c581e42eab031e25dbb7b7607": {
      "model_module": "@jupyter-widgets/controls",
      "model_module_version": "1.5.0",
      "model_name": "DescriptionStyleModel",
      "state": {
       "_model_module": "@jupyter-widgets/controls",
       "_model_module_version": "1.5.0",
       "_model_name": "DescriptionStyleModel",
       "_view_count": null,
       "_view_module": "@jupyter-widgets/base",
       "_view_module_version": "1.2.0",
       "_view_name": "StyleView",
       "description_width": ""
      }
     },
     "03ba9315102e402cbf82b22d493f1eb4": {
      "model_module": "@jupyter-widgets/controls",
      "model_module_version": "1.5.0",
      "model_name": "ProgressStyleModel",
      "state": {
       "_model_module": "@jupyter-widgets/controls",
       "_model_module_version": "1.5.0",
       "_model_name": "ProgressStyleModel",
       "_view_count": null,
       "_view_module": "@jupyter-widgets/base",
       "_view_module_version": "1.2.0",
       "_view_name": "StyleView",
       "bar_color": null,
       "description_width": ""
      }
     },
     "0903ec7876f14a1fb47e54b0d24805f5": {
      "model_module": "@jupyter-widgets/base",
      "model_module_version": "1.2.0",
      "model_name": "LayoutModel",
      "state": {
       "_model_module": "@jupyter-widgets/base",
       "_model_module_version": "1.2.0",
       "_model_name": "LayoutModel",
       "_view_count": null,
       "_view_module": "@jupyter-widgets/base",
       "_view_module_version": "1.2.0",
       "_view_name": "LayoutView",
       "align_content": null,
       "align_items": null,
       "align_self": null,
       "border": null,
       "bottom": null,
       "display": null,
       "flex": null,
       "flex_flow": null,
       "grid_area": null,
       "grid_auto_columns": null,
       "grid_auto_flow": null,
       "grid_auto_rows": null,
       "grid_column": null,
       "grid_gap": null,
       "grid_row": null,
       "grid_template_areas": null,
       "grid_template_columns": null,
       "grid_template_rows": null,
       "height": null,
       "justify_content": null,
       "justify_items": null,
       "left": null,
       "margin": null,
       "max_height": null,
       "max_width": null,
       "min_height": null,
       "min_width": null,
       "object_fit": null,
       "object_position": null,
       "order": null,
       "overflow": null,
       "overflow_x": null,
       "overflow_y": null,
       "padding": null,
       "right": null,
       "top": null,
       "visibility": null,
       "width": null
      }
     },
     "09bebe053e4b4c06bb9861c71a4fb8e0": {
      "model_module": "@jupyter-widgets/controls",
      "model_module_version": "1.5.0",
      "model_name": "HTMLModel",
      "state": {
       "_dom_classes": [],
       "_model_module": "@jupyter-widgets/controls",
       "_model_module_version": "1.5.0",
       "_model_name": "HTMLModel",
       "_view_count": null,
       "_view_module": "@jupyter-widgets/controls",
       "_view_module_version": "1.5.0",
       "_view_name": "HTMLView",
       "description": "",
       "description_tooltip": null,
       "layout": "IPY_MODEL_831e44308c1241ccaceaf00360868dc1",
       "placeholder": "​",
       "style": "IPY_MODEL_8e7ef03b122c4916aa2b2817bbbb2f61",
       "value": " 570/570 [00:00&lt;00:00, 22.8kB/s]"
      }
     },
     "0d5f2dcb27be461d9a2feb8c0622a44b": {
      "model_module": "@jupyter-widgets/base",
      "model_module_version": "1.2.0",
      "model_name": "LayoutModel",
      "state": {
       "_model_module": "@jupyter-widgets/base",
       "_model_module_version": "1.2.0",
       "_model_name": "LayoutModel",
       "_view_count": null,
       "_view_module": "@jupyter-widgets/base",
       "_view_module_version": "1.2.0",
       "_view_name": "LayoutView",
       "align_content": null,
       "align_items": null,
       "align_self": null,
       "border": null,
       "bottom": null,
       "display": null,
       "flex": null,
       "flex_flow": null,
       "grid_area": null,
       "grid_auto_columns": null,
       "grid_auto_flow": null,
       "grid_auto_rows": null,
       "grid_column": null,
       "grid_gap": null,
       "grid_row": null,
       "grid_template_areas": null,
       "grid_template_columns": null,
       "grid_template_rows": null,
       "height": null,
       "justify_content": null,
       "justify_items": null,
       "left": null,
       "margin": null,
       "max_height": null,
       "max_width": null,
       "min_height": null,
       "min_width": null,
       "object_fit": null,
       "object_position": null,
       "order": null,
       "overflow": null,
       "overflow_x": null,
       "overflow_y": null,
       "padding": null,
       "right": null,
       "top": null,
       "visibility": null,
       "width": null
      }
     },
     "0eda756617d04ecaac2bc3ee4a4118f7": {
      "model_module": "@jupyter-widgets/controls",
      "model_module_version": "1.5.0",
      "model_name": "HTMLModel",
      "state": {
       "_dom_classes": [],
       "_model_module": "@jupyter-widgets/controls",
       "_model_module_version": "1.5.0",
       "_model_name": "HTMLModel",
       "_view_count": null,
       "_view_module": "@jupyter-widgets/controls",
       "_view_module_version": "1.5.0",
       "_view_name": "HTMLView",
       "description": "",
       "description_tooltip": null,
       "layout": "IPY_MODEL_0d5f2dcb27be461d9a2feb8c0622a44b",
       "placeholder": "​",
       "style": "IPY_MODEL_531c7792313d4186b8dfde4d159cf9be",
       "value": "Downloading: 100%"
      }
     },
     "0f41b6b3e54f41f2afc4783845b4768f": {
      "model_module": "@jupyter-widgets/controls",
      "model_module_version": "1.5.0",
      "model_name": "DescriptionStyleModel",
      "state": {
       "_model_module": "@jupyter-widgets/controls",
       "_model_module_version": "1.5.0",
       "_model_name": "DescriptionStyleModel",
       "_view_count": null,
       "_view_module": "@jupyter-widgets/base",
       "_view_module_version": "1.2.0",
       "_view_name": "StyleView",
       "description_width": ""
      }
     },
     "101428037c634d129cd58c55bdd979bc": {
      "model_module": "@jupyter-widgets/controls",
      "model_module_version": "1.5.0",
      "model_name": "DescriptionStyleModel",
      "state": {
       "_model_module": "@jupyter-widgets/controls",
       "_model_module_version": "1.5.0",
       "_model_name": "DescriptionStyleModel",
       "_view_count": null,
       "_view_module": "@jupyter-widgets/base",
       "_view_module_version": "1.2.0",
       "_view_name": "StyleView",
       "description_width": ""
      }
     },
     "109209afeac34b74a5b5a93e25e8f4c6": {
      "model_module": "@jupyter-widgets/base",
      "model_module_version": "1.2.0",
      "model_name": "LayoutModel",
      "state": {
       "_model_module": "@jupyter-widgets/base",
       "_model_module_version": "1.2.0",
       "_model_name": "LayoutModel",
       "_view_count": null,
       "_view_module": "@jupyter-widgets/base",
       "_view_module_version": "1.2.0",
       "_view_name": "LayoutView",
       "align_content": null,
       "align_items": null,
       "align_self": null,
       "border": null,
       "bottom": null,
       "display": null,
       "flex": null,
       "flex_flow": null,
       "grid_area": null,
       "grid_auto_columns": null,
       "grid_auto_flow": null,
       "grid_auto_rows": null,
       "grid_column": null,
       "grid_gap": null,
       "grid_row": null,
       "grid_template_areas": null,
       "grid_template_columns": null,
       "grid_template_rows": null,
       "height": null,
       "justify_content": null,
       "justify_items": null,
       "left": null,
       "margin": null,
       "max_height": null,
       "max_width": null,
       "min_height": null,
       "min_width": null,
       "object_fit": null,
       "object_position": null,
       "order": null,
       "overflow": null,
       "overflow_x": null,
       "overflow_y": null,
       "padding": null,
       "right": null,
       "top": null,
       "visibility": null,
       "width": null
      }
     },
     "13b8ea64cc224027a9d3b5fa7baa0295": {
      "model_module": "@jupyter-widgets/controls",
      "model_module_version": "1.5.0",
      "model_name": "HBoxModel",
      "state": {
       "_dom_classes": [],
       "_model_module": "@jupyter-widgets/controls",
       "_model_module_version": "1.5.0",
       "_model_name": "HBoxModel",
       "_view_count": null,
       "_view_module": "@jupyter-widgets/controls",
       "_view_module_version": "1.5.0",
       "_view_name": "HBoxView",
       "box_style": "",
       "children": [
        "IPY_MODEL_842bed592c6040738dd9cc14e3ee79fc",
        "IPY_MODEL_6778b090caaa4413a28835d32122641f",
        "IPY_MODEL_13e5becb9fbf45e2999a90fcf80b3c61"
       ],
       "layout": "IPY_MODEL_7859dcc74016434db4463d63216d8cac"
      }
     },
     "13e5becb9fbf45e2999a90fcf80b3c61": {
      "model_module": "@jupyter-widgets/controls",
      "model_module_version": "1.5.0",
      "model_name": "HTMLModel",
      "state": {
       "_dom_classes": [],
       "_model_module": "@jupyter-widgets/controls",
       "_model_module_version": "1.5.0",
       "_model_name": "HTMLModel",
       "_view_count": null,
       "_view_module": "@jupyter-widgets/controls",
       "_view_module_version": "1.5.0",
       "_view_name": "HTMLView",
       "description": "",
       "description_tooltip": null,
       "layout": "IPY_MODEL_9289238cc81c4c478bffa88f36f10188",
       "placeholder": "​",
       "style": "IPY_MODEL_2329d727bc764ccb92660cf42d195b6f",
       "value": " 28.0/28.0 [00:00&lt;00:00, 1.15kB/s]"
      }
     },
     "192cdab124aa400891f5be14e3f7d319": {
      "model_module": "@jupyter-widgets/controls",
      "model_module_version": "1.5.0",
      "model_name": "HTMLModel",
      "state": {
       "_dom_classes": [],
       "_model_module": "@jupyter-widgets/controls",
       "_model_module_version": "1.5.0",
       "_model_name": "HTMLModel",
       "_view_count": null,
       "_view_module": "@jupyter-widgets/controls",
       "_view_module_version": "1.5.0",
       "_view_name": "HTMLView",
       "description": "",
       "description_tooltip": null,
       "layout": "IPY_MODEL_86ef7757404e4cc781896376fa37fbb3",
       "placeholder": "​",
       "style": "IPY_MODEL_feec941dc5f945ad91c5623ce529142c",
       "value": " 446k/446k [00:00&lt;00:00, 645kB/s]"
      }
     },
     "1984c91e8d79487d9486359f1b73ebad": {
      "model_module": "@jupyter-widgets/controls",
      "model_module_version": "1.5.0",
      "model_name": "FloatProgressModel",
      "state": {
       "_dom_classes": [],
       "_model_module": "@jupyter-widgets/controls",
       "_model_module_version": "1.5.0",
       "_model_name": "FloatProgressModel",
       "_view_count": null,
       "_view_module": "@jupyter-widgets/controls",
       "_view_module_version": "1.5.0",
       "_view_name": "ProgressView",
       "bar_style": "success",
       "description": "",
       "description_tooltip": null,
       "layout": "IPY_MODEL_76ca2b930b9549cabbf1bcc67e307eda",
       "max": 898823.0,
       "min": 0.0,
       "orientation": "horizontal",
       "style": "IPY_MODEL_d930c26d377e4f6a8cda69defa23a75d",
       "value": 898823.0
      }
     },
     "1b355b88ac864dcaa83e1223df3b6db9": {
      "model_module": "@jupyter-widgets/base",
      "model_module_version": "1.2.0",
      "model_name": "LayoutModel",
      "state": {
       "_model_module": "@jupyter-widgets/base",
       "_model_module_version": "1.2.0",
       "_model_name": "LayoutModel",
       "_view_count": null,
       "_view_module": "@jupyter-widgets/base",
       "_view_module_version": "1.2.0",
       "_view_name": "LayoutView",
       "align_content": null,
       "align_items": null,
       "align_self": null,
       "border": null,
       "bottom": null,
       "display": null,
       "flex": null,
       "flex_flow": null,
       "grid_area": null,
       "grid_auto_columns": null,
       "grid_auto_flow": null,
       "grid_auto_rows": null,
       "grid_column": null,
       "grid_gap": null,
       "grid_row": null,
       "grid_template_areas": null,
       "grid_template_columns": null,
       "grid_template_rows": null,
       "height": null,
       "justify_content": null,
       "justify_items": null,
       "left": null,
       "margin": null,
       "max_height": null,
       "max_width": null,
       "min_height": null,
       "min_width": null,
       "object_fit": null,
       "object_position": null,
       "order": null,
       "overflow": null,
       "overflow_x": null,
       "overflow_y": null,
       "padding": null,
       "right": null,
       "top": null,
       "visibility": null,
       "width": null
      }
     },
     "1def0123f2d64681b5c29cf57a3fcff8": {
      "model_module": "@jupyter-widgets/base",
      "model_module_version": "1.2.0",
      "model_name": "LayoutModel",
      "state": {
       "_model_module": "@jupyter-widgets/base",
       "_model_module_version": "1.2.0",
       "_model_name": "LayoutModel",
       "_view_count": null,
       "_view_module": "@jupyter-widgets/base",
       "_view_module_version": "1.2.0",
       "_view_name": "LayoutView",
       "align_content": null,
       "align_items": null,
       "align_self": null,
       "border": null,
       "bottom": null,
       "display": null,
       "flex": null,
       "flex_flow": null,
       "grid_area": null,
       "grid_auto_columns": null,
       "grid_auto_flow": null,
       "grid_auto_rows": null,
       "grid_column": null,
       "grid_gap": null,
       "grid_row": null,
       "grid_template_areas": null,
       "grid_template_columns": null,
       "grid_template_rows": null,
       "height": null,
       "justify_content": null,
       "justify_items": null,
       "left": null,
       "margin": null,
       "max_height": null,
       "max_width": null,
       "min_height": null,
       "min_width": null,
       "object_fit": null,
       "object_position": null,
       "order": null,
       "overflow": null,
       "overflow_x": null,
       "overflow_y": null,
       "padding": null,
       "right": null,
       "top": null,
       "visibility": null,
       "width": null
      }
     },
     "20ffa427c1ff47f5a4e5620edafa2c60": {
      "model_module": "@jupyter-widgets/base",
      "model_module_version": "1.2.0",
      "model_name": "LayoutModel",
      "state": {
       "_model_module": "@jupyter-widgets/base",
       "_model_module_version": "1.2.0",
       "_model_name": "LayoutModel",
       "_view_count": null,
       "_view_module": "@jupyter-widgets/base",
       "_view_module_version": "1.2.0",
       "_view_name": "LayoutView",
       "align_content": null,
       "align_items": null,
       "align_self": null,
       "border": null,
       "bottom": null,
       "display": null,
       "flex": null,
       "flex_flow": null,
       "grid_area": null,
       "grid_auto_columns": null,
       "grid_auto_flow": null,
       "grid_auto_rows": null,
       "grid_column": null,
       "grid_gap": null,
       "grid_row": null,
       "grid_template_areas": null,
       "grid_template_columns": null,
       "grid_template_rows": null,
       "height": null,
       "justify_content": null,
       "justify_items": null,
       "left": null,
       "margin": null,
       "max_height": null,
       "max_width": null,
       "min_height": null,
       "min_width": null,
       "object_fit": null,
       "object_position": null,
       "order": null,
       "overflow": null,
       "overflow_x": null,
       "overflow_y": null,
       "padding": null,
       "right": null,
       "top": null,
       "visibility": null,
       "width": null
      }
     },
     "228b0ec994434f95bed33fd3d8712043": {
      "model_module": "@jupyter-widgets/controls",
      "model_module_version": "1.5.0",
      "model_name": "HBoxModel",
      "state": {
       "_dom_classes": [],
       "_model_module": "@jupyter-widgets/controls",
       "_model_module_version": "1.5.0",
       "_model_name": "HBoxModel",
       "_view_count": null,
       "_view_module": "@jupyter-widgets/controls",
       "_view_module_version": "1.5.0",
       "_view_name": "HBoxView",
       "box_style": "",
       "children": [
        "IPY_MODEL_2a7f5f2db4924152bee33882e6a1f4b9",
        "IPY_MODEL_daef12aae36a4e88b64cd78da3ce73ae",
        "IPY_MODEL_192cdab124aa400891f5be14e3f7d319"
       ],
       "layout": "IPY_MODEL_a6e61f980fbc45cabbe1d6b369b3c3c0"
      }
     },
     "2329d727bc764ccb92660cf42d195b6f": {
      "model_module": "@jupyter-widgets/controls",
      "model_module_version": "1.5.0",
      "model_name": "DescriptionStyleModel",
      "state": {
       "_model_module": "@jupyter-widgets/controls",
       "_model_module_version": "1.5.0",
       "_model_name": "DescriptionStyleModel",
       "_view_count": null,
       "_view_module": "@jupyter-widgets/base",
       "_view_module_version": "1.2.0",
       "_view_name": "StyleView",
       "description_width": ""
      }
     },
     "259587dc2b7c4f60b1d64bd8e80e42d3": {
      "model_module": "@jupyter-widgets/controls",
      "model_module_version": "1.5.0",
      "model_name": "ProgressStyleModel",
      "state": {
       "_model_module": "@jupyter-widgets/controls",
       "_model_module_version": "1.5.0",
       "_model_name": "ProgressStyleModel",
       "_view_count": null,
       "_view_module": "@jupyter-widgets/base",
       "_view_module_version": "1.2.0",
       "_view_name": "StyleView",
       "bar_color": null,
       "description_width": ""
      }
     },
     "28566bf1f286413e9f2d3f2224b9893d": {
      "model_module": "@jupyter-widgets/controls",
      "model_module_version": "1.5.0",
      "model_name": "FloatProgressModel",
      "state": {
       "_dom_classes": [],
       "_model_module": "@jupyter-widgets/controls",
       "_model_module_version": "1.5.0",
       "_model_name": "FloatProgressModel",
       "_view_count": null,
       "_view_module": "@jupyter-widgets/controls",
       "_view_module_version": "1.5.0",
       "_view_name": "ProgressView",
       "bar_style": "success",
       "description": "",
       "description_tooltip": null,
       "layout": "IPY_MODEL_0903ec7876f14a1fb47e54b0d24805f5",
       "max": 570.0,
       "min": 0.0,
       "orientation": "horizontal",
       "style": "IPY_MODEL_b5f7ba4603a04debab87ff9d07e554c7",
       "value": 570.0
      }
     },
     "29d946f25f2a4922b411b6606ddb55f3": {
      "model_module": "@jupyter-widgets/base",
      "model_module_version": "1.2.0",
      "model_name": "LayoutModel",
      "state": {
       "_model_module": "@jupyter-widgets/base",
       "_model_module_version": "1.2.0",
       "_model_name": "LayoutModel",
       "_view_count": null,
       "_view_module": "@jupyter-widgets/base",
       "_view_module_version": "1.2.0",
       "_view_name": "LayoutView",
       "align_content": null,
       "align_items": null,
       "align_self": null,
       "border": null,
       "bottom": null,
       "display": null,
       "flex": null,
       "flex_flow": null,
       "grid_area": null,
       "grid_auto_columns": null,
       "grid_auto_flow": null,
       "grid_auto_rows": null,
       "grid_column": null,
       "grid_gap": null,
       "grid_row": null,
       "grid_template_areas": null,
       "grid_template_columns": null,
       "grid_template_rows": null,
       "height": null,
       "justify_content": null,
       "justify_items": null,
       "left": null,
       "margin": null,
       "max_height": null,
       "max_width": null,
       "min_height": null,
       "min_width": null,
       "object_fit": null,
       "object_position": null,
       "order": null,
       "overflow": null,
       "overflow_x": null,
       "overflow_y": null,
       "padding": null,
       "right": null,
       "top": null,
       "visibility": null,
       "width": null
      }
     },
     "2a7f5f2db4924152bee33882e6a1f4b9": {
      "model_module": "@jupyter-widgets/controls",
      "model_module_version": "1.5.0",
      "model_name": "HTMLModel",
      "state": {
       "_dom_classes": [],
       "_model_module": "@jupyter-widgets/controls",
       "_model_module_version": "1.5.0",
       "_model_name": "HTMLModel",
       "_view_count": null,
       "_view_module": "@jupyter-widgets/controls",
       "_view_module_version": "1.5.0",
       "_view_name": "HTMLView",
       "description": "",
       "description_tooltip": null,
       "layout": "IPY_MODEL_20ffa427c1ff47f5a4e5620edafa2c60",
       "placeholder": "​",
       "style": "IPY_MODEL_9947ca3db9f4484da8a371e408369c74",
       "value": "Downloading: 100%"
      }
     },
     "2c83aa4bacc04ded8ec7a4f058c25724": {
      "model_module": "@jupyter-widgets/base",
      "model_module_version": "1.2.0",
      "model_name": "LayoutModel",
      "state": {
       "_model_module": "@jupyter-widgets/base",
       "_model_module_version": "1.2.0",
       "_model_name": "LayoutModel",
       "_view_count": null,
       "_view_module": "@jupyter-widgets/base",
       "_view_module_version": "1.2.0",
       "_view_name": "LayoutView",
       "align_content": null,
       "align_items": null,
       "align_self": null,
       "border": null,
       "bottom": null,
       "display": null,
       "flex": null,
       "flex_flow": null,
       "grid_area": null,
       "grid_auto_columns": null,
       "grid_auto_flow": null,
       "grid_auto_rows": null,
       "grid_column": null,
       "grid_gap": null,
       "grid_row": null,
       "grid_template_areas": null,
       "grid_template_columns": null,
       "grid_template_rows": null,
       "height": null,
       "justify_content": null,
       "justify_items": null,
       "left": null,
       "margin": null,
       "max_height": null,
       "max_width": null,
       "min_height": null,
       "min_width": null,
       "object_fit": null,
       "object_position": null,
       "order": null,
       "overflow": null,
       "overflow_x": null,
       "overflow_y": null,
       "padding": null,
       "right": null,
       "top": null,
       "visibility": null,
       "width": null
      }
     },
     "2f28a8462112454ba33836c8084f590c": {
      "model_module": "@jupyter-widgets/base",
      "model_module_version": "1.2.0",
      "model_name": "LayoutModel",
      "state": {
       "_model_module": "@jupyter-widgets/base",
       "_model_module_version": "1.2.0",
       "_model_name": "LayoutModel",
       "_view_count": null,
       "_view_module": "@jupyter-widgets/base",
       "_view_module_version": "1.2.0",
       "_view_name": "LayoutView",
       "align_content": null,
       "align_items": null,
       "align_self": null,
       "border": null,
       "bottom": null,
       "display": null,
       "flex": null,
       "flex_flow": null,
       "grid_area": null,
       "grid_auto_columns": null,
       "grid_auto_flow": null,
       "grid_auto_rows": null,
       "grid_column": null,
       "grid_gap": null,
       "grid_row": null,
       "grid_template_areas": null,
       "grid_template_columns": null,
       "grid_template_rows": null,
       "height": null,
       "justify_content": null,
       "justify_items": null,
       "left": null,
       "margin": null,
       "max_height": null,
       "max_width": null,
       "min_height": null,
       "min_width": null,
       "object_fit": null,
       "object_position": null,
       "order": null,
       "overflow": null,
       "overflow_x": null,
       "overflow_y": null,
       "padding": null,
       "right": null,
       "top": null,
       "visibility": null,
       "width": null
      }
     },
     "306088d352a04bf38361cff96a7c63f5": {
      "model_module": "@jupyter-widgets/base",
      "model_module_version": "1.2.0",
      "model_name": "LayoutModel",
      "state": {
       "_model_module": "@jupyter-widgets/base",
       "_model_module_version": "1.2.0",
       "_model_name": "LayoutModel",
       "_view_count": null,
       "_view_module": "@jupyter-widgets/base",
       "_view_module_version": "1.2.0",
       "_view_name": "LayoutView",
       "align_content": null,
       "align_items": null,
       "align_self": null,
       "border": null,
       "bottom": null,
       "display": null,
       "flex": null,
       "flex_flow": null,
       "grid_area": null,
       "grid_auto_columns": null,
       "grid_auto_flow": null,
       "grid_auto_rows": null,
       "grid_column": null,
       "grid_gap": null,
       "grid_row": null,
       "grid_template_areas": null,
       "grid_template_columns": null,
       "grid_template_rows": null,
       "height": null,
       "justify_content": null,
       "justify_items": null,
       "left": null,
       "margin": null,
       "max_height": null,
       "max_width": null,
       "min_height": null,
       "min_width": null,
       "object_fit": null,
       "object_position": null,
       "order": null,
       "overflow": null,
       "overflow_x": null,
       "overflow_y": null,
       "padding": null,
       "right": null,
       "top": null,
       "visibility": null,
       "width": null
      }
     },
     "3293abd50a5d41fdb2d11c1fe55a445f": {
      "model_module": "@jupyter-widgets/controls",
      "model_module_version": "1.5.0",
      "model_name": "ProgressStyleModel",
      "state": {
       "_model_module": "@jupyter-widgets/controls",
       "_model_module_version": "1.5.0",
       "_model_name": "ProgressStyleModel",
       "_view_count": null,
       "_view_module": "@jupyter-widgets/base",
       "_view_module_version": "1.2.0",
       "_view_name": "StyleView",
       "bar_color": null,
       "description_width": ""
      }
     },
     "375de583923a4ce4ad255ad7b5be9a08": {
      "model_module": "@jupyter-widgets/base",
      "model_module_version": "1.2.0",
      "model_name": "LayoutModel",
      "state": {
       "_model_module": "@jupyter-widgets/base",
       "_model_module_version": "1.2.0",
       "_model_name": "LayoutModel",
       "_view_count": null,
       "_view_module": "@jupyter-widgets/base",
       "_view_module_version": "1.2.0",
       "_view_name": "LayoutView",
       "align_content": null,
       "align_items": null,
       "align_self": null,
       "border": null,
       "bottom": null,
       "display": null,
       "flex": null,
       "flex_flow": null,
       "grid_area": null,
       "grid_auto_columns": null,
       "grid_auto_flow": null,
       "grid_auto_rows": null,
       "grid_column": null,
       "grid_gap": null,
       "grid_row": null,
       "grid_template_areas": null,
       "grid_template_columns": null,
       "grid_template_rows": null,
       "height": null,
       "justify_content": null,
       "justify_items": null,
       "left": null,
       "margin": null,
       "max_height": null,
       "max_width": null,
       "min_height": null,
       "min_width": null,
       "object_fit": null,
       "object_position": null,
       "order": null,
       "overflow": null,
       "overflow_x": null,
       "overflow_y": null,
       "padding": null,
       "right": null,
       "top": null,
       "visibility": null,
       "width": null
      }
     },
     "3d7278c9233e4505af6e90a7a64d4be6": {
      "model_module": "@jupyter-widgets/controls",
      "model_module_version": "1.5.0",
      "model_name": "DescriptionStyleModel",
      "state": {
       "_model_module": "@jupyter-widgets/controls",
       "_model_module_version": "1.5.0",
       "_model_name": "DescriptionStyleModel",
       "_view_count": null,
       "_view_module": "@jupyter-widgets/base",
       "_view_module_version": "1.2.0",
       "_view_name": "StyleView",
       "description_width": ""
      }
     },
     "3dc634aeac2c47b8a1382d18db79ad0f": {
      "model_module": "@jupyter-widgets/base",
      "model_module_version": "1.2.0",
      "model_name": "LayoutModel",
      "state": {
       "_model_module": "@jupyter-widgets/base",
       "_model_module_version": "1.2.0",
       "_model_name": "LayoutModel",
       "_view_count": null,
       "_view_module": "@jupyter-widgets/base",
       "_view_module_version": "1.2.0",
       "_view_name": "LayoutView",
       "align_content": null,
       "align_items": null,
       "align_self": null,
       "border": null,
       "bottom": null,
       "display": null,
       "flex": null,
       "flex_flow": null,
       "grid_area": null,
       "grid_auto_columns": null,
       "grid_auto_flow": null,
       "grid_auto_rows": null,
       "grid_column": null,
       "grid_gap": null,
       "grid_row": null,
       "grid_template_areas": null,
       "grid_template_columns": null,
       "grid_template_rows": null,
       "height": null,
       "justify_content": null,
       "justify_items": null,
       "left": null,
       "margin": null,
       "max_height": null,
       "max_width": null,
       "min_height": null,
       "min_width": null,
       "object_fit": null,
       "object_position": null,
       "order": null,
       "overflow": null,
       "overflow_x": null,
       "overflow_y": null,
       "padding": null,
       "right": null,
       "top": null,
       "visibility": null,
       "width": null
      }
     },
     "3f285c1a316444e8808b44980766325b": {
      "model_module": "@jupyter-widgets/controls",
      "model_module_version": "1.5.0",
      "model_name": "HTMLModel",
      "state": {
       "_dom_classes": [],
       "_model_module": "@jupyter-widgets/controls",
       "_model_module_version": "1.5.0",
       "_model_name": "HTMLModel",
       "_view_count": null,
       "_view_module": "@jupyter-widgets/controls",
       "_view_module_version": "1.5.0",
       "_view_name": "HTMLView",
       "description": "",
       "description_tooltip": null,
       "layout": "IPY_MODEL_92fd1f0a4e624e818bbbc8f697e18543",
       "placeholder": "​",
       "style": "IPY_MODEL_8653b11e45524e36a5e4ff73894dfe78",
       "value": " 511M/511M [00:25&lt;00:00, 22.1MB/s]"
      }
     },
     "4036a259b64a4f5e9cd26f38c5b19101": {
      "model_module": "@jupyter-widgets/controls",
      "model_module_version": "1.5.0",
      "model_name": "HBoxModel",
      "state": {
       "_dom_classes": [],
       "_model_module": "@jupyter-widgets/controls",
       "_model_module_version": "1.5.0",
       "_model_name": "HBoxModel",
       "_view_count": null,
       "_view_module": "@jupyter-widgets/controls",
       "_view_module_version": "1.5.0",
       "_view_name": "HBoxView",
       "box_style": "",
       "children": [
        "IPY_MODEL_431d3908403b4d73a553dea5a5337c83",
        "IPY_MODEL_6297ebd0efa948689819f1f302c193b6",
        "IPY_MODEL_b22278dd9cdf4a4484d0eed5c6ac6a94"
       ],
       "layout": "IPY_MODEL_b9a84fbb09bb4613a6f10dbf7023f1c4"
      }
     },
     "431d3908403b4d73a553dea5a5337c83": {
      "model_module": "@jupyter-widgets/controls",
      "model_module_version": "1.5.0",
      "model_name": "HTMLModel",
      "state": {
       "_dom_classes": [],
       "_model_module": "@jupyter-widgets/controls",
       "_model_module_version": "1.5.0",
       "_model_name": "HTMLModel",
       "_view_count": null,
       "_view_module": "@jupyter-widgets/controls",
       "_view_module_version": "1.5.0",
       "_view_name": "HTMLView",
       "description": "",
       "description_tooltip": null,
       "layout": "IPY_MODEL_cb6a45ac58574a88a5c636a91af3ff7e",
       "placeholder": "​",
       "style": "IPY_MODEL_fc5a4a20aab94a9c97e995a3897d2c7b",
       "value": "Downloading: 100%"
      }
     },
     "47da4c989e894294896aee20937a1c98": {
      "model_module": "@jupyter-widgets/controls",
      "model_module_version": "1.5.0",
      "model_name": "FloatProgressModel",
      "state": {
       "_dom_classes": [],
       "_model_module": "@jupyter-widgets/controls",
       "_model_module_version": "1.5.0",
       "_model_name": "FloatProgressModel",
       "_view_count": null,
       "_view_module": "@jupyter-widgets/controls",
       "_view_module_version": "1.5.0",
       "_view_name": "ProgressView",
       "bar_style": "success",
       "description": "",
       "description_tooltip": null,
       "layout": "IPY_MODEL_29d946f25f2a4922b411b6606ddb55f3",
       "max": 1355863.0,
       "min": 0.0,
       "orientation": "horizontal",
       "style": "IPY_MODEL_6fa397b47e974d279e7a5dfe27050d33",
       "value": 1355863.0
      }
     },
     "4b6cd9463f6f418b81be58d2bdf88d4a": {
      "model_module": "@jupyter-widgets/base",
      "model_module_version": "1.2.0",
      "model_name": "LayoutModel",
      "state": {
       "_model_module": "@jupyter-widgets/base",
       "_model_module_version": "1.2.0",
       "_model_name": "LayoutModel",
       "_view_count": null,
       "_view_module": "@jupyter-widgets/base",
       "_view_module_version": "1.2.0",
       "_view_name": "LayoutView",
       "align_content": null,
       "align_items": null,
       "align_self": null,
       "border": null,
       "bottom": null,
       "display": null,
       "flex": null,
       "flex_flow": null,
       "grid_area": null,
       "grid_auto_columns": null,
       "grid_auto_flow": null,
       "grid_auto_rows": null,
       "grid_column": null,
       "grid_gap": null,
       "grid_row": null,
       "grid_template_areas": null,
       "grid_template_columns": null,
       "grid_template_rows": null,
       "height": null,
       "justify_content": null,
       "justify_items": null,
       "left": null,
       "margin": null,
       "max_height": null,
       "max_width": null,
       "min_height": null,
       "min_width": null,
       "object_fit": null,
       "object_position": null,
       "order": null,
       "overflow": null,
       "overflow_x": null,
       "overflow_y": null,
       "padding": null,
       "right": null,
       "top": null,
       "visibility": null,
       "width": null
      }
     },
     "4ea322b4f0904de9994df988ae8456b7": {
      "model_module": "@jupyter-widgets/controls",
      "model_module_version": "1.5.0",
      "model_name": "DescriptionStyleModel",
      "state": {
       "_model_module": "@jupyter-widgets/controls",
       "_model_module_version": "1.5.0",
       "_model_name": "DescriptionStyleModel",
       "_view_count": null,
       "_view_module": "@jupyter-widgets/base",
       "_view_module_version": "1.2.0",
       "_view_name": "StyleView",
       "description_width": ""
      }
     },
     "5287084958154c1a915e5045eea780a3": {
      "model_module": "@jupyter-widgets/base",
      "model_module_version": "1.2.0",
      "model_name": "LayoutModel",
      "state": {
       "_model_module": "@jupyter-widgets/base",
       "_model_module_version": "1.2.0",
       "_model_name": "LayoutModel",
       "_view_count": null,
       "_view_module": "@jupyter-widgets/base",
       "_view_module_version": "1.2.0",
       "_view_name": "LayoutView",
       "align_content": null,
       "align_items": null,
       "align_self": null,
       "border": null,
       "bottom": null,
       "display": null,
       "flex": null,
       "flex_flow": null,
       "grid_area": null,
       "grid_auto_columns": null,
       "grid_auto_flow": null,
       "grid_auto_rows": null,
       "grid_column": null,
       "grid_gap": null,
       "grid_row": null,
       "grid_template_areas": null,
       "grid_template_columns": null,
       "grid_template_rows": null,
       "height": null,
       "justify_content": null,
       "justify_items": null,
       "left": null,
       "margin": null,
       "max_height": null,
       "max_width": null,
       "min_height": null,
       "min_width": null,
       "object_fit": null,
       "object_position": null,
       "order": null,
       "overflow": null,
       "overflow_x": null,
       "overflow_y": null,
       "padding": null,
       "right": null,
       "top": null,
       "visibility": null,
       "width": null
      }
     },
     "531c7792313d4186b8dfde4d159cf9be": {
      "model_module": "@jupyter-widgets/controls",
      "model_module_version": "1.5.0",
      "model_name": "DescriptionStyleModel",
      "state": {
       "_model_module": "@jupyter-widgets/controls",
       "_model_module_version": "1.5.0",
       "_model_name": "DescriptionStyleModel",
       "_view_count": null,
       "_view_module": "@jupyter-widgets/base",
       "_view_module_version": "1.2.0",
       "_view_name": "StyleView",
       "description_width": ""
      }
     },
     "6181d322dc444b6eaf737642fef8de01": {
      "model_module": "@jupyter-widgets/base",
      "model_module_version": "1.2.0",
      "model_name": "LayoutModel",
      "state": {
       "_model_module": "@jupyter-widgets/base",
       "_model_module_version": "1.2.0",
       "_model_name": "LayoutModel",
       "_view_count": null,
       "_view_module": "@jupyter-widgets/base",
       "_view_module_version": "1.2.0",
       "_view_name": "LayoutView",
       "align_content": null,
       "align_items": null,
       "align_self": null,
       "border": null,
       "bottom": null,
       "display": null,
       "flex": null,
       "flex_flow": null,
       "grid_area": null,
       "grid_auto_columns": null,
       "grid_auto_flow": null,
       "grid_auto_rows": null,
       "grid_column": null,
       "grid_gap": null,
       "grid_row": null,
       "grid_template_areas": null,
       "grid_template_columns": null,
       "grid_template_rows": null,
       "height": null,
       "justify_content": null,
       "justify_items": null,
       "left": null,
       "margin": null,
       "max_height": null,
       "max_width": null,
       "min_height": null,
       "min_width": null,
       "object_fit": null,
       "object_position": null,
       "order": null,
       "overflow": null,
       "overflow_x": null,
       "overflow_y": null,
       "padding": null,
       "right": null,
       "top": null,
       "visibility": null,
       "width": null
      }
     },
     "6297ebd0efa948689819f1f302c193b6": {
      "model_module": "@jupyter-widgets/controls",
      "model_module_version": "1.5.0",
      "model_name": "FloatProgressModel",
      "state": {
       "_dom_classes": [],
       "_model_module": "@jupyter-widgets/controls",
       "_model_module_version": "1.5.0",
       "_model_name": "FloatProgressModel",
       "_view_count": null,
       "_view_module": "@jupyter-widgets/controls",
       "_view_module_version": "1.5.0",
       "_view_name": "ProgressView",
       "bar_style": "success",
       "description": "",
       "description_tooltip": null,
       "layout": "IPY_MODEL_6d90f0b8330f48508d23c9bf64a48df4",
       "max": 481.0,
       "min": 0.0,
       "orientation": "horizontal",
       "style": "IPY_MODEL_259587dc2b7c4f60b1d64bd8e80e42d3",
       "value": 481.0
      }
     },
     "6778b090caaa4413a28835d32122641f": {
      "model_module": "@jupyter-widgets/controls",
      "model_module_version": "1.5.0",
      "model_name": "FloatProgressModel",
      "state": {
       "_dom_classes": [],
       "_model_module": "@jupyter-widgets/controls",
       "_model_module_version": "1.5.0",
       "_model_name": "FloatProgressModel",
       "_view_count": null,
       "_view_module": "@jupyter-widgets/controls",
       "_view_module_version": "1.5.0",
       "_view_name": "ProgressView",
       "bar_style": "success",
       "description": "",
       "description_tooltip": null,
       "layout": "IPY_MODEL_e7834ae788064337af7941a6bdc877ae",
       "max": 28.0,
       "min": 0.0,
       "orientation": "horizontal",
       "style": "IPY_MODEL_e63b499fed254caaaaa1c44e77319835",
       "value": 28.0
      }
     },
     "6d90f0b8330f48508d23c9bf64a48df4": {
      "model_module": "@jupyter-widgets/base",
      "model_module_version": "1.2.0",
      "model_name": "LayoutModel",
      "state": {
       "_model_module": "@jupyter-widgets/base",
       "_model_module_version": "1.2.0",
       "_model_name": "LayoutModel",
       "_view_count": null,
       "_view_module": "@jupyter-widgets/base",
       "_view_module_version": "1.2.0",
       "_view_name": "LayoutView",
       "align_content": null,
       "align_items": null,
       "align_self": null,
       "border": null,
       "bottom": null,
       "display": null,
       "flex": null,
       "flex_flow": null,
       "grid_area": null,
       "grid_auto_columns": null,
       "grid_auto_flow": null,
       "grid_auto_rows": null,
       "grid_column": null,
       "grid_gap": null,
       "grid_row": null,
       "grid_template_areas": null,
       "grid_template_columns": null,
       "grid_template_rows": null,
       "height": null,
       "justify_content": null,
       "justify_items": null,
       "left": null,
       "margin": null,
       "max_height": null,
       "max_width": null,
       "min_height": null,
       "min_width": null,
       "object_fit": null,
       "object_position": null,
       "order": null,
       "overflow": null,
       "overflow_x": null,
       "overflow_y": null,
       "padding": null,
       "right": null,
       "top": null,
       "visibility": null,
       "width": null
      }
     },
     "6fa397b47e974d279e7a5dfe27050d33": {
      "model_module": "@jupyter-widgets/controls",
      "model_module_version": "1.5.0",
      "model_name": "ProgressStyleModel",
      "state": {
       "_model_module": "@jupyter-widgets/controls",
       "_model_module_version": "1.5.0",
       "_model_name": "ProgressStyleModel",
       "_view_count": null,
       "_view_module": "@jupyter-widgets/base",
       "_view_module_version": "1.2.0",
       "_view_name": "StyleView",
       "bar_color": null,
       "description_width": ""
      }
     },
     "734111266f184763a40cd54d2890385a": {
      "model_module": "@jupyter-widgets/controls",
      "model_module_version": "1.5.0",
      "model_name": "FloatProgressModel",
      "state": {
       "_dom_classes": [],
       "_model_module": "@jupyter-widgets/controls",
       "_model_module_version": "1.5.0",
       "_model_name": "FloatProgressModel",
       "_view_count": null,
       "_view_module": "@jupyter-widgets/controls",
       "_view_module_version": "1.5.0",
       "_view_name": "ProgressView",
       "bar_style": "success",
       "description": "",
       "description_tooltip": null,
       "layout": "IPY_MODEL_5287084958154c1a915e5045eea780a3",
       "max": 536063208.0,
       "min": 0.0,
       "orientation": "horizontal",
       "style": "IPY_MODEL_e54b62d559ac4901bd8480a5a4e16b46",
       "value": 536063208.0
      }
     },
     "74de084d8e5e4418983e5b826db07fe8": {
      "model_module": "@jupyter-widgets/controls",
      "model_module_version": "1.5.0",
      "model_name": "DescriptionStyleModel",
      "state": {
       "_model_module": "@jupyter-widgets/controls",
       "_model_module_version": "1.5.0",
       "_model_name": "DescriptionStyleModel",
       "_view_count": null,
       "_view_module": "@jupyter-widgets/base",
       "_view_module_version": "1.2.0",
       "_view_name": "StyleView",
       "description_width": ""
      }
     },
     "76ca2b930b9549cabbf1bcc67e307eda": {
      "model_module": "@jupyter-widgets/base",
      "model_module_version": "1.2.0",
      "model_name": "LayoutModel",
      "state": {
       "_model_module": "@jupyter-widgets/base",
       "_model_module_version": "1.2.0",
       "_model_name": "LayoutModel",
       "_view_count": null,
       "_view_module": "@jupyter-widgets/base",
       "_view_module_version": "1.2.0",
       "_view_name": "LayoutView",
       "align_content": null,
       "align_items": null,
       "align_self": null,
       "border": null,
       "bottom": null,
       "display": null,
       "flex": null,
       "flex_flow": null,
       "grid_area": null,
       "grid_auto_columns": null,
       "grid_auto_flow": null,
       "grid_auto_rows": null,
       "grid_column": null,
       "grid_gap": null,
       "grid_row": null,
       "grid_template_areas": null,
       "grid_template_columns": null,
       "grid_template_rows": null,
       "height": null,
       "justify_content": null,
       "justify_items": null,
       "left": null,
       "margin": null,
       "max_height": null,
       "max_width": null,
       "min_height": null,
       "min_width": null,
       "object_fit": null,
       "object_position": null,
       "order": null,
       "overflow": null,
       "overflow_x": null,
       "overflow_y": null,
       "padding": null,
       "right": null,
       "top": null,
       "visibility": null,
       "width": null
      }
     },
     "76ce264175a749a1bdbb87b2fae4adf9": {
      "model_module": "@jupyter-widgets/controls",
      "model_module_version": "1.5.0",
      "model_name": "DescriptionStyleModel",
      "state": {
       "_model_module": "@jupyter-widgets/controls",
       "_model_module_version": "1.5.0",
       "_model_name": "DescriptionStyleModel",
       "_view_count": null,
       "_view_module": "@jupyter-widgets/base",
       "_view_module_version": "1.2.0",
       "_view_name": "StyleView",
       "description_width": ""
      }
     },
     "7859dcc74016434db4463d63216d8cac": {
      "model_module": "@jupyter-widgets/base",
      "model_module_version": "1.2.0",
      "model_name": "LayoutModel",
      "state": {
       "_model_module": "@jupyter-widgets/base",
       "_model_module_version": "1.2.0",
       "_model_name": "LayoutModel",
       "_view_count": null,
       "_view_module": "@jupyter-widgets/base",
       "_view_module_version": "1.2.0",
       "_view_name": "LayoutView",
       "align_content": null,
       "align_items": null,
       "align_self": null,
       "border": null,
       "bottom": null,
       "display": null,
       "flex": null,
       "flex_flow": null,
       "grid_area": null,
       "grid_auto_columns": null,
       "grid_auto_flow": null,
       "grid_auto_rows": null,
       "grid_column": null,
       "grid_gap": null,
       "grid_row": null,
       "grid_template_areas": null,
       "grid_template_columns": null,
       "grid_template_rows": null,
       "height": null,
       "justify_content": null,
       "justify_items": null,
       "left": null,
       "margin": null,
       "max_height": null,
       "max_width": null,
       "min_height": null,
       "min_width": null,
       "object_fit": null,
       "object_position": null,
       "order": null,
       "overflow": null,
       "overflow_x": null,
       "overflow_y": null,
       "padding": null,
       "right": null,
       "top": null,
       "visibility": null,
       "width": null
      }
     },
     "7bd59aac15564f60a42aa8051479e198": {
      "model_module": "@jupyter-widgets/controls",
      "model_module_version": "1.5.0",
      "model_name": "FloatProgressModel",
      "state": {
       "_dom_classes": [],
       "_model_module": "@jupyter-widgets/controls",
       "_model_module_version": "1.5.0",
       "_model_name": "FloatProgressModel",
       "_view_count": null,
       "_view_module": "@jupyter-widgets/controls",
       "_view_module_version": "1.5.0",
       "_view_name": "ProgressView",
       "bar_style": "success",
       "description": "",
       "description_tooltip": null,
       "layout": "IPY_MODEL_3dc634aeac2c47b8a1382d18db79ad0f",
       "max": 466062.0,
       "min": 0.0,
       "orientation": "horizontal",
       "style": "IPY_MODEL_01fb9ba3377f478ea9a1954363bfcc0d",
       "value": 466062.0
      }
     },
     "7e7f9d0ed71a4577b0d474fd27252e6f": {
      "model_module": "@jupyter-widgets/base",
      "model_module_version": "1.2.0",
      "model_name": "LayoutModel",
      "state": {
       "_model_module": "@jupyter-widgets/base",
       "_model_module_version": "1.2.0",
       "_model_name": "LayoutModel",
       "_view_count": null,
       "_view_module": "@jupyter-widgets/base",
       "_view_module_version": "1.2.0",
       "_view_name": "LayoutView",
       "align_content": null,
       "align_items": null,
       "align_self": null,
       "border": null,
       "bottom": null,
       "display": null,
       "flex": null,
       "flex_flow": null,
       "grid_area": null,
       "grid_auto_columns": null,
       "grid_auto_flow": null,
       "grid_auto_rows": null,
       "grid_column": null,
       "grid_gap": null,
       "grid_row": null,
       "grid_template_areas": null,
       "grid_template_columns": null,
       "grid_template_rows": null,
       "height": null,
       "justify_content": null,
       "justify_items": null,
       "left": null,
       "margin": null,
       "max_height": null,
       "max_width": null,
       "min_height": null,
       "min_width": null,
       "object_fit": null,
       "object_position": null,
       "order": null,
       "overflow": null,
       "overflow_x": null,
       "overflow_y": null,
       "padding": null,
       "right": null,
       "top": null,
       "visibility": null,
       "width": null
      }
     },
     "8042e3339ff24e2fbee2abc9f02a6d38": {
      "model_module": "@jupyter-widgets/controls",
      "model_module_version": "1.5.0",
      "model_name": "ProgressStyleModel",
      "state": {
       "_model_module": "@jupyter-widgets/controls",
       "_model_module_version": "1.5.0",
       "_model_name": "ProgressStyleModel",
       "_view_count": null,
       "_view_module": "@jupyter-widgets/base",
       "_view_module_version": "1.2.0",
       "_view_name": "StyleView",
       "bar_color": null,
       "description_width": ""
      }
     },
     "82b10d385b3746c28c534637ac3874bd": {
      "model_module": "@jupyter-widgets/controls",
      "model_module_version": "1.5.0",
      "model_name": "HTMLModel",
      "state": {
       "_dom_classes": [],
       "_model_module": "@jupyter-widgets/controls",
       "_model_module_version": "1.5.0",
       "_model_name": "HTMLModel",
       "_view_count": null,
       "_view_module": "@jupyter-widgets/controls",
       "_view_module_version": "1.5.0",
       "_view_name": "HTMLView",
       "description": "",
       "description_tooltip": null,
       "layout": "IPY_MODEL_9c5e2ea0db63412984e505df0d03fe65",
       "placeholder": "​",
       "style": "IPY_MODEL_3d7278c9233e4505af6e90a7a64d4be6",
       "value": "Downloading: 100%"
      }
     },
     "82cd1b281dab44779957de19788c2058": {
      "model_module": "@jupyter-widgets/controls",
      "model_module_version": "1.5.0",
      "model_name": "HBoxModel",
      "state": {
       "_dom_classes": [],
       "_model_module": "@jupyter-widgets/controls",
       "_model_module_version": "1.5.0",
       "_model_name": "HBoxModel",
       "_view_count": null,
       "_view_module": "@jupyter-widgets/controls",
       "_view_module_version": "1.5.0",
       "_view_name": "HBoxView",
       "box_style": "",
       "children": [
        "IPY_MODEL_bea3eda53b32434bb98ed1af61673e86",
        "IPY_MODEL_d7c035e5b2804048b992a71eb3988dda",
        "IPY_MODEL_ed75bab414cd4ec48c793628b25a22e2"
       ],
       "layout": "IPY_MODEL_109209afeac34b74a5b5a93e25e8f4c6"
      }
     },
     "831e44308c1241ccaceaf00360868dc1": {
      "model_module": "@jupyter-widgets/base",
      "model_module_version": "1.2.0",
      "model_name": "LayoutModel",
      "state": {
       "_model_module": "@jupyter-widgets/base",
       "_model_module_version": "1.2.0",
       "_model_name": "LayoutModel",
       "_view_count": null,
       "_view_module": "@jupyter-widgets/base",
       "_view_module_version": "1.2.0",
       "_view_name": "LayoutView",
       "align_content": null,
       "align_items": null,
       "align_self": null,
       "border": null,
       "bottom": null,
       "display": null,
       "flex": null,
       "flex_flow": null,
       "grid_area": null,
       "grid_auto_columns": null,
       "grid_auto_flow": null,
       "grid_auto_rows": null,
       "grid_column": null,
       "grid_gap": null,
       "grid_row": null,
       "grid_template_areas": null,
       "grid_template_columns": null,
       "grid_template_rows": null,
       "height": null,
       "justify_content": null,
       "justify_items": null,
       "left": null,
       "margin": null,
       "max_height": null,
       "max_width": null,
       "min_height": null,
       "min_width": null,
       "object_fit": null,
       "object_position": null,
       "order": null,
       "overflow": null,
       "overflow_x": null,
       "overflow_y": null,
       "padding": null,
       "right": null,
       "top": null,
       "visibility": null,
       "width": null
      }
     },
     "842bed592c6040738dd9cc14e3ee79fc": {
      "model_module": "@jupyter-widgets/controls",
      "model_module_version": "1.5.0",
      "model_name": "HTMLModel",
      "state": {
       "_dom_classes": [],
       "_model_module": "@jupyter-widgets/controls",
       "_model_module_version": "1.5.0",
       "_model_name": "HTMLModel",
       "_view_count": null,
       "_view_module": "@jupyter-widgets/controls",
       "_view_module_version": "1.5.0",
       "_view_name": "HTMLView",
       "description": "",
       "description_tooltip": null,
       "layout": "IPY_MODEL_fbf33c251cae49f0b265b637f66bfcaf",
       "placeholder": "​",
       "style": "IPY_MODEL_101428037c634d129cd58c55bdd979bc",
       "value": "Downloading: 100%"
      }
     },
     "8480d77b73654c6ca0632c84e4fe98c4": {
      "model_module": "@jupyter-widgets/controls",
      "model_module_version": "1.5.0",
      "model_name": "HTMLModel",
      "state": {
       "_dom_classes": [],
       "_model_module": "@jupyter-widgets/controls",
       "_model_module_version": "1.5.0",
       "_model_name": "HTMLModel",
       "_view_count": null,
       "_view_module": "@jupyter-widgets/controls",
       "_view_module_version": "1.5.0",
       "_view_name": "HTMLView",
       "description": "",
       "description_tooltip": null,
       "layout": "IPY_MODEL_b215ce67ce5d4f52b905634aff1a10a0",
       "placeholder": "​",
       "style": "IPY_MODEL_952359c133134a21bb2185cff58aa6a0",
       "value": " 1.29M/1.29M [00:00&lt;00:00, 2.20MB/s]"
      }
     },
     "8653b11e45524e36a5e4ff73894dfe78": {
      "model_module": "@jupyter-widgets/controls",
      "model_module_version": "1.5.0",
      "model_name": "DescriptionStyleModel",
      "state": {
       "_model_module": "@jupyter-widgets/controls",
       "_model_module_version": "1.5.0",
       "_model_name": "DescriptionStyleModel",
       "_view_count": null,
       "_view_module": "@jupyter-widgets/base",
       "_view_module_version": "1.2.0",
       "_view_name": "StyleView",
       "description_width": ""
      }
     },
     "86ef7757404e4cc781896376fa37fbb3": {
      "model_module": "@jupyter-widgets/base",
      "model_module_version": "1.2.0",
      "model_name": "LayoutModel",
      "state": {
       "_model_module": "@jupyter-widgets/base",
       "_model_module_version": "1.2.0",
       "_model_name": "LayoutModel",
       "_view_count": null,
       "_view_module": "@jupyter-widgets/base",
       "_view_module_version": "1.2.0",
       "_view_name": "LayoutView",
       "align_content": null,
       "align_items": null,
       "align_self": null,
       "border": null,
       "bottom": null,
       "display": null,
       "flex": null,
       "flex_flow": null,
       "grid_area": null,
       "grid_auto_columns": null,
       "grid_auto_flow": null,
       "grid_auto_rows": null,
       "grid_column": null,
       "grid_gap": null,
       "grid_row": null,
       "grid_template_areas": null,
       "grid_template_columns": null,
       "grid_template_rows": null,
       "height": null,
       "justify_content": null,
       "justify_items": null,
       "left": null,
       "margin": null,
       "max_height": null,
       "max_width": null,
       "min_height": null,
       "min_width": null,
       "object_fit": null,
       "object_position": null,
       "order": null,
       "overflow": null,
       "overflow_x": null,
       "overflow_y": null,
       "padding": null,
       "right": null,
       "top": null,
       "visibility": null,
       "width": null
      }
     },
     "8880ac8db1ec4609b5c6cc88026bea67": {
      "model_module": "@jupyter-widgets/base",
      "model_module_version": "1.2.0",
      "model_name": "LayoutModel",
      "state": {
       "_model_module": "@jupyter-widgets/base",
       "_model_module_version": "1.2.0",
       "_model_name": "LayoutModel",
       "_view_count": null,
       "_view_module": "@jupyter-widgets/base",
       "_view_module_version": "1.2.0",
       "_view_name": "LayoutView",
       "align_content": null,
       "align_items": null,
       "align_self": null,
       "border": null,
       "bottom": null,
       "display": null,
       "flex": null,
       "flex_flow": null,
       "grid_area": null,
       "grid_auto_columns": null,
       "grid_auto_flow": null,
       "grid_auto_rows": null,
       "grid_column": null,
       "grid_gap": null,
       "grid_row": null,
       "grid_template_areas": null,
       "grid_template_columns": null,
       "grid_template_rows": null,
       "height": null,
       "justify_content": null,
       "justify_items": null,
       "left": null,
       "margin": null,
       "max_height": null,
       "max_width": null,
       "min_height": null,
       "min_width": null,
       "object_fit": null,
       "object_position": null,
       "order": null,
       "overflow": null,
       "overflow_x": null,
       "overflow_y": null,
       "padding": null,
       "right": null,
       "top": null,
       "visibility": null,
       "width": null
      }
     },
     "88f08a45dc4e4fb289e10cf458809301": {
      "model_module": "@jupyter-widgets/base",
      "model_module_version": "1.2.0",
      "model_name": "LayoutModel",
      "state": {
       "_model_module": "@jupyter-widgets/base",
       "_model_module_version": "1.2.0",
       "_model_name": "LayoutModel",
       "_view_count": null,
       "_view_module": "@jupyter-widgets/base",
       "_view_module_version": "1.2.0",
       "_view_name": "LayoutView",
       "align_content": null,
       "align_items": null,
       "align_self": null,
       "border": null,
       "bottom": null,
       "display": null,
       "flex": null,
       "flex_flow": null,
       "grid_area": null,
       "grid_auto_columns": null,
       "grid_auto_flow": null,
       "grid_auto_rows": null,
       "grid_column": null,
       "grid_gap": null,
       "grid_row": null,
       "grid_template_areas": null,
       "grid_template_columns": null,
       "grid_template_rows": null,
       "height": null,
       "justify_content": null,
       "justify_items": null,
       "left": null,
       "margin": null,
       "max_height": null,
       "max_width": null,
       "min_height": null,
       "min_width": null,
       "object_fit": null,
       "object_position": null,
       "order": null,
       "overflow": null,
       "overflow_x": null,
       "overflow_y": null,
       "padding": null,
       "right": null,
       "top": null,
       "visibility": null,
       "width": null
      }
     },
     "89884e3b7af74a469e40c930a416687d": {
      "model_module": "@jupyter-widgets/base",
      "model_module_version": "1.2.0",
      "model_name": "LayoutModel",
      "state": {
       "_model_module": "@jupyter-widgets/base",
       "_model_module_version": "1.2.0",
       "_model_name": "LayoutModel",
       "_view_count": null,
       "_view_module": "@jupyter-widgets/base",
       "_view_module_version": "1.2.0",
       "_view_name": "LayoutView",
       "align_content": null,
       "align_items": null,
       "align_self": null,
       "border": null,
       "bottom": null,
       "display": null,
       "flex": null,
       "flex_flow": null,
       "grid_area": null,
       "grid_auto_columns": null,
       "grid_auto_flow": null,
       "grid_auto_rows": null,
       "grid_column": null,
       "grid_gap": null,
       "grid_row": null,
       "grid_template_areas": null,
       "grid_template_columns": null,
       "grid_template_rows": null,
       "height": null,
       "justify_content": null,
       "justify_items": null,
       "left": null,
       "margin": null,
       "max_height": null,
       "max_width": null,
       "min_height": null,
       "min_width": null,
       "object_fit": null,
       "object_position": null,
       "order": null,
       "overflow": null,
       "overflow_x": null,
       "overflow_y": null,
       "padding": null,
       "right": null,
       "top": null,
       "visibility": null,
       "width": null
      }
     },
     "8e7ef03b122c4916aa2b2817bbbb2f61": {
      "model_module": "@jupyter-widgets/controls",
      "model_module_version": "1.5.0",
      "model_name": "DescriptionStyleModel",
      "state": {
       "_model_module": "@jupyter-widgets/controls",
       "_model_module_version": "1.5.0",
       "_model_name": "DescriptionStyleModel",
       "_view_count": null,
       "_view_module": "@jupyter-widgets/base",
       "_view_module_version": "1.2.0",
       "_view_name": "StyleView",
       "description_width": ""
      }
     },
     "8ee3e3b71e57486f9e470075be479d44": {
      "model_module": "@jupyter-widgets/controls",
      "model_module_version": "1.5.0",
      "model_name": "HBoxModel",
      "state": {
       "_dom_classes": [],
       "_model_module": "@jupyter-widgets/controls",
       "_model_module_version": "1.5.0",
       "_model_name": "HBoxModel",
       "_view_count": null,
       "_view_module": "@jupyter-widgets/controls",
       "_view_module_version": "1.5.0",
       "_view_name": "HBoxView",
       "box_style": "",
       "children": [
        "IPY_MODEL_0eda756617d04ecaac2bc3ee4a4118f7",
        "IPY_MODEL_734111266f184763a40cd54d2890385a",
        "IPY_MODEL_3f285c1a316444e8808b44980766325b"
       ],
       "layout": "IPY_MODEL_2f28a8462112454ba33836c8084f590c"
      }
     },
     "90baf80e78a54e51b4d697ceda14fbae": {
      "model_module": "@jupyter-widgets/base",
      "model_module_version": "1.2.0",
      "model_name": "LayoutModel",
      "state": {
       "_model_module": "@jupyter-widgets/base",
       "_model_module_version": "1.2.0",
       "_model_name": "LayoutModel",
       "_view_count": null,
       "_view_module": "@jupyter-widgets/base",
       "_view_module_version": "1.2.0",
       "_view_name": "LayoutView",
       "align_content": null,
       "align_items": null,
       "align_self": null,
       "border": null,
       "bottom": null,
       "display": null,
       "flex": null,
       "flex_flow": null,
       "grid_area": null,
       "grid_auto_columns": null,
       "grid_auto_flow": null,
       "grid_auto_rows": null,
       "grid_column": null,
       "grid_gap": null,
       "grid_row": null,
       "grid_template_areas": null,
       "grid_template_columns": null,
       "grid_template_rows": null,
       "height": null,
       "justify_content": null,
       "justify_items": null,
       "left": null,
       "margin": null,
       "max_height": null,
       "max_width": null,
       "min_height": null,
       "min_width": null,
       "object_fit": null,
       "object_position": null,
       "order": null,
       "overflow": null,
       "overflow_x": null,
       "overflow_y": null,
       "padding": null,
       "right": null,
       "top": null,
       "visibility": null,
       "width": null
      }
     },
     "913779eab15f44f5a3187eba778e8244": {
      "model_module": "@jupyter-widgets/controls",
      "model_module_version": "1.5.0",
      "model_name": "DescriptionStyleModel",
      "state": {
       "_model_module": "@jupyter-widgets/controls",
       "_model_module_version": "1.5.0",
       "_model_name": "DescriptionStyleModel",
       "_view_count": null,
       "_view_module": "@jupyter-widgets/base",
       "_view_module_version": "1.2.0",
       "_view_name": "StyleView",
       "description_width": ""
      }
     },
     "9289238cc81c4c478bffa88f36f10188": {
      "model_module": "@jupyter-widgets/base",
      "model_module_version": "1.2.0",
      "model_name": "LayoutModel",
      "state": {
       "_model_module": "@jupyter-widgets/base",
       "_model_module_version": "1.2.0",
       "_model_name": "LayoutModel",
       "_view_count": null,
       "_view_module": "@jupyter-widgets/base",
       "_view_module_version": "1.2.0",
       "_view_name": "LayoutView",
       "align_content": null,
       "align_items": null,
       "align_self": null,
       "border": null,
       "bottom": null,
       "display": null,
       "flex": null,
       "flex_flow": null,
       "grid_area": null,
       "grid_auto_columns": null,
       "grid_auto_flow": null,
       "grid_auto_rows": null,
       "grid_column": null,
       "grid_gap": null,
       "grid_row": null,
       "grid_template_areas": null,
       "grid_template_columns": null,
       "grid_template_rows": null,
       "height": null,
       "justify_content": null,
       "justify_items": null,
       "left": null,
       "margin": null,
       "max_height": null,
       "max_width": null,
       "min_height": null,
       "min_width": null,
       "object_fit": null,
       "object_position": null,
       "order": null,
       "overflow": null,
       "overflow_x": null,
       "overflow_y": null,
       "padding": null,
       "right": null,
       "top": null,
       "visibility": null,
       "width": null
      }
     },
     "92fd1f0a4e624e818bbbc8f697e18543": {
      "model_module": "@jupyter-widgets/base",
      "model_module_version": "1.2.0",
      "model_name": "LayoutModel",
      "state": {
       "_model_module": "@jupyter-widgets/base",
       "_model_module_version": "1.2.0",
       "_model_name": "LayoutModel",
       "_view_count": null,
       "_view_module": "@jupyter-widgets/base",
       "_view_module_version": "1.2.0",
       "_view_name": "LayoutView",
       "align_content": null,
       "align_items": null,
       "align_self": null,
       "border": null,
       "bottom": null,
       "display": null,
       "flex": null,
       "flex_flow": null,
       "grid_area": null,
       "grid_auto_columns": null,
       "grid_auto_flow": null,
       "grid_auto_rows": null,
       "grid_column": null,
       "grid_gap": null,
       "grid_row": null,
       "grid_template_areas": null,
       "grid_template_columns": null,
       "grid_template_rows": null,
       "height": null,
       "justify_content": null,
       "justify_items": null,
       "left": null,
       "margin": null,
       "max_height": null,
       "max_width": null,
       "min_height": null,
       "min_width": null,
       "object_fit": null,
       "object_position": null,
       "order": null,
       "overflow": null,
       "overflow_x": null,
       "overflow_y": null,
       "padding": null,
       "right": null,
       "top": null,
       "visibility": null,
       "width": null
      }
     },
     "93820673f7e94d65bddeb4adef2c6fac": {
      "model_module": "@jupyter-widgets/controls",
      "model_module_version": "1.5.0",
      "model_name": "DescriptionStyleModel",
      "state": {
       "_model_module": "@jupyter-widgets/controls",
       "_model_module_version": "1.5.0",
       "_model_name": "DescriptionStyleModel",
       "_view_count": null,
       "_view_module": "@jupyter-widgets/base",
       "_view_module_version": "1.2.0",
       "_view_name": "StyleView",
       "description_width": ""
      }
     },
     "952359c133134a21bb2185cff58aa6a0": {
      "model_module": "@jupyter-widgets/controls",
      "model_module_version": "1.5.0",
      "model_name": "DescriptionStyleModel",
      "state": {
       "_model_module": "@jupyter-widgets/controls",
       "_model_module_version": "1.5.0",
       "_model_name": "DescriptionStyleModel",
       "_view_count": null,
       "_view_module": "@jupyter-widgets/base",
       "_view_module_version": "1.2.0",
       "_view_name": "StyleView",
       "description_width": ""
      }
     },
     "989792cb442647c28601a3cce8ffcf6f": {
      "model_module": "@jupyter-widgets/controls",
      "model_module_version": "1.5.0",
      "model_name": "HTMLModel",
      "state": {
       "_dom_classes": [],
       "_model_module": "@jupyter-widgets/controls",
       "_model_module_version": "1.5.0",
       "_model_name": "HTMLModel",
       "_view_count": null,
       "_view_module": "@jupyter-widgets/controls",
       "_view_module_version": "1.5.0",
       "_view_name": "HTMLView",
       "description": "",
       "description_tooltip": null,
       "layout": "IPY_MODEL_2c83aa4bacc04ded8ec7a4f058c25724",
       "placeholder": "​",
       "style": "IPY_MODEL_4ea322b4f0904de9994df988ae8456b7",
       "value": "Downloading: 100%"
      }
     },
     "9947ca3db9f4484da8a371e408369c74": {
      "model_module": "@jupyter-widgets/controls",
      "model_module_version": "1.5.0",
      "model_name": "DescriptionStyleModel",
      "state": {
       "_model_module": "@jupyter-widgets/controls",
       "_model_module_version": "1.5.0",
       "_model_name": "DescriptionStyleModel",
       "_view_count": null,
       "_view_module": "@jupyter-widgets/base",
       "_view_module_version": "1.2.0",
       "_view_name": "StyleView",
       "description_width": ""
      }
     },
     "9c55d165c6fc4a8493c9a50e47fde940": {
      "model_module": "@jupyter-widgets/base",
      "model_module_version": "1.2.0",
      "model_name": "LayoutModel",
      "state": {
       "_model_module": "@jupyter-widgets/base",
       "_model_module_version": "1.2.0",
       "_model_name": "LayoutModel",
       "_view_count": null,
       "_view_module": "@jupyter-widgets/base",
       "_view_module_version": "1.2.0",
       "_view_name": "LayoutView",
       "align_content": null,
       "align_items": null,
       "align_self": null,
       "border": null,
       "bottom": null,
       "display": null,
       "flex": null,
       "flex_flow": null,
       "grid_area": null,
       "grid_auto_columns": null,
       "grid_auto_flow": null,
       "grid_auto_rows": null,
       "grid_column": null,
       "grid_gap": null,
       "grid_row": null,
       "grid_template_areas": null,
       "grid_template_columns": null,
       "grid_template_rows": null,
       "height": null,
       "justify_content": null,
       "justify_items": null,
       "left": null,
       "margin": null,
       "max_height": null,
       "max_width": null,
       "min_height": null,
       "min_width": null,
       "object_fit": null,
       "object_position": null,
       "order": null,
       "overflow": null,
       "overflow_x": null,
       "overflow_y": null,
       "padding": null,
       "right": null,
       "top": null,
       "visibility": null,
       "width": null
      }
     },
     "9c5e2ea0db63412984e505df0d03fe65": {
      "model_module": "@jupyter-widgets/base",
      "model_module_version": "1.2.0",
      "model_name": "LayoutModel",
      "state": {
       "_model_module": "@jupyter-widgets/base",
       "_model_module_version": "1.2.0",
       "_model_name": "LayoutModel",
       "_view_count": null,
       "_view_module": "@jupyter-widgets/base",
       "_view_module_version": "1.2.0",
       "_view_name": "LayoutView",
       "align_content": null,
       "align_items": null,
       "align_self": null,
       "border": null,
       "bottom": null,
       "display": null,
       "flex": null,
       "flex_flow": null,
       "grid_area": null,
       "grid_auto_columns": null,
       "grid_auto_flow": null,
       "grid_auto_rows": null,
       "grid_column": null,
       "grid_gap": null,
       "grid_row": null,
       "grid_template_areas": null,
       "grid_template_columns": null,
       "grid_template_rows": null,
       "height": null,
       "justify_content": null,
       "justify_items": null,
       "left": null,
       "margin": null,
       "max_height": null,
       "max_width": null,
       "min_height": null,
       "min_width": null,
       "object_fit": null,
       "object_position": null,
       "order": null,
       "overflow": null,
       "overflow_x": null,
       "overflow_y": null,
       "padding": null,
       "right": null,
       "top": null,
       "visibility": null,
       "width": null
      }
     },
     "a6e61f980fbc45cabbe1d6b369b3c3c0": {
      "model_module": "@jupyter-widgets/base",
      "model_module_version": "1.2.0",
      "model_name": "LayoutModel",
      "state": {
       "_model_module": "@jupyter-widgets/base",
       "_model_module_version": "1.2.0",
       "_model_name": "LayoutModel",
       "_view_count": null,
       "_view_module": "@jupyter-widgets/base",
       "_view_module_version": "1.2.0",
       "_view_name": "LayoutView",
       "align_content": null,
       "align_items": null,
       "align_self": null,
       "border": null,
       "bottom": null,
       "display": null,
       "flex": null,
       "flex_flow": null,
       "grid_area": null,
       "grid_auto_columns": null,
       "grid_auto_flow": null,
       "grid_auto_rows": null,
       "grid_column": null,
       "grid_gap": null,
       "grid_row": null,
       "grid_template_areas": null,
       "grid_template_columns": null,
       "grid_template_rows": null,
       "height": null,
       "justify_content": null,
       "justify_items": null,
       "left": null,
       "margin": null,
       "max_height": null,
       "max_width": null,
       "min_height": null,
       "min_width": null,
       "object_fit": null,
       "object_position": null,
       "order": null,
       "overflow": null,
       "overflow_x": null,
       "overflow_y": null,
       "padding": null,
       "right": null,
       "top": null,
       "visibility": null,
       "width": null
      }
     },
     "ade3d47133ed42eb9ae9c4481cde08be": {
      "model_module": "@jupyter-widgets/controls",
      "model_module_version": "1.5.0",
      "model_name": "DescriptionStyleModel",
      "state": {
       "_model_module": "@jupyter-widgets/controls",
       "_model_module_version": "1.5.0",
       "_model_name": "DescriptionStyleModel",
       "_view_count": null,
       "_view_module": "@jupyter-widgets/base",
       "_view_module_version": "1.2.0",
       "_view_name": "StyleView",
       "description_width": ""
      }
     },
     "b215ce67ce5d4f52b905634aff1a10a0": {
      "model_module": "@jupyter-widgets/base",
      "model_module_version": "1.2.0",
      "model_name": "LayoutModel",
      "state": {
       "_model_module": "@jupyter-widgets/base",
       "_model_module_version": "1.2.0",
       "_model_name": "LayoutModel",
       "_view_count": null,
       "_view_module": "@jupyter-widgets/base",
       "_view_module_version": "1.2.0",
       "_view_name": "LayoutView",
       "align_content": null,
       "align_items": null,
       "align_self": null,
       "border": null,
       "bottom": null,
       "display": null,
       "flex": null,
       "flex_flow": null,
       "grid_area": null,
       "grid_auto_columns": null,
       "grid_auto_flow": null,
       "grid_auto_rows": null,
       "grid_column": null,
       "grid_gap": null,
       "grid_row": null,
       "grid_template_areas": null,
       "grid_template_columns": null,
       "grid_template_rows": null,
       "height": null,
       "justify_content": null,
       "justify_items": null,
       "left": null,
       "margin": null,
       "max_height": null,
       "max_width": null,
       "min_height": null,
       "min_width": null,
       "object_fit": null,
       "object_position": null,
       "order": null,
       "overflow": null,
       "overflow_x": null,
       "overflow_y": null,
       "padding": null,
       "right": null,
       "top": null,
       "visibility": null,
       "width": null
      }
     },
     "b22278dd9cdf4a4484d0eed5c6ac6a94": {
      "model_module": "@jupyter-widgets/controls",
      "model_module_version": "1.5.0",
      "model_name": "HTMLModel",
      "state": {
       "_dom_classes": [],
       "_model_module": "@jupyter-widgets/controls",
       "_model_module_version": "1.5.0",
       "_model_name": "HTMLModel",
       "_view_count": null,
       "_view_module": "@jupyter-widgets/controls",
       "_view_module_version": "1.5.0",
       "_view_name": "HTMLView",
       "description": "",
       "description_tooltip": null,
       "layout": "IPY_MODEL_306088d352a04bf38361cff96a7c63f5",
       "placeholder": "​",
       "style": "IPY_MODEL_93820673f7e94d65bddeb4adef2c6fac",
       "value": " 481/481 [00:00&lt;00:00, 19.2kB/s]"
      }
     },
     "b5f7ba4603a04debab87ff9d07e554c7": {
      "model_module": "@jupyter-widgets/controls",
      "model_module_version": "1.5.0",
      "model_name": "ProgressStyleModel",
      "state": {
       "_model_module": "@jupyter-widgets/controls",
       "_model_module_version": "1.5.0",
       "_model_name": "ProgressStyleModel",
       "_view_count": null,
       "_view_module": "@jupyter-widgets/base",
       "_view_module_version": "1.2.0",
       "_view_name": "StyleView",
       "bar_color": null,
       "description_width": ""
      }
     },
     "b9a84fbb09bb4613a6f10dbf7023f1c4": {
      "model_module": "@jupyter-widgets/base",
      "model_module_version": "1.2.0",
      "model_name": "LayoutModel",
      "state": {
       "_model_module": "@jupyter-widgets/base",
       "_model_module_version": "1.2.0",
       "_model_name": "LayoutModel",
       "_view_count": null,
       "_view_module": "@jupyter-widgets/base",
       "_view_module_version": "1.2.0",
       "_view_name": "LayoutView",
       "align_content": null,
       "align_items": null,
       "align_self": null,
       "border": null,
       "bottom": null,
       "display": null,
       "flex": null,
       "flex_flow": null,
       "grid_area": null,
       "grid_auto_columns": null,
       "grid_auto_flow": null,
       "grid_auto_rows": null,
       "grid_column": null,
       "grid_gap": null,
       "grid_row": null,
       "grid_template_areas": null,
       "grid_template_columns": null,
       "grid_template_rows": null,
       "height": null,
       "justify_content": null,
       "justify_items": null,
       "left": null,
       "margin": null,
       "max_height": null,
       "max_width": null,
       "min_height": null,
       "min_width": null,
       "object_fit": null,
       "object_position": null,
       "order": null,
       "overflow": null,
       "overflow_x": null,
       "overflow_y": null,
       "padding": null,
       "right": null,
       "top": null,
       "visibility": null,
       "width": null
      }
     },
     "bdd427c9344c4bbbb7dbfd00269d898b": {
      "model_module": "@jupyter-widgets/base",
      "model_module_version": "1.2.0",
      "model_name": "LayoutModel",
      "state": {
       "_model_module": "@jupyter-widgets/base",
       "_model_module_version": "1.2.0",
       "_model_name": "LayoutModel",
       "_view_count": null,
       "_view_module": "@jupyter-widgets/base",
       "_view_module_version": "1.2.0",
       "_view_name": "LayoutView",
       "align_content": null,
       "align_items": null,
       "align_self": null,
       "border": null,
       "bottom": null,
       "display": null,
       "flex": null,
       "flex_flow": null,
       "grid_area": null,
       "grid_auto_columns": null,
       "grid_auto_flow": null,
       "grid_auto_rows": null,
       "grid_column": null,
       "grid_gap": null,
       "grid_row": null,
       "grid_template_areas": null,
       "grid_template_columns": null,
       "grid_template_rows": null,
       "height": null,
       "justify_content": null,
       "justify_items": null,
       "left": null,
       "margin": null,
       "max_height": null,
       "max_width": null,
       "min_height": null,
       "min_width": null,
       "object_fit": null,
       "object_position": null,
       "order": null,
       "overflow": null,
       "overflow_x": null,
       "overflow_y": null,
       "padding": null,
       "right": null,
       "top": null,
       "visibility": null,
       "width": null
      }
     },
     "bea3eda53b32434bb98ed1af61673e86": {
      "model_module": "@jupyter-widgets/controls",
      "model_module_version": "1.5.0",
      "model_name": "HTMLModel",
      "state": {
       "_dom_classes": [],
       "_model_module": "@jupyter-widgets/controls",
       "_model_module_version": "1.5.0",
       "_model_name": "HTMLModel",
       "_view_count": null,
       "_view_module": "@jupyter-widgets/controls",
       "_view_module_version": "1.5.0",
       "_view_name": "HTMLView",
       "description": "",
       "description_tooltip": null,
       "layout": "IPY_MODEL_7e7f9d0ed71a4577b0d474fd27252e6f",
       "placeholder": "​",
       "style": "IPY_MODEL_74de084d8e5e4418983e5b826db07fe8",
       "value": "Downloading: 100%"
      }
     },
     "bea5667aa3d044ad85580b69b4dbbe12": {
      "model_module": "@jupyter-widgets/controls",
      "model_module_version": "1.5.0",
      "model_name": "FloatProgressModel",
      "state": {
       "_dom_classes": [],
       "_model_module": "@jupyter-widgets/controls",
       "_model_module_version": "1.5.0",
       "_model_name": "FloatProgressModel",
       "_view_count": null,
       "_view_module": "@jupyter-widgets/controls",
       "_view_module_version": "1.5.0",
       "_view_name": "ProgressView",
       "bar_style": "success",
       "description": "",
       "description_tooltip": null,
       "layout": "IPY_MODEL_1def0123f2d64681b5c29cf57a3fcff8",
       "max": 657434796.0,
       "min": 0.0,
       "orientation": "horizontal",
       "style": "IPY_MODEL_03ba9315102e402cbf82b22d493f1eb4",
       "value": 657434796.0
      }
     },
     "c5134394e0b54efc9c6637f7eef07c5f": {
      "model_module": "@jupyter-widgets/controls",
      "model_module_version": "1.5.0",
      "model_name": "HBoxModel",
      "state": {
       "_dom_classes": [],
       "_model_module": "@jupyter-widgets/controls",
       "_model_module_version": "1.5.0",
       "_model_name": "HBoxModel",
       "_view_count": null,
       "_view_module": "@jupyter-widgets/controls",
       "_view_module_version": "1.5.0",
       "_view_name": "HBoxView",
       "box_style": "",
       "children": [
        "IPY_MODEL_f1eb50ae1da84727beef41ffeea9ba51",
        "IPY_MODEL_bea5667aa3d044ad85580b69b4dbbe12",
        "IPY_MODEL_c82a4c989cf14596befff142fd957ac3"
       ],
       "layout": "IPY_MODEL_fac4ed10e713423f8ad5311a3d37fc02"
      }
     },
     "c6cb068f84da4d168aba405dde392853": {
      "model_module": "@jupyter-widgets/base",
      "model_module_version": "1.2.0",
      "model_name": "LayoutModel",
      "state": {
       "_model_module": "@jupyter-widgets/base",
       "_model_module_version": "1.2.0",
       "_model_name": "LayoutModel",
       "_view_count": null,
       "_view_module": "@jupyter-widgets/base",
       "_view_module_version": "1.2.0",
       "_view_name": "LayoutView",
       "align_content": null,
       "align_items": null,
       "align_self": null,
       "border": null,
       "bottom": null,
       "display": null,
       "flex": null,
       "flex_flow": null,
       "grid_area": null,
       "grid_auto_columns": null,
       "grid_auto_flow": null,
       "grid_auto_rows": null,
       "grid_column": null,
       "grid_gap": null,
       "grid_row": null,
       "grid_template_areas": null,
       "grid_template_columns": null,
       "grid_template_rows": null,
       "height": null,
       "justify_content": null,
       "justify_items": null,
       "left": null,
       "margin": null,
       "max_height": null,
       "max_width": null,
       "min_height": null,
       "min_width": null,
       "object_fit": null,
       "object_position": null,
       "order": null,
       "overflow": null,
       "overflow_x": null,
       "overflow_y": null,
       "padding": null,
       "right": null,
       "top": null,
       "visibility": null,
       "width": null
      }
     },
     "c72d504680a544cbaf45131b1c1c59cf": {
      "model_module": "@jupyter-widgets/controls",
      "model_module_version": "1.5.0",
      "model_name": "HTMLModel",
      "state": {
       "_dom_classes": [],
       "_model_module": "@jupyter-widgets/controls",
       "_model_module_version": "1.5.0",
       "_model_name": "HTMLModel",
       "_view_count": null,
       "_view_module": "@jupyter-widgets/controls",
       "_view_module_version": "1.5.0",
       "_view_name": "HTMLView",
       "description": "",
       "description_tooltip": null,
       "layout": "IPY_MODEL_c6cb068f84da4d168aba405dde392853",
       "placeholder": "​",
       "style": "IPY_MODEL_01fbb87c581e42eab031e25dbb7b7607",
       "value": "Downloading: 100%"
      }
     },
     "c82a4c989cf14596befff142fd957ac3": {
      "model_module": "@jupyter-widgets/controls",
      "model_module_version": "1.5.0",
      "model_name": "HTMLModel",
      "state": {
       "_dom_classes": [],
       "_model_module": "@jupyter-widgets/controls",
       "_model_module_version": "1.5.0",
       "_model_name": "HTMLModel",
       "_view_count": null,
       "_view_module": "@jupyter-widgets/controls",
       "_view_module_version": "1.5.0",
       "_view_name": "HTMLView",
       "description": "",
       "description_tooltip": null,
       "layout": "IPY_MODEL_6181d322dc444b6eaf737642fef8de01",
       "placeholder": "​",
       "style": "IPY_MODEL_913779eab15f44f5a3187eba778e8244",
       "value": " 627M/627M [00:31&lt;00:00, 21.9MB/s]"
      }
     },
     "cb6a45ac58574a88a5c636a91af3ff7e": {
      "model_module": "@jupyter-widgets/base",
      "model_module_version": "1.2.0",
      "model_name": "LayoutModel",
      "state": {
       "_model_module": "@jupyter-widgets/base",
       "_model_module_version": "1.2.0",
       "_model_name": "LayoutModel",
       "_view_count": null,
       "_view_module": "@jupyter-widgets/base",
       "_view_module_version": "1.2.0",
       "_view_name": "LayoutView",
       "align_content": null,
       "align_items": null,
       "align_self": null,
       "border": null,
       "bottom": null,
       "display": null,
       "flex": null,
       "flex_flow": null,
       "grid_area": null,
       "grid_auto_columns": null,
       "grid_auto_flow": null,
       "grid_auto_rows": null,
       "grid_column": null,
       "grid_gap": null,
       "grid_row": null,
       "grid_template_areas": null,
       "grid_template_columns": null,
       "grid_template_rows": null,
       "height": null,
       "justify_content": null,
       "justify_items": null,
       "left": null,
       "margin": null,
       "max_height": null,
       "max_width": null,
       "min_height": null,
       "min_width": null,
       "object_fit": null,
       "object_position": null,
       "order": null,
       "overflow": null,
       "overflow_x": null,
       "overflow_y": null,
       "padding": null,
       "right": null,
       "top": null,
       "visibility": null,
       "width": null
      }
     },
     "d7c035e5b2804048b992a71eb3988dda": {
      "model_module": "@jupyter-widgets/controls",
      "model_module_version": "1.5.0",
      "model_name": "FloatProgressModel",
      "state": {
       "_dom_classes": [],
       "_model_module": "@jupyter-widgets/controls",
       "_model_module_version": "1.5.0",
       "_model_name": "FloatProgressModel",
       "_view_count": null,
       "_view_module": "@jupyter-widgets/controls",
       "_view_module_version": "1.5.0",
       "_view_name": "ProgressView",
       "bar_style": "success",
       "description": "",
       "description_tooltip": null,
       "layout": "IPY_MODEL_fdabe2fb8f1145c2bfc4fee6db225fa2",
       "max": 231508.0,
       "min": 0.0,
       "orientation": "horizontal",
       "style": "IPY_MODEL_3293abd50a5d41fdb2d11c1fe55a445f",
       "value": 231508.0
      }
     },
     "d8cea52d2e374ae6804fbea5a955d4dd": {
      "model_module": "@jupyter-widgets/controls",
      "model_module_version": "1.5.0",
      "model_name": "HBoxModel",
      "state": {
       "_dom_classes": [],
       "_model_module": "@jupyter-widgets/controls",
       "_model_module_version": "1.5.0",
       "_model_name": "HBoxModel",
       "_view_count": null,
       "_view_module": "@jupyter-widgets/controls",
       "_view_module_version": "1.5.0",
       "_view_name": "HBoxView",
       "box_style": "",
       "children": [
        "IPY_MODEL_989792cb442647c28601a3cce8ffcf6f",
        "IPY_MODEL_1984c91e8d79487d9486359f1b73ebad",
        "IPY_MODEL_f534223b9eb540f09f02c2acc7aece18"
       ],
       "layout": "IPY_MODEL_f30318998f754466950ecb9e8bde847d"
      }
     },
     "d930c26d377e4f6a8cda69defa23a75d": {
      "model_module": "@jupyter-widgets/controls",
      "model_module_version": "1.5.0",
      "model_name": "ProgressStyleModel",
      "state": {
       "_model_module": "@jupyter-widgets/controls",
       "_model_module_version": "1.5.0",
       "_model_name": "ProgressStyleModel",
       "_view_count": null,
       "_view_module": "@jupyter-widgets/base",
       "_view_module_version": "1.2.0",
       "_view_name": "StyleView",
       "bar_color": null,
       "description_width": ""
      }
     },
     "d9d2be0fe5414665a67de5bb272884a7": {
      "model_module": "@jupyter-widgets/controls",
      "model_module_version": "1.5.0",
      "model_name": "HTMLModel",
      "state": {
       "_dom_classes": [],
       "_model_module": "@jupyter-widgets/controls",
       "_model_module_version": "1.5.0",
       "_model_name": "HTMLModel",
       "_view_count": null,
       "_view_module": "@jupyter-widgets/controls",
       "_view_module_version": "1.5.0",
       "_view_name": "HTMLView",
       "description": "",
       "description_tooltip": null,
       "layout": "IPY_MODEL_89884e3b7af74a469e40c930a416687d",
       "placeholder": "​",
       "style": "IPY_MODEL_ed15dcadd84f4e1ba55831bca8accd1f",
       "value": " 455k/455k [00:00&lt;00:00, 547kB/s]"
      }
     },
     "daef12aae36a4e88b64cd78da3ce73ae": {
      "model_module": "@jupyter-widgets/controls",
      "model_module_version": "1.5.0",
      "model_name": "FloatProgressModel",
      "state": {
       "_dom_classes": [],
       "_model_module": "@jupyter-widgets/controls",
       "_model_module_version": "1.5.0",
       "_model_name": "FloatProgressModel",
       "_view_count": null,
       "_view_module": "@jupyter-widgets/controls",
       "_view_module_version": "1.5.0",
       "_view_name": "ProgressView",
       "bar_style": "success",
       "description": "",
       "description_tooltip": null,
       "layout": "IPY_MODEL_8880ac8db1ec4609b5c6cc88026bea67",
       "max": 456318.0,
       "min": 0.0,
       "orientation": "horizontal",
       "style": "IPY_MODEL_8042e3339ff24e2fbee2abc9f02a6d38",
       "value": 456318.0
      }
     },
     "e54b62d559ac4901bd8480a5a4e16b46": {
      "model_module": "@jupyter-widgets/controls",
      "model_module_version": "1.5.0",
      "model_name": "ProgressStyleModel",
      "state": {
       "_model_module": "@jupyter-widgets/controls",
       "_model_module_version": "1.5.0",
       "_model_name": "ProgressStyleModel",
       "_view_count": null,
       "_view_module": "@jupyter-widgets/base",
       "_view_module_version": "1.2.0",
       "_view_name": "StyleView",
       "bar_color": null,
       "description_width": ""
      }
     },
     "e63b499fed254caaaaa1c44e77319835": {
      "model_module": "@jupyter-widgets/controls",
      "model_module_version": "1.5.0",
      "model_name": "ProgressStyleModel",
      "state": {
       "_model_module": "@jupyter-widgets/controls",
       "_model_module_version": "1.5.0",
       "_model_name": "ProgressStyleModel",
       "_view_count": null,
       "_view_module": "@jupyter-widgets/base",
       "_view_module_version": "1.2.0",
       "_view_name": "StyleView",
       "bar_color": null,
       "description_width": ""
      }
     },
     "e7834ae788064337af7941a6bdc877ae": {
      "model_module": "@jupyter-widgets/base",
      "model_module_version": "1.2.0",
      "model_name": "LayoutModel",
      "state": {
       "_model_module": "@jupyter-widgets/base",
       "_model_module_version": "1.2.0",
       "_model_name": "LayoutModel",
       "_view_count": null,
       "_view_module": "@jupyter-widgets/base",
       "_view_module_version": "1.2.0",
       "_view_name": "LayoutView",
       "align_content": null,
       "align_items": null,
       "align_self": null,
       "border": null,
       "bottom": null,
       "display": null,
       "flex": null,
       "flex_flow": null,
       "grid_area": null,
       "grid_auto_columns": null,
       "grid_auto_flow": null,
       "grid_auto_rows": null,
       "grid_column": null,
       "grid_gap": null,
       "grid_row": null,
       "grid_template_areas": null,
       "grid_template_columns": null,
       "grid_template_rows": null,
       "height": null,
       "justify_content": null,
       "justify_items": null,
       "left": null,
       "margin": null,
       "max_height": null,
       "max_width": null,
       "min_height": null,
       "min_width": null,
       "object_fit": null,
       "object_position": null,
       "order": null,
       "overflow": null,
       "overflow_x": null,
       "overflow_y": null,
       "padding": null,
       "right": null,
       "top": null,
       "visibility": null,
       "width": null
      }
     },
     "e92c66c7150d498884b96e692a5ce470": {
      "model_module": "@jupyter-widgets/controls",
      "model_module_version": "1.5.0",
      "model_name": "DescriptionStyleModel",
      "state": {
       "_model_module": "@jupyter-widgets/controls",
       "_model_module_version": "1.5.0",
       "_model_name": "DescriptionStyleModel",
       "_view_count": null,
       "_view_module": "@jupyter-widgets/base",
       "_view_module_version": "1.2.0",
       "_view_name": "StyleView",
       "description_width": ""
      }
     },
     "ed15dcadd84f4e1ba55831bca8accd1f": {
      "model_module": "@jupyter-widgets/controls",
      "model_module_version": "1.5.0",
      "model_name": "DescriptionStyleModel",
      "state": {
       "_model_module": "@jupyter-widgets/controls",
       "_model_module_version": "1.5.0",
       "_model_name": "DescriptionStyleModel",
       "_view_count": null,
       "_view_module": "@jupyter-widgets/base",
       "_view_module_version": "1.2.0",
       "_view_name": "StyleView",
       "description_width": ""
      }
     },
     "ed75bab414cd4ec48c793628b25a22e2": {
      "model_module": "@jupyter-widgets/controls",
      "model_module_version": "1.5.0",
      "model_name": "HTMLModel",
      "state": {
       "_dom_classes": [],
       "_model_module": "@jupyter-widgets/controls",
       "_model_module_version": "1.5.0",
       "_model_name": "HTMLModel",
       "_view_count": null,
       "_view_module": "@jupyter-widgets/controls",
       "_view_module_version": "1.5.0",
       "_view_name": "HTMLView",
       "description": "",
       "description_tooltip": null,
       "layout": "IPY_MODEL_90baf80e78a54e51b4d697ceda14fbae",
       "placeholder": "​",
       "style": "IPY_MODEL_76ce264175a749a1bdbb87b2fae4adf9",
       "value": " 226k/226k [00:00&lt;00:00, 705kB/s]"
      }
     },
     "f1c7c1955f3f44f5b60c9541f2f6f707": {
      "model_module": "@jupyter-widgets/controls",
      "model_module_version": "1.5.0",
      "model_name": "HBoxModel",
      "state": {
       "_dom_classes": [],
       "_model_module": "@jupyter-widgets/controls",
       "_model_module_version": "1.5.0",
       "_model_name": "HBoxModel",
       "_view_count": null,
       "_view_module": "@jupyter-widgets/controls",
       "_view_module_version": "1.5.0",
       "_view_name": "HBoxView",
       "box_style": "",
       "children": [
        "IPY_MODEL_ff80418e0b884aaaaed189ec4eceb0c3",
        "IPY_MODEL_47da4c989e894294896aee20937a1c98",
        "IPY_MODEL_8480d77b73654c6ca0632c84e4fe98c4"
       ],
       "layout": "IPY_MODEL_4b6cd9463f6f418b81be58d2bdf88d4a"
      }
     },
     "f1eb50ae1da84727beef41ffeea9ba51": {
      "model_module": "@jupyter-widgets/controls",
      "model_module_version": "1.5.0",
      "model_name": "HTMLModel",
      "state": {
       "_dom_classes": [],
       "_model_module": "@jupyter-widgets/controls",
       "_model_module_version": "1.5.0",
       "_model_name": "HTMLModel",
       "_view_count": null,
       "_view_module": "@jupyter-widgets/controls",
       "_view_module_version": "1.5.0",
       "_view_name": "HTMLView",
       "description": "",
       "description_tooltip": null,
       "layout": "IPY_MODEL_bdd427c9344c4bbbb7dbfd00269d898b",
       "placeholder": "​",
       "style": "IPY_MODEL_ade3d47133ed42eb9ae9c4481cde08be",
       "value": "Downloading: 100%"
      }
     },
     "f30318998f754466950ecb9e8bde847d": {
      "model_module": "@jupyter-widgets/base",
      "model_module_version": "1.2.0",
      "model_name": "LayoutModel",
      "state": {
       "_model_module": "@jupyter-widgets/base",
       "_model_module_version": "1.2.0",
       "_model_name": "LayoutModel",
       "_view_count": null,
       "_view_module": "@jupyter-widgets/base",
       "_view_module_version": "1.2.0",
       "_view_name": "LayoutView",
       "align_content": null,
       "align_items": null,
       "align_self": null,
       "border": null,
       "bottom": null,
       "display": null,
       "flex": null,
       "flex_flow": null,
       "grid_area": null,
       "grid_auto_columns": null,
       "grid_auto_flow": null,
       "grid_auto_rows": null,
       "grid_column": null,
       "grid_gap": null,
       "grid_row": null,
       "grid_template_areas": null,
       "grid_template_columns": null,
       "grid_template_rows": null,
       "height": null,
       "justify_content": null,
       "justify_items": null,
       "left": null,
       "margin": null,
       "max_height": null,
       "max_width": null,
       "min_height": null,
       "min_width": null,
       "object_fit": null,
       "object_position": null,
       "order": null,
       "overflow": null,
       "overflow_x": null,
       "overflow_y": null,
       "padding": null,
       "right": null,
       "top": null,
       "visibility": null,
       "width": null
      }
     },
     "f534223b9eb540f09f02c2acc7aece18": {
      "model_module": "@jupyter-widgets/controls",
      "model_module_version": "1.5.0",
      "model_name": "HTMLModel",
      "state": {
       "_dom_classes": [],
       "_model_module": "@jupyter-widgets/controls",
       "_model_module_version": "1.5.0",
       "_model_name": "HTMLModel",
       "_view_count": null,
       "_view_module": "@jupyter-widgets/controls",
       "_view_module_version": "1.5.0",
       "_view_name": "HTMLView",
       "description": "",
       "description_tooltip": null,
       "layout": "IPY_MODEL_375de583923a4ce4ad255ad7b5be9a08",
       "placeholder": "​",
       "style": "IPY_MODEL_e92c66c7150d498884b96e692a5ce470",
       "value": " 878k/878k [00:00&lt;00:00, 1.76MB/s]"
      }
     },
     "f65f3960309d427fa8720ad8833e6310": {
      "model_module": "@jupyter-widgets/controls",
      "model_module_version": "1.5.0",
      "model_name": "HBoxModel",
      "state": {
       "_dom_classes": [],
       "_model_module": "@jupyter-widgets/controls",
       "_model_module_version": "1.5.0",
       "_model_name": "HBoxModel",
       "_view_count": null,
       "_view_module": "@jupyter-widgets/controls",
       "_view_module_version": "1.5.0",
       "_view_name": "HBoxView",
       "box_style": "",
       "children": [
        "IPY_MODEL_c72d504680a544cbaf45131b1c1c59cf",
        "IPY_MODEL_7bd59aac15564f60a42aa8051479e198",
        "IPY_MODEL_d9d2be0fe5414665a67de5bb272884a7"
       ],
       "layout": "IPY_MODEL_1b355b88ac864dcaa83e1223df3b6db9"
      }
     },
     "f778b46fadef447c9513db360dc6b942": {
      "model_module": "@jupyter-widgets/controls",
      "model_module_version": "1.5.0",
      "model_name": "HBoxModel",
      "state": {
       "_dom_classes": [],
       "_model_module": "@jupyter-widgets/controls",
       "_model_module_version": "1.5.0",
       "_model_name": "HBoxModel",
       "_view_count": null,
       "_view_module": "@jupyter-widgets/controls",
       "_view_module_version": "1.5.0",
       "_view_name": "HBoxView",
       "box_style": "",
       "children": [
        "IPY_MODEL_82b10d385b3746c28c534637ac3874bd",
        "IPY_MODEL_28566bf1f286413e9f2d3f2224b9893d",
        "IPY_MODEL_09bebe053e4b4c06bb9861c71a4fb8e0"
       ],
       "layout": "IPY_MODEL_88f08a45dc4e4fb289e10cf458809301"
      }
     },
     "fac4ed10e713423f8ad5311a3d37fc02": {
      "model_module": "@jupyter-widgets/base",
      "model_module_version": "1.2.0",
      "model_name": "LayoutModel",
      "state": {
       "_model_module": "@jupyter-widgets/base",
       "_model_module_version": "1.2.0",
       "_model_name": "LayoutModel",
       "_view_count": null,
       "_view_module": "@jupyter-widgets/base",
       "_view_module_version": "1.2.0",
       "_view_name": "LayoutView",
       "align_content": null,
       "align_items": null,
       "align_self": null,
       "border": null,
       "bottom": null,
       "display": null,
       "flex": null,
       "flex_flow": null,
       "grid_area": null,
       "grid_auto_columns": null,
       "grid_auto_flow": null,
       "grid_auto_rows": null,
       "grid_column": null,
       "grid_gap": null,
       "grid_row": null,
       "grid_template_areas": null,
       "grid_template_columns": null,
       "grid_template_rows": null,
       "height": null,
       "justify_content": null,
       "justify_items": null,
       "left": null,
       "margin": null,
       "max_height": null,
       "max_width": null,
       "min_height": null,
       "min_width": null,
       "object_fit": null,
       "object_position": null,
       "order": null,
       "overflow": null,
       "overflow_x": null,
       "overflow_y": null,
       "padding": null,
       "right": null,
       "top": null,
       "visibility": null,
       "width": null
      }
     },
     "fbf33c251cae49f0b265b637f66bfcaf": {
      "model_module": "@jupyter-widgets/base",
      "model_module_version": "1.2.0",
      "model_name": "LayoutModel",
      "state": {
       "_model_module": "@jupyter-widgets/base",
       "_model_module_version": "1.2.0",
       "_model_name": "LayoutModel",
       "_view_count": null,
       "_view_module": "@jupyter-widgets/base",
       "_view_module_version": "1.2.0",
       "_view_name": "LayoutView",
       "align_content": null,
       "align_items": null,
       "align_self": null,
       "border": null,
       "bottom": null,
       "display": null,
       "flex": null,
       "flex_flow": null,
       "grid_area": null,
       "grid_auto_columns": null,
       "grid_auto_flow": null,
       "grid_auto_rows": null,
       "grid_column": null,
       "grid_gap": null,
       "grid_row": null,
       "grid_template_areas": null,
       "grid_template_columns": null,
       "grid_template_rows": null,
       "height": null,
       "justify_content": null,
       "justify_items": null,
       "left": null,
       "margin": null,
       "max_height": null,
       "max_width": null,
       "min_height": null,
       "min_width": null,
       "object_fit": null,
       "object_position": null,
       "order": null,
       "overflow": null,
       "overflow_x": null,
       "overflow_y": null,
       "padding": null,
       "right": null,
       "top": null,
       "visibility": null,
       "width": null
      }
     },
     "fc5a4a20aab94a9c97e995a3897d2c7b": {
      "model_module": "@jupyter-widgets/controls",
      "model_module_version": "1.5.0",
      "model_name": "DescriptionStyleModel",
      "state": {
       "_model_module": "@jupyter-widgets/controls",
       "_model_module_version": "1.5.0",
       "_model_name": "DescriptionStyleModel",
       "_view_count": null,
       "_view_module": "@jupyter-widgets/base",
       "_view_module_version": "1.2.0",
       "_view_name": "StyleView",
       "description_width": ""
      }
     },
     "fdabe2fb8f1145c2bfc4fee6db225fa2": {
      "model_module": "@jupyter-widgets/base",
      "model_module_version": "1.2.0",
      "model_name": "LayoutModel",
      "state": {
       "_model_module": "@jupyter-widgets/base",
       "_model_module_version": "1.2.0",
       "_model_name": "LayoutModel",
       "_view_count": null,
       "_view_module": "@jupyter-widgets/base",
       "_view_module_version": "1.2.0",
       "_view_name": "LayoutView",
       "align_content": null,
       "align_items": null,
       "align_self": null,
       "border": null,
       "bottom": null,
       "display": null,
       "flex": null,
       "flex_flow": null,
       "grid_area": null,
       "grid_auto_columns": null,
       "grid_auto_flow": null,
       "grid_auto_rows": null,
       "grid_column": null,
       "grid_gap": null,
       "grid_row": null,
       "grid_template_areas": null,
       "grid_template_columns": null,
       "grid_template_rows": null,
       "height": null,
       "justify_content": null,
       "justify_items": null,
       "left": null,
       "margin": null,
       "max_height": null,
       "max_width": null,
       "min_height": null,
       "min_width": null,
       "object_fit": null,
       "object_position": null,
       "order": null,
       "overflow": null,
       "overflow_x": null,
       "overflow_y": null,
       "padding": null,
       "right": null,
       "top": null,
       "visibility": null,
       "width": null
      }
     },
     "feec941dc5f945ad91c5623ce529142c": {
      "model_module": "@jupyter-widgets/controls",
      "model_module_version": "1.5.0",
      "model_name": "DescriptionStyleModel",
      "state": {
       "_model_module": "@jupyter-widgets/controls",
       "_model_module_version": "1.5.0",
       "_model_name": "DescriptionStyleModel",
       "_view_count": null,
       "_view_module": "@jupyter-widgets/base",
       "_view_module_version": "1.2.0",
       "_view_name": "StyleView",
       "description_width": ""
      }
     },
     "ff80418e0b884aaaaed189ec4eceb0c3": {
      "model_module": "@jupyter-widgets/controls",
      "model_module_version": "1.5.0",
      "model_name": "HTMLModel",
      "state": {
       "_dom_classes": [],
       "_model_module": "@jupyter-widgets/controls",
       "_model_module_version": "1.5.0",
       "_model_name": "HTMLModel",
       "_view_count": null,
       "_view_module": "@jupyter-widgets/controls",
       "_view_module_version": "1.5.0",
       "_view_name": "HTMLView",
       "description": "",
       "description_tooltip": null,
       "layout": "IPY_MODEL_9c55d165c6fc4a8493c9a50e47fde940",
       "placeholder": "​",
       "style": "IPY_MODEL_0f41b6b3e54f41f2afc4783845b4768f",
       "value": "Downloading: 100%"
      }
     }
    },
    "version_major": 2,
    "version_minor": 0
   }
  }
 },
 "nbformat": 4,
 "nbformat_minor": 5
}
