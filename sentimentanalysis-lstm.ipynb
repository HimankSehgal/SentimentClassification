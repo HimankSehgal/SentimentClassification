{
 "cells": [
  {
   "cell_type": "markdown",
   "id": "38b4dea1",
   "metadata": {
    "_cell_guid": "b1076dfc-b9ad-4769-8c92-a6c4dae69d19",
    "_uuid": "8f2839f25d086af736a60e9eeb907d3b93b6e0e5",
    "papermill": {
     "duration": 0.04057,
     "end_time": "2022-02-02T06:50:50.185296",
     "exception": false,
     "start_time": "2022-02-02T06:50:50.144726",
     "status": "completed"
    },
    "tags": []
   },
   "source": [
    "# Introduction"
   ]
  },
  {
   "cell_type": "markdown",
   "id": "3cbeda4b",
   "metadata": {
    "papermill": {
     "duration": 0.031227,
     "end_time": "2022-02-02T06:50:50.255291",
     "exception": false,
     "start_time": "2022-02-02T06:50:50.224064",
     "status": "completed"
    },
    "tags": []
   },
   "source": [
    "In this project we'll be performing sentiment analysis on Rotten Tomatoes Dataset whose dataset has been attached in this repo\n",
    "\n",
    "The main task corresponds to a multi-class text classification on Movie Reviews Competition and the dataset contains 156.060 instances for training, whereas the testing set contains 66.292 from which we have to classify among 5 classes. The sentiment labels are:\n",
    "\n",
    "0 → Negative      </br>\n",
    "1 → Somewhat negative  </br>\n",
    "2 → Neutral </br>\n",
    "3 → Somewhat positive </br>\n",
    "4 → Positive </br>\n",
    "\n",
    "\n",
    "\n",
    "We will be comparing performance of BiLSTM Model"
   ]
  },
  {
   "cell_type": "markdown",
   "id": "5be0b24e",
   "metadata": {
    "papermill": {
     "duration": 0.035763,
     "end_time": "2022-02-02T06:50:50.322694",
     "exception": false,
     "start_time": "2022-02-02T06:50:50.286931",
     "status": "completed"
    },
    "tags": []
   },
   "source": [
    "# Steps to be followed\n",
    "\n",
    "1. Importing necessary libraries\n",
    "2. Opening the train and test dataset in the form of pandas dataframe and perform exploratory data analysis on train data \n",
    "3. Taking the train data and splitting it into train and val dataset using <tt>**StratifiedSplit()**</tt>\n",
    "4. Performing text preprocessing like pattern matching using regex , word tokenization , lemmatization\n",
    "5. Building the LSTM model and training it\n",
    "6. Analysing the performance of model\n",
    "7. Future improvments"
   ]
  },
  {
   "cell_type": "markdown",
   "id": "0fc2a035",
   "metadata": {
    "papermill": {
     "duration": 0.038852,
     "end_time": "2022-02-02T06:50:50.412428",
     "exception": false,
     "start_time": "2022-02-02T06:50:50.373576",
     "status": "completed"
    },
    "tags": []
   },
   "source": [
    "### Step 1. Importing necessary libraries"
   ]
  },
  {
   "cell_type": "code",
   "execution_count": 1,
   "id": "df4f03ee",
   "metadata": {
    "execution": {
     "iopub.execute_input": "2022-02-02T06:50:50.483969Z",
     "iopub.status.busy": "2022-02-02T06:50:50.483473Z",
     "iopub.status.idle": "2022-02-02T06:50:51.337901Z",
     "shell.execute_reply": "2022-02-02T06:50:51.337261Z",
     "shell.execute_reply.started": "2022-02-02T06:03:11.540064Z"
    },
    "papermill": {
     "duration": 0.894425,
     "end_time": "2022-02-02T06:50:51.338089",
     "exception": false,
     "start_time": "2022-02-02T06:50:50.443664",
     "status": "completed"
    },
    "tags": []
   },
   "outputs": [],
   "source": [
    "import pandas as pd\n",
    "import numpy as np\n",
    "import matplotlib.pyplot as plt\n",
    "import seaborn as sns\n",
    "## other libraries will be imported as and when required"
   ]
  },
  {
   "cell_type": "markdown",
   "id": "fd5d4754",
   "metadata": {
    "papermill": {
     "duration": 0.029686,
     "end_time": "2022-02-02T06:50:51.399854",
     "exception": false,
     "start_time": "2022-02-02T06:50:51.370168",
     "status": "completed"
    },
    "tags": []
   },
   "source": [
    "## Step 2. Opening the dataset and performing EDA"
   ]
  },
  {
   "cell_type": "code",
   "execution_count": 2,
   "id": "263b5cc4",
   "metadata": {
    "execution": {
     "iopub.execute_input": "2022-02-02T06:50:51.464486Z",
     "iopub.status.busy": "2022-02-02T06:50:51.463948Z",
     "iopub.status.idle": "2022-02-02T06:50:51.786410Z",
     "shell.execute_reply": "2022-02-02T06:50:51.786868Z",
     "shell.execute_reply.started": "2022-02-02T06:03:12.541775Z"
    },
    "papermill": {
     "duration": 0.357473,
     "end_time": "2022-02-02T06:50:51.787046",
     "exception": false,
     "start_time": "2022-02-02T06:50:51.429573",
     "status": "completed"
    },
    "tags": []
   },
   "outputs": [],
   "source": [
    "train_df = pd.read_csv('../input/sentimentdata/train.tsv/train.tsv' , sep='\\t')\n",
    "test_df = pd.read_csv('../input/sentimentdata/test.tsv/test.tsv' , sep = '\\t')"
   ]
  },
  {
   "cell_type": "code",
   "execution_count": 3,
   "id": "0f7c6e36",
   "metadata": {
    "execution": {
     "iopub.execute_input": "2022-02-02T06:50:51.856539Z",
     "iopub.status.busy": "2022-02-02T06:50:51.855692Z",
     "iopub.status.idle": "2022-02-02T06:50:51.867122Z",
     "shell.execute_reply": "2022-02-02T06:50:51.866670Z",
     "shell.execute_reply.started": "2022-02-02T06:03:13.008071Z"
    },
    "papermill": {
     "duration": 0.049163,
     "end_time": "2022-02-02T06:50:51.867231",
     "exception": false,
     "start_time": "2022-02-02T06:50:51.818068",
     "status": "completed"
    },
    "tags": []
   },
   "outputs": [
    {
     "data": {
      "text/html": [
       "<div>\n",
       "<style scoped>\n",
       "    .dataframe tbody tr th:only-of-type {\n",
       "        vertical-align: middle;\n",
       "    }\n",
       "\n",
       "    .dataframe tbody tr th {\n",
       "        vertical-align: top;\n",
       "    }\n",
       "\n",
       "    .dataframe thead th {\n",
       "        text-align: right;\n",
       "    }\n",
       "</style>\n",
       "<table border=\"1\" class=\"dataframe\">\n",
       "  <thead>\n",
       "    <tr style=\"text-align: right;\">\n",
       "      <th></th>\n",
       "      <th>PhraseId</th>\n",
       "      <th>SentenceId</th>\n",
       "      <th>Phrase</th>\n",
       "      <th>Sentiment</th>\n",
       "    </tr>\n",
       "  </thead>\n",
       "  <tbody>\n",
       "    <tr>\n",
       "      <th>0</th>\n",
       "      <td>1</td>\n",
       "      <td>1</td>\n",
       "      <td>A series of escapades demonstrating the adage ...</td>\n",
       "      <td>1</td>\n",
       "    </tr>\n",
       "    <tr>\n",
       "      <th>1</th>\n",
       "      <td>2</td>\n",
       "      <td>1</td>\n",
       "      <td>A series of escapades demonstrating the adage ...</td>\n",
       "      <td>2</td>\n",
       "    </tr>\n",
       "    <tr>\n",
       "      <th>2</th>\n",
       "      <td>3</td>\n",
       "      <td>1</td>\n",
       "      <td>A series</td>\n",
       "      <td>2</td>\n",
       "    </tr>\n",
       "    <tr>\n",
       "      <th>3</th>\n",
       "      <td>4</td>\n",
       "      <td>1</td>\n",
       "      <td>A</td>\n",
       "      <td>2</td>\n",
       "    </tr>\n",
       "    <tr>\n",
       "      <th>4</th>\n",
       "      <td>5</td>\n",
       "      <td>1</td>\n",
       "      <td>series</td>\n",
       "      <td>2</td>\n",
       "    </tr>\n",
       "  </tbody>\n",
       "</table>\n",
       "</div>"
      ],
      "text/plain": [
       "   PhraseId  SentenceId                                             Phrase  \\\n",
       "0         1           1  A series of escapades demonstrating the adage ...   \n",
       "1         2           1  A series of escapades demonstrating the adage ...   \n",
       "2         3           1                                           A series   \n",
       "3         4           1                                                  A   \n",
       "4         5           1                                             series   \n",
       "\n",
       "   Sentiment  \n",
       "0          1  \n",
       "1          2  \n",
       "2          2  \n",
       "3          2  \n",
       "4          2  "
      ]
     },
     "execution_count": 3,
     "metadata": {},
     "output_type": "execute_result"
    }
   ],
   "source": [
    "train_df.head()"
   ]
  },
  {
   "cell_type": "code",
   "execution_count": 4,
   "id": "2fd7a3f2",
   "metadata": {
    "execution": {
     "iopub.execute_input": "2022-02-02T06:50:51.987682Z",
     "iopub.status.busy": "2022-02-02T06:50:51.983216Z",
     "iopub.status.idle": "2022-02-02T06:50:52.024968Z",
     "shell.execute_reply": "2022-02-02T06:50:52.026016Z",
     "shell.execute_reply.started": "2022-02-02T06:03:13.030644Z"
    },
    "papermill": {
     "duration": 0.113677,
     "end_time": "2022-02-02T06:50:52.026275",
     "exception": false,
     "start_time": "2022-02-02T06:50:51.912598",
     "status": "completed"
    },
    "tags": []
   },
   "outputs": [
    {
     "name": "stdout",
     "output_type": "stream",
     "text": [
      "(156060, 4)\n",
      "Index(['PhraseId', 'SentenceId', 'Phrase', 'Sentiment'], dtype='object')\n",
      "PhraseId      0\n",
      "SentenceId    0\n",
      "Phrase        0\n",
      "Sentiment     0\n",
      "dtype: int64\n"
     ]
    }
   ],
   "source": [
    "print(train_df.shape)\n",
    "#print(train_df.info)\n",
    "print(train_df.columns)\n",
    "print(train_df.isnull().sum())"
   ]
  },
  {
   "cell_type": "code",
   "execution_count": 5,
   "id": "94197604",
   "metadata": {
    "execution": {
     "iopub.execute_input": "2022-02-02T06:50:52.133615Z",
     "iopub.status.busy": "2022-02-02T06:50:52.132822Z",
     "iopub.status.idle": "2022-02-02T06:50:52.530180Z",
     "shell.execute_reply": "2022-02-02T06:50:52.529721Z",
     "shell.execute_reply.started": "2022-02-02T06:03:13.056433Z"
    },
    "papermill": {
     "duration": 0.454947,
     "end_time": "2022-02-02T06:50:52.530316",
     "exception": false,
     "start_time": "2022-02-02T06:50:52.075369",
     "status": "completed"
    },
    "tags": []
   },
   "outputs": [
    {
     "data": {
      "text/plain": [
       "<AxesSubplot:title={'center':'Pie chart of Sentiment Class'}, ylabel='Sentiment'>"
      ]
     },
     "execution_count": 5,
     "metadata": {},
     "output_type": "execute_result"
    },
    {
     "data": {
      "image/png": "[encoded data removed]",
      "text/plain": [
       "<Figure size 864x864 with 1 Axes>"
      ]
     },
     "metadata": {},
     "output_type": "display_data"
    }
   ],
   "source": [
    "df2=train_df.copy(deep=True)\n",
    "pie1=pd.DataFrame(df2['Sentiment'].replace(0,'Negative').replace(1,'Somewhat negative').replace(2,'Neutral').replace(3,'Somewhat positive').replace(4,'Positive').value_counts())\n",
    "pie1.reset_index(inplace=True)\n",
    "pie1.plot(kind='pie', title='Pie chart of Sentiment Class',y = 'Sentiment', \n",
    "          autopct='%1.1f%%', shadow=False, labels=pie1['index'], legend = False, fontsize=14, figsize=(12,12))"
   ]
  },
  {
   "cell_type": "code",
   "execution_count": 6,
   "id": "c1f716f3",
   "metadata": {
    "execution": {
     "iopub.execute_input": "2022-02-02T06:50:52.605755Z",
     "iopub.status.busy": "2022-02-02T06:50:52.604949Z",
     "iopub.status.idle": "2022-02-02T06:50:54.148529Z",
     "shell.execute_reply": "2022-02-02T06:50:54.148937Z",
     "shell.execute_reply.started": "2022-02-02T06:03:13.400594Z"
    },
    "papermill": {
     "duration": 1.586028,
     "end_time": "2022-02-02T06:50:54.149099",
     "exception": false,
     "start_time": "2022-02-02T06:50:52.563071",
     "status": "completed"
    },
    "tags": []
   },
   "outputs": [
    {
     "data": {
      "text/plain": [
       "Text(0.5, 0.98, 'Histogram number of words in reviews')"
      ]
     },
     "execution_count": 6,
     "metadata": {},
     "output_type": "execute_result"
    },
    {
     "data": {
      "image/png": "[encoded data removed]",
      "text/plain": [
       "<Figure size 1800x576 with 5 Axes>"
      ]
     },
     "metadata": {
      "needs_background": "light"
     },
     "output_type": "display_data"
    }
   ],
   "source": [
    "f, (ax1, ax2, ax3, ax4, ax5) = plt.subplots(1,5,figsize=(25,8))\n",
    "ax1.hist(train_df[train_df['Sentiment'] == 0]['Phrase'].str.split().map(lambda x: len(x)), bins=50, color='b')\n",
    "ax1.set_title('Negative Reviews')\n",
    "\n",
    "ax2.hist(train_df[train_df['Sentiment'] == 1]['Phrase'].str.split().map(lambda x: len(x)), bins=50, color='r')\n",
    "ax2.set_title('Somewhat Negative Reviews')\n",
    "\n",
    "ax3.hist(train_df[train_df['Sentiment'] == 2]['Phrase'].str.split().map(lambda x: len(x)), bins=50, color='g')\n",
    "ax3.set_title('Neutral Reviews')\n",
    "\n",
    "ax4.hist(train_df[train_df['Sentiment'] == 3]['Phrase'].str.split().map(lambda x: len(x)), bins=50, color='y')\n",
    "ax4.set_title('Somewhat Positive Reviews')\n",
    "\n",
    "ax5.hist(train_df[train_df['Sentiment'] == 4]['Phrase'].str.split().map(lambda x: len(x)), bins=50, color='k')\n",
    "ax5.set_title('Positive Reviews')\n",
    "\n",
    "f.suptitle('Histogram number of words in reviews')"
   ]
  },
  {
   "cell_type": "code",
   "execution_count": 7,
   "id": "c5396c70",
   "metadata": {
    "execution": {
     "iopub.execute_input": "2022-02-02T06:50:54.235131Z",
     "iopub.status.busy": "2022-02-02T06:50:54.234296Z",
     "iopub.status.idle": "2022-02-02T06:50:54.753484Z",
     "shell.execute_reply": "2022-02-02T06:50:54.752894Z",
     "shell.execute_reply.started": "2022-02-02T06:03:14.929185Z"
    },
    "papermill": {
     "duration": 0.570966,
     "end_time": "2022-02-02T06:50:54.753618",
     "exception": false,
     "start_time": "2022-02-02T06:50:54.182652",
     "status": "completed"
    },
    "tags": []
   },
   "outputs": [
    {
     "data": {
      "text/plain": [
       "52"
      ]
     },
     "execution_count": 7,
     "metadata": {},
     "output_type": "execute_result"
    }
   ],
   "source": [
    "train_df['Phrase'].str.split().map(lambda x: len(x)).max()"
   ]
  },
  {
   "cell_type": "markdown",
   "id": "5f880bb5",
   "metadata": {
    "papermill": {
     "duration": 0.033466,
     "end_time": "2022-02-02T06:50:54.821364",
     "exception": false,
     "start_time": "2022-02-02T06:50:54.787898",
     "status": "completed"
    },
    "tags": []
   },
   "source": [
    "***Insights*** <br>\n",
    "Through these graphs we can see that most reviews of any class are of shorter length, around 5-20. But max length is 52 \n",
    "Effectively was 52 words, this means if we would Tokenize by word the max_length should be 52, however as transformers consider sub-words tokenization such number could be increased depending on the words being used which can increase such length to 60 or even more, thus we have to take that into account when modeling as it could cause our model to take significatively a long time to train, therefore we have to find a trade-off between training time and performance."
   ]
  },
  {
   "cell_type": "code",
   "execution_count": 8,
   "id": "20771c2f",
   "metadata": {
    "execution": {
     "iopub.execute_input": "2022-02-02T06:50:54.912049Z",
     "iopub.status.busy": "2022-02-02T06:50:54.911514Z",
     "iopub.status.idle": "2022-02-02T06:50:57.128774Z",
     "shell.execute_reply": "2022-02-02T06:50:57.128341Z",
     "shell.execute_reply.started": "2022-02-02T06:03:15.472953Z"
    },
    "papermill": {
     "duration": 2.273624,
     "end_time": "2022-02-02T06:50:57.128900",
     "exception": false,
     "start_time": "2022-02-02T06:50:54.855276",
     "status": "completed"
    },
    "tags": []
   },
   "outputs": [
    {
     "name": "stdout",
     "output_type": "stream",
     "text": [
      "Number of sentences which contain more than 20 words:  11494\n",
      " \n",
      "Number of sentences which contain more than 30 words:  2568\n",
      " \n",
      "Number of sentences which contain more than 40 words:  352\n",
      " \n",
      "Number of sentences which contain more than 50 words:  18\n",
      " \n",
      "Number of sentences which contain 52 words:  3\n",
      " \n"
     ]
    }
   ],
   "source": [
    "\n",
    "df=pd.DataFrame(train_df['Phrase'].str.split().map(lambda x: len(x))>=20)\n",
    "print('Number of sentences which contain more than 20 words: ', df.loc[df['Phrase']==True].shape[0])\n",
    "print(' ')\n",
    "df=pd.DataFrame(train_df['Phrase'].str.split().map(lambda x: len(x))>=30)\n",
    "print('Number of sentences which contain more than 30 words: ', df.loc[df['Phrase']==True].shape[0])\n",
    "print(' ')\n",
    "df=pd.DataFrame(train_df['Phrase'].str.split().map(lambda x: len(x))>=40)\n",
    "print('Number of sentences which contain more than 40 words: ', df.loc[df['Phrase']==True].shape[0])\n",
    "print(' ')\n",
    "df=pd.DataFrame(train_df['Phrase'].str.split().map(lambda x: len(x))>=50)\n",
    "print('Number of sentences which contain more than 50 words: ', df.loc[df['Phrase']==True].shape[0])\n",
    "print(' ')\n",
    "df=pd.DataFrame(train_df['Phrase'].str.split().map(lambda x: len(x))==52)\n",
    "print('Number of sentences which contain 52 words: ', df.loc[df['Phrase']==True].shape[0])\n",
    "print(' ')\n",
    "#dfff.loc[dfff['Phrase']==True]"
   ]
  },
  {
   "cell_type": "markdown",
   "id": "437c6655",
   "metadata": {
    "papermill": {
     "duration": 0.035208,
     "end_time": "2022-02-02T06:50:57.200042",
     "exception": false,
     "start_time": "2022-02-02T06:50:57.164834",
     "status": "completed"
    },
    "tags": []
   },
   "source": [
    "***Insights*** <br>\n",
    "We can remove sentences which have length more than 40 words and they won't contribute much but removing them can help to boost computation"
   ]
  },
  {
   "cell_type": "code",
   "execution_count": 9,
   "id": "1f3dc2fe",
   "metadata": {
    "execution": {
     "iopub.execute_input": "2022-02-02T06:50:57.290407Z",
     "iopub.status.busy": "2022-02-02T06:50:57.289587Z",
     "iopub.status.idle": "2022-02-02T06:50:57.799587Z",
     "shell.execute_reply": "2022-02-02T06:50:57.800276Z",
     "shell.execute_reply.started": "2022-02-02T06:03:17.732285Z"
    },
    "papermill": {
     "duration": 0.564961,
     "end_time": "2022-02-02T06:50:57.800441",
     "exception": false,
     "start_time": "2022-02-02T06:50:57.235480",
     "status": "completed"
    },
    "tags": []
   },
   "outputs": [
    {
     "name": "stdout",
     "output_type": "stream",
     "text": [
      "(156060, 5)\n",
      "(155708, 5)\n"
     ]
    }
   ],
   "source": [
    "train_df['len'] = train_df['Phrase'].str.split().map(lambda x: len(x))\n",
    "print(train_df.shape)\n",
    "\n",
    "train_df = train_df[train_df['len'] <40 ]\n",
    "print(train_df.shape)"
   ]
  },
  {
   "cell_type": "code",
   "execution_count": 10,
   "id": "56847492",
   "metadata": {
    "execution": {
     "iopub.execute_input": "2022-02-02T06:50:57.877705Z",
     "iopub.status.busy": "2022-02-02T06:50:57.877037Z",
     "iopub.status.idle": "2022-02-02T06:50:57.879707Z",
     "shell.execute_reply": "2022-02-02T06:50:57.880124Z",
     "shell.execute_reply.started": "2022-02-02T06:03:18.271798Z"
    },
    "papermill": {
     "duration": 0.04356,
     "end_time": "2022-02-02T06:50:57.880256",
     "exception": false,
     "start_time": "2022-02-02T06:50:57.836696",
     "status": "completed"
    },
    "tags": []
   },
   "outputs": [
    {
     "data": {
      "text/plain": [
       "352"
      ]
     },
     "execution_count": 10,
     "metadata": {},
     "output_type": "execute_result"
    }
   ],
   "source": [
    "156060 - 155708"
   ]
  },
  {
   "cell_type": "markdown",
   "id": "d479bb44",
   "metadata": {
    "papermill": {
     "duration": 0.035878,
     "end_time": "2022-02-02T06:50:57.951877",
     "exception": false,
     "start_time": "2022-02-02T06:50:57.915999",
     "status": "completed"
    },
    "tags": []
   },
   "source": [
    "### Step 3. Taking the train data and splitting it into train and val dataset using <tt>**StratifiedSplit()**</tt>"
   ]
  },
  {
   "cell_type": "code",
   "execution_count": 11,
   "id": "91ed6ff9",
   "metadata": {
    "execution": {
     "iopub.execute_input": "2022-02-02T06:50:58.026844Z",
     "iopub.status.busy": "2022-02-02T06:50:58.026095Z",
     "iopub.status.idle": "2022-02-02T06:50:58.033764Z",
     "shell.execute_reply": "2022-02-02T06:50:58.033344Z",
     "shell.execute_reply.started": "2022-02-02T06:03:18.280280Z"
    },
    "papermill": {
     "duration": 0.045891,
     "end_time": "2022-02-02T06:50:58.033879",
     "exception": false,
     "start_time": "2022-02-02T06:50:57.987988",
     "status": "completed"
    },
    "tags": []
   },
   "outputs": [
    {
     "data": {
      "text/plain": [
       "2    79525\n",
       "3    32810\n",
       "1    27195\n",
       "4     9146\n",
       "0     7032\n",
       "Name: Sentiment, dtype: int64"
      ]
     },
     "execution_count": 11,
     "metadata": {},
     "output_type": "execute_result"
    }
   ],
   "source": [
    "train_df['Sentiment'].value_counts()"
   ]
  },
  {
   "cell_type": "markdown",
   "id": "ca51d086",
   "metadata": {
    "papermill": {
     "duration": 0.03607,
     "end_time": "2022-02-02T06:50:58.106301",
     "exception": false,
     "start_time": "2022-02-02T06:50:58.070231",
     "status": "completed"
    },
    "tags": []
   },
   "source": [
    "There is an imbalance . So we cannot do random split, We'll do <tt>**StratifiedSplit()**</tt> to ensure distribution is same in splits\n"
   ]
  },
  {
   "cell_type": "code",
   "execution_count": 12,
   "id": "9cf565ab",
   "metadata": {
    "execution": {
     "iopub.execute_input": "2022-02-02T06:50:58.185289Z",
     "iopub.status.busy": "2022-02-02T06:50:58.184604Z",
     "iopub.status.idle": "2022-02-02T06:50:58.455528Z",
     "shell.execute_reply": "2022-02-02T06:50:58.454783Z",
     "shell.execute_reply.started": "2022-02-02T06:03:18.293724Z"
    },
    "papermill": {
     "duration": 0.313578,
     "end_time": "2022-02-02T06:50:58.455783",
     "exception": false,
     "start_time": "2022-02-02T06:50:58.142205",
     "status": "completed"
    },
    "tags": []
   },
   "outputs": [],
   "source": [
    "from sklearn.model_selection import StratifiedShuffleSplit\n",
    "X = train_df.drop('Sentiment',axis=1)\n",
    "y = train_df['Sentiment']\n",
    "sss = StratifiedShuffleSplit(n_splits=2, test_size=0.1, random_state=0) #test size of 10% \n",
    "\n",
    "for train_index, test_index in sss.split(X , y):  \n",
    "    X_train = X.iloc[train_index]\n",
    "    y_train = y.iloc[train_index]  \n",
    "    X_val = X.iloc[test_index]\n",
    "    y_val = y.iloc[test_index]"
   ]
  },
  {
   "cell_type": "markdown",
   "id": "ac7282cd",
   "metadata": {
    "papermill": {
     "duration": 0.036261,
     "end_time": "2022-02-02T06:50:58.529879",
     "exception": false,
     "start_time": "2022-02-02T06:50:58.493618",
     "status": "completed"
    },
    "tags": []
   },
   "source": [
    "### Step 4. Performing text preprocessing like pattern matching using regex , word tokenization , lemmatization"
   ]
  },
  {
   "cell_type": "code",
   "execution_count": 13,
   "id": "264244be",
   "metadata": {
    "execution": {
     "iopub.execute_input": "2022-02-02T06:50:58.608189Z",
     "iopub.status.busy": "2022-02-02T06:50:58.607554Z",
     "iopub.status.idle": "2022-02-02T06:50:59.028679Z",
     "shell.execute_reply": "2022-02-02T06:50:59.028205Z",
     "shell.execute_reply.started": "2022-02-02T06:03:18.594927Z"
    },
    "papermill": {
     "duration": 0.462382,
     "end_time": "2022-02-02T06:50:59.028818",
     "exception": false,
     "start_time": "2022-02-02T06:50:58.566436",
     "status": "completed"
    },
    "tags": []
   },
   "outputs": [],
   "source": [
    "from tqdm import tqdm\n",
    "import nltk\n",
    "from nltk.tokenize import word_tokenize\n",
    "from nltk.stem import WordNetLemmatizer\n",
    "from nltk.corpus import stopwords\n",
    "\n",
    "import re\n"
   ]
  },
  {
   "cell_type": "code",
   "execution_count": 14,
   "id": "a055a6ab",
   "metadata": {
    "execution": {
     "iopub.execute_input": "2022-02-02T06:50:59.107722Z",
     "iopub.status.busy": "2022-02-02T06:50:59.106922Z",
     "iopub.status.idle": "2022-02-02T06:50:59.108717Z",
     "shell.execute_reply": "2022-02-02T06:50:59.109155Z",
     "shell.execute_reply.started": "2022-02-02T06:03:19.036494Z"
    },
    "papermill": {
     "duration": 0.043904,
     "end_time": "2022-02-02T06:50:59.109284",
     "exception": false,
     "start_time": "2022-02-02T06:50:59.065380",
     "status": "completed"
    },
    "tags": []
   },
   "outputs": [],
   "source": [
    "def sentence_cleaning(df):\n",
    "    sentence = []\n",
    "    for sent in df['Phrase']:\n",
    "        \n",
    "        text = re.sub(\"[^a-zA-Z]\",\" \",sent)\n",
    "        \n",
    "        word = word_tokenize(text.lower())\n",
    "        \n",
    "        lemmatizer = WordNetLemmatizer()\n",
    "        \n",
    "        lemm_word = [lemmatizer.lemmatize(i) for i in word]\n",
    "        \n",
    "        sentence.append(lemm_word)\n",
    "    return (sentence)"
   ]
  },
  {
   "cell_type": "code",
   "execution_count": 15,
   "id": "a57be236",
   "metadata": {
    "execution": {
     "iopub.execute_input": "2022-02-02T06:50:59.185605Z",
     "iopub.status.busy": "2022-02-02T06:50:59.184999Z",
     "iopub.status.idle": "2022-02-02T06:51:04.156680Z",
     "shell.execute_reply": "2022-02-02T06:51:04.156215Z",
     "shell.execute_reply.started": "2022-02-02T06:03:19.044318Z"
    },
    "papermill": {
     "duration": 5.011377,
     "end_time": "2022-02-02T06:51:04.156807",
     "exception": false,
     "start_time": "2022-02-02T06:50:59.145430",
     "status": "completed"
    },
    "tags": []
   },
   "outputs": [],
   "source": [
    "from tensorflow.keras.utils import to_categorical\n",
    "y_train = to_categorical(y_train)\n",
    "y_val = to_categorical(y_val)\n"
   ]
  },
  {
   "cell_type": "code",
   "execution_count": 16,
   "id": "580baddd",
   "metadata": {
    "execution": {
     "iopub.execute_input": "2022-02-02T06:51:04.240380Z",
     "iopub.status.busy": "2022-02-02T06:51:04.239753Z",
     "iopub.status.idle": "2022-02-02T06:51:04.242665Z",
     "shell.execute_reply": "2022-02-02T06:51:04.243178Z",
     "shell.execute_reply.started": "2022-02-02T06:03:24.183870Z"
    },
    "papermill": {
     "duration": 0.047512,
     "end_time": "2022-02-02T06:51:04.243341",
     "exception": false,
     "start_time": "2022-02-02T06:51:04.195829",
     "status": "completed"
    },
    "tags": []
   },
   "outputs": [
    {
     "name": "stdout",
     "output_type": "stream",
     "text": [
      "(140137, 5)\n",
      "(15571, 5)\n"
     ]
    }
   ],
   "source": [
    "print(y_train.shape)\n",
    "print(y_val.shape)"
   ]
  },
  {
   "cell_type": "code",
   "execution_count": 17,
   "id": "5798983c",
   "metadata": {
    "execution": {
     "iopub.execute_input": "2022-02-02T06:51:04.323242Z",
     "iopub.status.busy": "2022-02-02T06:51:04.322589Z",
     "iopub.status.idle": "2022-02-02T06:51:31.930600Z",
     "shell.execute_reply": "2022-02-02T06:51:31.929690Z",
     "shell.execute_reply.started": "2022-02-02T06:03:24.191140Z"
    },
    "papermill": {
     "duration": 27.65062,
     "end_time": "2022-02-02T06:51:31.930752",
     "exception": false,
     "start_time": "2022-02-02T06:51:04.280132",
     "status": "completed"
    },
    "tags": []
   },
   "outputs": [],
   "source": [
    "x_train = sentence_cleaning(X_train)\n",
    "x_val = sentence_cleaning(X_val)"
   ]
  },
  {
   "cell_type": "code",
   "execution_count": 18,
   "id": "1c7a2aef",
   "metadata": {
    "execution": {
     "iopub.execute_input": "2022-02-02T06:51:32.008887Z",
     "iopub.status.busy": "2022-02-02T06:51:32.008168Z",
     "iopub.status.idle": "2022-02-02T06:51:32.178230Z",
     "shell.execute_reply": "2022-02-02T06:51:32.177778Z",
     "shell.execute_reply.started": "2022-02-02T06:03:51.097597Z"
    },
    "papermill": {
     "duration": 0.210819,
     "end_time": "2022-02-02T06:51:32.178358",
     "exception": false,
     "start_time": "2022-02-02T06:51:31.967539",
     "status": "completed"
    },
    "tags": []
   },
   "outputs": [
    {
     "name": "stderr",
     "output_type": "stream",
     "text": [
      "100%|██████████| 140137/140137 [00:00<00:00, 866607.17it/s]\n"
     ]
    }
   ],
   "source": [
    "unique_words = set()\n",
    "max_len = 0\n",
    "for sent in tqdm(x_train):\n",
    "    unique_words.update(sent)\n",
    "    if(max_len < len(sent)):\n",
    "        max_len = len(sent)\n",
    "        sentence = sent"
   ]
  },
  {
   "cell_type": "code",
   "execution_count": 19,
   "id": "3a94bc2c",
   "metadata": {
    "execution": {
     "iopub.execute_input": "2022-02-02T06:51:32.258572Z",
     "iopub.status.busy": "2022-02-02T06:51:32.257921Z",
     "iopub.status.idle": "2022-02-02T06:51:32.260511Z",
     "shell.execute_reply": "2022-02-02T06:51:32.260948Z",
     "shell.execute_reply.started": "2022-02-02T06:03:51.279956Z"
    },
    "papermill": {
     "duration": 0.045183,
     "end_time": "2022-02-02T06:51:32.261110",
     "exception": false,
     "start_time": "2022-02-02T06:51:32.215927",
     "status": "completed"
    },
    "tags": []
   },
   "outputs": [
    {
     "data": {
      "text/plain": [
       "13741"
      ]
     },
     "execution_count": 19,
     "metadata": {},
     "output_type": "execute_result"
    }
   ],
   "source": [
    "len(list(unique_words))"
   ]
  },
  {
   "cell_type": "code",
   "execution_count": 20,
   "id": "539016bf",
   "metadata": {
    "execution": {
     "iopub.execute_input": "2022-02-02T06:51:32.340405Z",
     "iopub.status.busy": "2022-02-02T06:51:32.339768Z",
     "iopub.status.idle": "2022-02-02T06:51:32.342698Z",
     "shell.execute_reply": "2022-02-02T06:51:32.343218Z",
     "shell.execute_reply.started": "2022-02-02T06:03:51.288517Z"
    },
    "papermill": {
     "duration": 0.044919,
     "end_time": "2022-02-02T06:51:32.343358",
     "exception": false,
     "start_time": "2022-02-02T06:51:32.298439",
     "status": "completed"
    },
    "tags": []
   },
   "outputs": [
    {
     "data": {
      "text/plain": [
       "41"
      ]
     },
     "execution_count": 20,
     "metadata": {},
     "output_type": "execute_result"
    }
   ],
   "source": [
    "max_len"
   ]
  },
  {
   "cell_type": "code",
   "execution_count": 21,
   "id": "2314469a",
   "metadata": {
    "execution": {
     "iopub.execute_input": "2022-02-02T06:51:32.423572Z",
     "iopub.status.busy": "2022-02-02T06:51:32.422869Z",
     "iopub.status.idle": "2022-02-02T06:51:32.424970Z",
     "shell.execute_reply": "2022-02-02T06:51:32.425438Z",
     "shell.execute_reply.started": "2022-02-02T06:03:51.299431Z"
    },
    "papermill": {
     "duration": 0.04457,
     "end_time": "2022-02-02T06:51:32.425555",
     "exception": false,
     "start_time": "2022-02-02T06:51:32.380985",
     "status": "completed"
    },
    "tags": []
   },
   "outputs": [],
   "source": [
    "vocabulary = len(list(unique_words))\n",
    "#vocab_size = len(tokenizer.word_index) + 1\n",
    "oov = '<OOV>'\n",
    "embedding_dim = 300\n",
    "padding = 'post'\n",
    "trunc = 'post'"
   ]
  },
  {
   "cell_type": "code",
   "execution_count": 22,
   "id": "1a4f8c5c",
   "metadata": {
    "execution": {
     "iopub.execute_input": "2022-02-02T06:51:32.506209Z",
     "iopub.status.busy": "2022-02-02T06:51:32.505450Z",
     "iopub.status.idle": "2022-02-02T06:51:32.508777Z",
     "shell.execute_reply": "2022-02-02T06:51:32.508363Z",
     "shell.execute_reply.started": "2022-02-02T06:03:51.308713Z"
    },
    "papermill": {
     "duration": 0.045763,
     "end_time": "2022-02-02T06:51:32.508890",
     "exception": false,
     "start_time": "2022-02-02T06:51:32.463127",
     "status": "completed"
    },
    "tags": []
   },
   "outputs": [],
   "source": [
    "from tensorflow.keras.preprocessing.text import Tokenizer\n",
    "from tensorflow.keras.preprocessing.sequence import pad_sequences"
   ]
  },
  {
   "cell_type": "code",
   "execution_count": 23,
   "id": "3cdd203e",
   "metadata": {
    "execution": {
     "iopub.execute_input": "2022-02-02T06:51:32.589395Z",
     "iopub.status.busy": "2022-02-02T06:51:32.588743Z",
     "iopub.status.idle": "2022-02-02T06:51:32.591945Z",
     "shell.execute_reply": "2022-02-02T06:51:32.592522Z",
     "shell.execute_reply.started": "2022-02-02T06:03:51.316870Z"
    },
    "papermill": {
     "duration": 0.046148,
     "end_time": "2022-02-02T06:51:32.592681",
     "exception": false,
     "start_time": "2022-02-02T06:51:32.546533",
     "status": "completed"
    },
    "tags": []
   },
   "outputs": [
    {
     "name": "stdout",
     "output_type": "stream",
     "text": [
      "[['have', 'done'], ['is', 'and'], ['trimmed', 'dickens', 'wonderfully', 'sprawling', 'soap', 'opera', 'the', 'better'], ['saying', 'what', 'he', 'ha', 'long', 'wanted', 'to', 'say', 'confronting', 'the', 'root', 'of', 'his', 'own', 'preoccupation', 'and', 'obsession'], ['an', 'interesting', 'technical', 'exercise']]\n"
     ]
    }
   ],
   "source": [
    "print(x_train[:5])"
   ]
  },
  {
   "cell_type": "code",
   "execution_count": 24,
   "id": "0a530411",
   "metadata": {
    "execution": {
     "iopub.execute_input": "2022-02-02T06:51:32.712582Z",
     "iopub.status.busy": "2022-02-02T06:51:32.702286Z",
     "iopub.status.idle": "2022-02-02T06:51:34.893261Z",
     "shell.execute_reply": "2022-02-02T06:51:34.892763Z",
     "shell.execute_reply.started": "2022-02-02T06:03:51.327474Z"
    },
    "papermill": {
     "duration": 2.261697,
     "end_time": "2022-02-02T06:51:34.893408",
     "exception": false,
     "start_time": "2022-02-02T06:51:32.631711",
     "status": "completed"
    },
    "tags": []
   },
   "outputs": [],
   "source": [
    "tokenizer = Tokenizer(num_words = vocabulary,oov_token = oov,char_level = False)\n",
    "tokenizer.fit_on_texts(list(x_train))\n",
    "\n",
    "\n",
    "x_train = tokenizer.texts_to_sequences(x_train)\n",
    "x_train = pad_sequences(x_train,maxlen = max_len,padding=padding,truncating = trunc)\n",
    "\n",
    "\n",
    "x_val = tokenizer.texts_to_sequences(x_val)\n",
    "x_val = pad_sequences(x_val,maxlen = max_len,padding=padding,truncating = trunc)"
   ]
  },
  {
   "cell_type": "code",
   "execution_count": 25,
   "id": "a3d85ff5",
   "metadata": {
    "execution": {
     "iopub.execute_input": "2022-02-02T06:51:34.982222Z",
     "iopub.status.busy": "2022-02-02T06:51:34.981314Z",
     "iopub.status.idle": "2022-02-02T06:51:34.984651Z",
     "shell.execute_reply": "2022-02-02T06:51:34.985155Z",
     "shell.execute_reply.started": "2022-02-02T06:03:53.668934Z"
    },
    "papermill": {
     "duration": 0.049568,
     "end_time": "2022-02-02T06:51:34.985289",
     "exception": false,
     "start_time": "2022-02-02T06:51:34.935721",
     "status": "completed"
    },
    "tags": []
   },
   "outputs": [
    {
     "name": "stdout",
     "output_type": "stream",
     "text": [
      "(140137, 41)\n",
      "(15571, 41)\n",
      "[ 36 328   0   0   0   0   0   0   0   0   0   0   0   0   0   0   0   0\n",
      "   0   0   0   0   0   0   0   0   0   0   0   0   0   0   0   0   0   0\n",
      "   0   0   0   0   0]\n"
     ]
    }
   ],
   "source": [
    "print(x_train.shape)\n",
    "print(x_val.shape)\n",
    "print(x_train[0])"
   ]
  },
  {
   "cell_type": "markdown",
   "id": "9435d209",
   "metadata": {
    "papermill": {
     "duration": 0.039077,
     "end_time": "2022-02-02T06:51:35.062516",
     "exception": false,
     "start_time": "2022-02-02T06:51:35.023439",
     "status": "completed"
    },
    "tags": []
   },
   "source": [
    "### Step 5. Buidling LSTM Model"
   ]
  },
  {
   "cell_type": "code",
   "execution_count": 26,
   "id": "09cec4ee",
   "metadata": {
    "execution": {
     "iopub.execute_input": "2022-02-02T06:51:35.141774Z",
     "iopub.status.busy": "2022-02-02T06:51:35.140974Z",
     "iopub.status.idle": "2022-02-02T06:51:35.144730Z",
     "shell.execute_reply": "2022-02-02T06:51:35.144218Z",
     "shell.execute_reply.started": "2022-02-02T05:53:20.771291Z"
    },
    "papermill": {
     "duration": 0.04433,
     "end_time": "2022-02-02T06:51:35.144836",
     "exception": false,
     "start_time": "2022-02-02T06:51:35.100506",
     "status": "completed"
    },
    "tags": []
   },
   "outputs": [],
   "source": [
    "# import gensim.models.keyedvectors as word2vec\n",
    "# w2vModel = word2vec.KeyedVectors.load_word2vec_format('GoogleNews-vectors-negative300.bin', binary=True, limit=50000)"
   ]
  },
  {
   "cell_type": "code",
   "execution_count": 27,
   "id": "722df88b",
   "metadata": {
    "execution": {
     "iopub.execute_input": "2022-02-02T06:51:35.227207Z",
     "iopub.status.busy": "2022-02-02T06:51:35.226514Z",
     "iopub.status.idle": "2022-02-02T06:51:35.228604Z",
     "shell.execute_reply": "2022-02-02T06:51:35.228998Z",
     "shell.execute_reply.started": "2022-02-02T06:03:53.690058Z"
    },
    "papermill": {
     "duration": 0.046064,
     "end_time": "2022-02-02T06:51:35.229140",
     "exception": false,
     "start_time": "2022-02-02T06:51:35.183076",
     "status": "completed"
    },
    "tags": []
   },
   "outputs": [],
   "source": [
    "from keras.models import Model,Input\n",
    "from keras.layers import Dense,Bidirectional,Activation,Dropout,LSTM,Embedding\n",
    "from keras.layers.embeddings import Embedding\n",
    "from tensorflow.keras.optimizers import Adam\n",
    "from keras.losses import CategoricalCrossentropy\n",
    "from tensorflow.keras.callbacks import ReduceLROnPlateau , ModelCheckpoint , EarlyStopping"
   ]
  },
  {
   "cell_type": "code",
   "execution_count": 28,
   "id": "6c9443fb",
   "metadata": {
    "collapsed": true,
    "execution": {
     "iopub.execute_input": "2022-02-02T06:51:35.311355Z",
     "iopub.status.busy": "2022-02-02T06:51:35.310806Z",
     "iopub.status.idle": "2022-02-02T06:51:38.444241Z",
     "shell.execute_reply": "2022-02-02T06:51:38.445359Z",
     "shell.execute_reply.started": "2022-02-02T06:03:53.704445Z"
    },
    "jupyter": {
     "outputs_hidden": true
    },
    "papermill": {
     "duration": 3.178579,
     "end_time": "2022-02-02T06:51:38.445574",
     "exception": false,
     "start_time": "2022-02-02T06:51:35.266995",
     "status": "completed"
    },
    "tags": []
   },
   "outputs": [
    {
     "name": "stderr",
     "output_type": "stream",
     "text": [
      "2022-02-02 06:51:35.393115: I tensorflow/stream_executor/cuda/cuda_gpu_executor.cc:937] successful NUMA node read from SysFS had negative value (-1), but there must be at least one NUMA node, so returning NUMA node zero\n",
      "2022-02-02 06:51:35.568360: I tensorflow/stream_executor/cuda/cuda_gpu_executor.cc:937] successful NUMA node read from SysFS had negative value (-1), but there must be at least one NUMA node, so returning NUMA node zero\n",
      "2022-02-02 06:51:35.569147: I tensorflow/stream_executor/cuda/cuda_gpu_executor.cc:937] successful NUMA node read from SysFS had negative value (-1), but there must be at least one NUMA node, so returning NUMA node zero\n",
      "2022-02-02 06:51:35.570681: I tensorflow/core/platform/cpu_feature_guard.cc:142] This TensorFlow binary is optimized with oneAPI Deep Neural Network Library (oneDNN) to use the following CPU instructions in performance-critical operations:  AVX2 AVX512F FMA\n",
      "To enable them in other operations, rebuild TensorFlow with the appropriate compiler flags.\n",
      "2022-02-02 06:51:35.572192: I tensorflow/stream_executor/cuda/cuda_gpu_executor.cc:937] successful NUMA node read from SysFS had negative value (-1), but there must be at least one NUMA node, so returning NUMA node zero\n",
      "2022-02-02 06:51:35.573136: I tensorflow/stream_executor/cuda/cuda_gpu_executor.cc:937] successful NUMA node read from SysFS had negative value (-1), but there must be at least one NUMA node, so returning NUMA node zero\n",
      "2022-02-02 06:51:35.574000: I tensorflow/stream_executor/cuda/cuda_gpu_executor.cc:937] successful NUMA node read from SysFS had negative value (-1), but there must be at least one NUMA node, so returning NUMA node zero\n",
      "2022-02-02 06:51:37.568147: I tensorflow/stream_executor/cuda/cuda_gpu_executor.cc:937] successful NUMA node read from SysFS had negative value (-1), but there must be at least one NUMA node, so returning NUMA node zero\n",
      "2022-02-02 06:51:37.569002: I tensorflow/stream_executor/cuda/cuda_gpu_executor.cc:937] successful NUMA node read from SysFS had negative value (-1), but there must be at least one NUMA node, so returning NUMA node zero\n",
      "2022-02-02 06:51:37.569689: I tensorflow/stream_executor/cuda/cuda_gpu_executor.cc:937] successful NUMA node read from SysFS had negative value (-1), but there must be at least one NUMA node, so returning NUMA node zero\n",
      "2022-02-02 06:51:37.570279: I tensorflow/core/common_runtime/gpu/gpu_device.cc:1510] Created device /job:localhost/replica:0/task:0/device:GPU:0 with 15403 MB memory:  -> device: 0, name: Tesla P100-PCIE-16GB, pci bus id: 0000:00:04.0, compute capability: 6.0\n"
     ]
    }
   ],
   "source": [
    "input_vec = Input(shape = (41,))\n",
    "x = Embedding(vocabulary,embedding_dim,input_length = max_len)(input_vec)\n",
    "x = Bidirectional(LSTM(128, dropout = 0.8, recurrent_dropout=0.8, return_sequences=True))(x)\n",
    "x = Bidirectional(LSTM(128, dropout = 0.8, recurrent_dropout=0.8, return_sequences=False))(x)\n",
    "x = Dense(50 , activation = 'relu')(x)\n",
    "x = Dropout(0.4)(x)\n",
    "x = Dense(5 , activation = 'softmax' , name = 'Sentiment')(x)\n",
    "model = Model(inputs = [input_vec] , outputs = [x])"
   ]
  },
  {
   "cell_type": "code",
   "execution_count": 29,
   "id": "1c26ce05",
   "metadata": {
    "execution": {
     "iopub.execute_input": "2022-02-02T06:51:38.598785Z",
     "iopub.status.busy": "2022-02-02T06:51:38.597944Z",
     "iopub.status.idle": "2022-02-02T06:51:38.602535Z",
     "shell.execute_reply": "2022-02-02T06:51:38.603177Z",
     "shell.execute_reply.started": "2022-02-02T06:03:56.812816Z"
    },
    "papermill": {
     "duration": 0.093984,
     "end_time": "2022-02-02T06:51:38.603370",
     "exception": false,
     "start_time": "2022-02-02T06:51:38.509386",
     "status": "completed"
    },
    "tags": []
   },
   "outputs": [
    {
     "name": "stdout",
     "output_type": "stream",
     "text": [
      "Model: \"model\"\n",
      "_________________________________________________________________\n",
      "Layer (type)                 Output Shape              Param #   \n",
      "=================================================================\n",
      "input_1 (InputLayer)         [(None, 41)]              0         \n",
      "_________________________________________________________________\n",
      "embedding (Embedding)        (None, 41, 300)           4122300   \n",
      "_________________________________________________________________\n",
      "bidirectional (Bidirectional (None, 41, 256)           439296    \n",
      "_________________________________________________________________\n",
      "bidirectional_1 (Bidirection (None, 256)               394240    \n",
      "_________________________________________________________________\n",
      "dense (Dense)                (None, 50)                12850     \n",
      "_________________________________________________________________\n",
      "dropout (Dropout)            (None, 50)                0         \n",
      "_________________________________________________________________\n",
      "Sentiment (Dense)            (None, 5)                 255       \n",
      "=================================================================\n",
      "Total params: 4,968,941\n",
      "Trainable params: 4,968,941\n",
      "Non-trainable params: 0\n",
      "_________________________________________________________________\n"
     ]
    }
   ],
   "source": [
    "model.summary()"
   ]
  },
  {
   "cell_type": "code",
   "execution_count": 30,
   "id": "4cd12673",
   "metadata": {
    "execution": {
     "iopub.execute_input": "2022-02-02T06:51:38.749783Z",
     "iopub.status.busy": "2022-02-02T06:51:38.748968Z",
     "iopub.status.idle": "2022-02-02T06:51:38.752104Z",
     "shell.execute_reply": "2022-02-02T06:51:38.752578Z",
     "shell.execute_reply.started": "2022-02-02T06:03:56.825718Z"
    },
    "papermill": {
     "duration": 0.086649,
     "end_time": "2022-02-02T06:51:38.752709",
     "exception": false,
     "start_time": "2022-02-02T06:51:38.666060",
     "status": "completed"
    },
    "tags": []
   },
   "outputs": [],
   "source": [
    "model.compile(loss = 'categorical_crossentropy',\n",
    "             optimizer = 'adam',\n",
    "             metrics = ['accuracy'])"
   ]
  },
  {
   "cell_type": "code",
   "execution_count": 31,
   "id": "f4cf3928",
   "metadata": {
    "execution": {
     "iopub.execute_input": "2022-02-02T06:51:38.889467Z",
     "iopub.status.busy": "2022-02-02T06:51:38.888719Z",
     "iopub.status.idle": "2022-02-02T06:51:38.891670Z",
     "shell.execute_reply": "2022-02-02T06:51:38.892239Z",
     "shell.execute_reply.started": "2022-02-02T06:03:56.840003Z"
    },
    "papermill": {
     "duration": 0.075692,
     "end_time": "2022-02-02T06:51:38.892424",
     "exception": false,
     "start_time": "2022-02-02T06:51:38.816732",
     "status": "completed"
    },
    "tags": []
   },
   "outputs": [],
   "source": [
    " callbacks = [\n",
    "     EarlyStopping(patience=5),\n",
    "     ReduceLROnPlateau(factor=0.3, patience=3, min_lr=0.00001 ),\n",
    "     ModelCheckpoint('lstm_model.h5')\n",
    " ]"
   ]
  },
  {
   "cell_type": "code",
   "execution_count": 32,
   "id": "7eee868e",
   "metadata": {
    "execution": {
     "iopub.execute_input": "2022-02-02T06:51:39.034832Z",
     "iopub.status.busy": "2022-02-02T06:51:39.034081Z",
     "iopub.status.idle": "2022-02-02T07:01:23.597115Z",
     "shell.execute_reply": "2022-02-02T07:01:23.596383Z",
     "shell.execute_reply.started": "2022-02-02T06:03:56.848238Z"
    },
    "papermill": {
     "duration": 584.640305,
     "end_time": "2022-02-02T07:01:23.597261",
     "exception": false,
     "start_time": "2022-02-02T06:51:38.956956",
     "status": "completed"
    },
    "tags": []
   },
   "outputs": [
    {
     "name": "stderr",
     "output_type": "stream",
     "text": [
      "2022-02-02 06:51:39.104219: I tensorflow/compiler/mlir/mlir_graph_optimization_pass.cc:185] None of the MLIR Optimization Passes are enabled (registered 2)\n"
     ]
    },
    {
     "name": "stdout",
     "output_type": "stream",
     "text": [
      "Epoch 1/30\n",
      "34/34 [==============================] - 41s 941ms/step - loss: 1.2992 - accuracy: 0.4970 - val_loss: 1.1987 - val_accuracy: 0.5238\n",
      "Epoch 2/30\n",
      "34/34 [==============================] - 32s 924ms/step - loss: 1.1861 - accuracy: 0.5298 - val_loss: 1.1060 - val_accuracy: 0.5525\n",
      "Epoch 3/30\n",
      "34/34 [==============================] - 32s 931ms/step - loss: 1.0812 - accuracy: 0.5732 - val_loss: 0.9937 - val_accuracy: 0.6104\n",
      "Epoch 4/30\n",
      "34/34 [==============================] - 32s 930ms/step - loss: 0.9533 - accuracy: 0.6257 - val_loss: 0.9094 - val_accuracy: 0.6395\n",
      "Epoch 5/30\n",
      "34/34 [==============================] - 32s 945ms/step - loss: 0.8719 - accuracy: 0.6533 - val_loss: 0.8635 - val_accuracy: 0.6523\n",
      "Epoch 6/30\n",
      "34/34 [==============================] - 32s 944ms/step - loss: 0.8304 - accuracy: 0.6671 - val_loss: 0.8510 - val_accuracy: 0.6567\n",
      "Epoch 7/30\n",
      "34/34 [==============================] - 32s 942ms/step - loss: 0.8074 - accuracy: 0.6735 - val_loss: 0.8411 - val_accuracy: 0.6564\n",
      "Epoch 8/30\n",
      "34/34 [==============================] - 31s 923ms/step - loss: 0.7890 - accuracy: 0.6808 - val_loss: 0.8435 - val_accuracy: 0.6557\n",
      "Epoch 9/30\n",
      "34/34 [==============================] - 32s 933ms/step - loss: 0.7750 - accuracy: 0.6855 - val_loss: 0.8368 - val_accuracy: 0.6637\n",
      "Epoch 10/30\n",
      "34/34 [==============================] - 32s 938ms/step - loss: 0.7640 - accuracy: 0.6900 - val_loss: 0.8382 - val_accuracy: 0.6665\n",
      "Epoch 11/30\n",
      "34/34 [==============================] - 32s 930ms/step - loss: 0.7536 - accuracy: 0.6920 - val_loss: 0.8354 - val_accuracy: 0.6655\n",
      "Epoch 12/30\n",
      "34/34 [==============================] - 32s 925ms/step - loss: 0.7419 - accuracy: 0.6951 - val_loss: 0.8284 - val_accuracy: 0.6637\n",
      "Epoch 13/30\n",
      "34/34 [==============================] - 32s 937ms/step - loss: 0.7333 - accuracy: 0.6976 - val_loss: 0.8268 - val_accuracy: 0.6668\n",
      "Epoch 14/30\n",
      "34/34 [==============================] - 32s 943ms/step - loss: 0.7238 - accuracy: 0.7016 - val_loss: 0.8294 - val_accuracy: 0.6657\n",
      "Epoch 15/30\n",
      "34/34 [==============================] - 32s 948ms/step - loss: 0.7165 - accuracy: 0.7054 - val_loss: 0.8360 - val_accuracy: 0.6684\n",
      "Epoch 16/30\n",
      "34/34 [==============================] - 32s 935ms/step - loss: 0.7083 - accuracy: 0.7072 - val_loss: 0.8331 - val_accuracy: 0.6648\n",
      "Epoch 17/30\n",
      "34/34 [==============================] - 32s 933ms/step - loss: 0.6932 - accuracy: 0.7139 - val_loss: 0.8339 - val_accuracy: 0.6664\n",
      "Epoch 18/30\n",
      "34/34 [==============================] - 32s 941ms/step - loss: 0.6887 - accuracy: 0.7141 - val_loss: 0.8365 - val_accuracy: 0.6648\n"
     ]
    },
    {
     "data": {
      "text/plain": [
       "<keras.callbacks.History at 0x7f0cf8f85ed0>"
      ]
     },
     "execution_count": 32,
     "metadata": {},
     "output_type": "execute_result"
    }
   ],
   "source": [
    "model.fit(x_train,y_train,validation_data = (x_val, y_val),epochs = 30\n",
    "          ,batch_size = 4196,verbose = 1,callbacks = callbacks)"
   ]
  },
  {
   "cell_type": "markdown",
   "id": "617fedcd",
   "metadata": {
    "papermill": {
     "duration": 0.20223,
     "end_time": "2022-02-02T07:01:24.022935",
     "exception": false,
     "start_time": "2022-02-02T07:01:23.820705",
     "status": "completed"
    },
    "tags": []
   },
   "source": [
    "## Step 6. Evaluating model's performance"
   ]
  },
  {
   "cell_type": "code",
   "execution_count": 33,
   "id": "fc74426d",
   "metadata": {
    "execution": {
     "iopub.execute_input": "2022-02-02T07:01:24.434165Z",
     "iopub.status.busy": "2022-02-02T07:01:24.433351Z",
     "iopub.status.idle": "2022-02-02T07:02:28.523654Z",
     "shell.execute_reply": "2022-02-02T07:02:28.523165Z",
     "shell.execute_reply.started": "2022-02-02T06:15:59.640763Z"
    },
    "papermill": {
     "duration": 64.297474,
     "end_time": "2022-02-02T07:02:28.523788",
     "exception": false,
     "start_time": "2022-02-02T07:01:24.226314",
     "status": "completed"
    },
    "tags": []
   },
   "outputs": [],
   "source": [
    "y_val_pred = model.predict(x_val)\n"
   ]
  },
  {
   "cell_type": "code",
   "execution_count": 34,
   "id": "934d7105",
   "metadata": {
    "execution": {
     "iopub.execute_input": "2022-02-02T07:02:28.943263Z",
     "iopub.status.busy": "2022-02-02T07:02:28.942468Z",
     "iopub.status.idle": "2022-02-02T07:02:28.945087Z",
     "shell.execute_reply": "2022-02-02T07:02:28.945485Z",
     "shell.execute_reply.started": "2022-02-02T06:16:20.757748Z"
    },
    "papermill": {
     "duration": 0.211831,
     "end_time": "2022-02-02T07:02:28.945617",
     "exception": false,
     "start_time": "2022-02-02T07:02:28.733786",
     "status": "completed"
    },
    "tags": []
   },
   "outputs": [
    {
     "data": {
      "text/plain": [
       "(15571, 5)"
      ]
     },
     "execution_count": 34,
     "metadata": {},
     "output_type": "execute_result"
    }
   ],
   "source": [
    "y_val_pred.shape"
   ]
  },
  {
   "cell_type": "code",
   "execution_count": 35,
   "id": "6d3411fd",
   "metadata": {
    "execution": {
     "iopub.execute_input": "2022-02-02T07:02:29.352825Z",
     "iopub.status.busy": "2022-02-02T07:02:29.352036Z",
     "iopub.status.idle": "2022-02-02T07:02:29.359300Z",
     "shell.execute_reply": "2022-02-02T07:02:29.358677Z",
     "shell.execute_reply.started": "2022-02-02T06:16:20.768713Z"
    },
    "papermill": {
     "duration": 0.211399,
     "end_time": "2022-02-02T07:02:29.359449",
     "exception": false,
     "start_time": "2022-02-02T07:02:29.148050",
     "status": "completed"
    },
    "tags": []
   },
   "outputs": [
    {
     "name": "stdout",
     "output_type": "stream",
     "text": [
      "(15571,)\n",
      "(15571,)\n"
     ]
    }
   ],
   "source": [
    "y_val_pred_max = np.argmax(y_val_pred , axis = 1)\n",
    "y_val_gt_max = np.argmax(y_val , axis = 1)\n",
    "\n",
    "print(y_val_pred_max.shape)\n",
    "print(y_val_gt_max.shape)\n"
   ]
  },
  {
   "cell_type": "code",
   "execution_count": 36,
   "id": "931f9fe2",
   "metadata": {
    "execution": {
     "iopub.execute_input": "2022-02-02T07:02:29.780183Z",
     "iopub.status.busy": "2022-02-02T07:02:29.779355Z",
     "iopub.status.idle": "2022-02-02T07:02:29.805168Z",
     "shell.execute_reply": "2022-02-02T07:02:29.805705Z",
     "shell.execute_reply.started": "2022-02-02T06:16:28.676481Z"
    },
    "papermill": {
     "duration": 0.240749,
     "end_time": "2022-02-02T07:02:29.805894",
     "exception": false,
     "start_time": "2022-02-02T07:02:29.565145",
     "status": "completed"
    },
    "tags": []
   },
   "outputs": [
    {
     "name": "stdout",
     "output_type": "stream",
     "text": [
      "              precision    recall  f1-score   support\n",
      "\n",
      "           0       0.40      0.50      0.44       565\n",
      "           1       0.57      0.54      0.56      2890\n",
      "           2       0.79      0.76      0.78      8261\n",
      "           3       0.54      0.58      0.56      3024\n",
      "           4       0.50      0.55      0.52       831\n",
      "\n",
      "    accuracy                           0.66     15571\n",
      "   macro avg       0.56      0.59      0.57     15571\n",
      "weighted avg       0.67      0.66      0.67     15571\n",
      "\n"
     ]
    }
   ],
   "source": [
    "from sklearn.metrics import classification_report,confusion_matrix\n",
    "report = classification_report(y_val_pred_max, y_val_gt_max)\n",
    "\n",
    "print(report)"
   ]
  },
  {
   "cell_type": "code",
   "execution_count": 37,
   "id": "479a90ed",
   "metadata": {
    "execution": {
     "iopub.execute_input": "2022-02-02T07:02:30.239461Z",
     "iopub.status.busy": "2022-02-02T07:02:30.238651Z",
     "iopub.status.idle": "2022-02-02T07:02:30.538492Z",
     "shell.execute_reply": "2022-02-02T07:02:30.537988Z",
     "shell.execute_reply.started": "2022-02-02T06:16:32.816169Z"
    },
    "papermill": {
     "duration": 0.509939,
     "end_time": "2022-02-02T07:02:30.538617",
     "exception": false,
     "start_time": "2022-02-02T07:02:30.028678",
     "status": "completed"
    },
    "tags": []
   },
   "outputs": [
    {
     "name": "stdout",
     "output_type": "stream",
     "text": [
      "AxesSubplot(0.125,0.125;0.62x0.755)\n"
     ]
    },
    {
     "data": {
      "image/png": "[encoded data removed]",
      "text/plain": [
       "<Figure size 432x288 with 2 Axes>"
      ]
     },
     "metadata": {
      "needs_background": "light"
     },
     "output_type": "display_data"
    }
   ],
   "source": [
    "import seaborn as sns\n",
    "print(sns.heatmap(confusion_matrix(y_val_gt_max , y_val_pred_max) , annot=True))"
   ]
  },
  {
   "cell_type": "markdown",
   "id": "138db27a",
   "metadata": {
    "papermill": {
     "duration": 0.205205,
     "end_time": "2022-02-02T07:02:30.951886",
     "exception": false,
     "start_time": "2022-02-02T07:02:30.746681",
     "status": "completed"
    },
    "tags": []
   },
   "source": [
    "## The model is having an f1 score of 0.67 which can be further improved if we use the pretrained word embeddings"
   ]
  },
  {
   "cell_type": "code",
   "execution_count": null,
   "id": "3c6d151c",
   "metadata": {
    "papermill": {
     "duration": 0.205338,
     "end_time": "2022-02-02T07:02:31.361703",
     "exception": false,
     "start_time": "2022-02-02T07:02:31.156365",
     "status": "completed"
    },
    "tags": []
   },
   "outputs": [],
   "source": []
  }
 ],
 "metadata": {
  "kernelspec": {
   "display_name": "Python 3",
   "language": "python",
   "name": "python3"
  },
  "language_info": {
   "codemirror_mode": {
    "name": "ipython",
    "version": 3
   },
   "file_extension": ".py",
   "mimetype": "text/x-python",
   "name": "python",
   "nbconvert_exporter": "python",
   "pygments_lexer": "ipython3",
   "version": "3.7.12"
  },
  "papermill": {
   "default_parameters": {},
   "duration": 712.768618,
   "end_time": "2022-02-02T07:02:34.858442",
   "environment_variables": {},
   "exception": null,
   "input_path": "__notebook__.ipynb",
   "output_path": "__notebook__.ipynb",
   "parameters": {},
   "start_time": "2022-02-02T06:50:42.089824",
   "version": "2.3.3"
  }
 },
 "nbformat": 4,
 "nbformat_minor": 5
}
