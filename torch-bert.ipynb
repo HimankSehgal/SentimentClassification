{
 "cells": [
  {
   "cell_type": "markdown",
   "id": "a0ec2f1d",
   "metadata": {
    "papermill": {
     "duration": 0.044033,
     "end_time": "2022-02-12T18:21:19.342196",
     "exception": false,
     "start_time": "2022-02-12T18:21:19.298163",
     "status": "completed"
    },
    "tags": []
   },
   "source": [
    "# Steps to be followed\n",
    "\n",
    "1. Opening dataset\n",
    "2. Performig cleaning (eliminating , wo lemmatize nahi karna wo BERT apne aap dekhega , LSTM me karna padta bas)\n",
    "3. Loading Tokenizer , tokenizing the dataset, then converting to TensorDataset\n",
    "4. Loading Model and making changes in it a per desire\n",
    "5. Training"
   ]
  },
  {
   "cell_type": "code",
   "execution_count": 1,
   "id": "242e6855",
   "metadata": {
    "_cell_guid": "b1076dfc-b9ad-4769-8c92-a6c4dae69d19",
    "_uuid": "8f2839f25d086af736a60e9eeb907d3b93b6e0e5",
    "execution": {
     "iopub.execute_input": "2022-02-12T18:21:19.444391Z",
     "iopub.status.busy": "2022-02-12T18:21:19.443351Z",
     "iopub.status.idle": "2022-02-12T18:21:22.175192Z",
     "shell.execute_reply": "2022-02-12T18:21:22.174247Z",
     "shell.execute_reply.started": "2022-02-12T18:06:40.708918Z"
    },
    "papermill": {
     "duration": 2.792787,
     "end_time": "2022-02-12T18:21:22.175345",
     "exception": false,
     "start_time": "2022-02-12T18:21:19.382558",
     "status": "completed"
    },
    "tags": []
   },
   "outputs": [],
   "source": [
    "import numpy as np # linear algebra\n",
    "import pandas as pd # data processing, CSV file I/O (e.g. pd.read_csv)\n",
    "import torch\n",
    "import torch.nn as nn\n",
    "import torch.nn.functional as F\n",
    "from nltk.corpus import stopwords \n",
    "from collections import Counter\n",
    "import string\n",
    "import re\n",
    "import seaborn as sns\n",
    "from tqdm import tqdm\n",
    "import matplotlib.pyplot as plt\n",
    "from torch.utils.data import TensorDataset,Dataset, DataLoader\n",
    "from sklearn.model_selection import train_test_split\n",
    "import time"
   ]
  },
  {
   "cell_type": "markdown",
   "id": "f9e2f6b8",
   "metadata": {
    "papermill": {
     "duration": 0.041744,
     "end_time": "2022-02-12T18:21:22.258217",
     "exception": false,
     "start_time": "2022-02-12T18:21:22.216473",
     "status": "completed"
    },
    "tags": []
   },
   "source": [
    "## Step 1. Opening Dataset"
   ]
  },
  {
   "cell_type": "code",
   "execution_count": 2,
   "id": "644e13b0",
   "metadata": {
    "execution": {
     "iopub.execute_input": "2022-02-12T18:21:22.346444Z",
     "iopub.status.busy": "2022-02-12T18:21:22.345775Z",
     "iopub.status.idle": "2022-02-12T18:21:22.678853Z",
     "shell.execute_reply": "2022-02-12T18:21:22.678351Z",
     "shell.execute_reply.started": "2022-02-12T18:06:43.442131Z"
    },
    "papermill": {
     "duration": 0.379091,
     "end_time": "2022-02-12T18:21:22.679063",
     "exception": false,
     "start_time": "2022-02-12T18:21:22.299972",
     "status": "completed"
    },
    "tags": []
   },
   "outputs": [],
   "source": [
    "train_df = pd.read_csv('../input/sentimentdata/train.tsv/train.tsv' , sep='\\t')\n",
    "test_df = pd.read_csv('../input/sentimentdata/test.tsv/test.tsv' , sep = '\\t')"
   ]
  },
  {
   "cell_type": "code",
   "execution_count": 3,
   "id": "b6ead707",
   "metadata": {
    "execution": {
     "iopub.execute_input": "2022-02-12T18:21:22.767914Z",
     "iopub.status.busy": "2022-02-12T18:21:22.767019Z",
     "iopub.status.idle": "2022-02-12T18:21:22.777947Z",
     "shell.execute_reply": "2022-02-12T18:21:22.778365Z",
     "shell.execute_reply.started": "2022-02-12T18:06:43.795361Z"
    },
    "papermill": {
     "duration": 0.058481,
     "end_time": "2022-02-12T18:21:22.778497",
     "exception": false,
     "start_time": "2022-02-12T18:21:22.720016",
     "status": "completed"
    },
    "tags": []
   },
   "outputs": [
    {
     "data": {
      "text/html": [
       "<div>\n",
       "<style scoped>\n",
       "    .dataframe tbody tr th:only-of-type {\n",
       "        vertical-align: middle;\n",
       "    }\n",
       "\n",
       "    .dataframe tbody tr th {\n",
       "        vertical-align: top;\n",
       "    }\n",
       "\n",
       "    .dataframe thead th {\n",
       "        text-align: right;\n",
       "    }\n",
       "</style>\n",
       "<table border=\"1\" class=\"dataframe\">\n",
       "  <thead>\n",
       "    <tr style=\"text-align: right;\">\n",
       "      <th></th>\n",
       "      <th>PhraseId</th>\n",
       "      <th>SentenceId</th>\n",
       "      <th>Phrase</th>\n",
       "      <th>Sentiment</th>\n",
       "    </tr>\n",
       "  </thead>\n",
       "  <tbody>\n",
       "    <tr>\n",
       "      <th>0</th>\n",
       "      <td>1</td>\n",
       "      <td>1</td>\n",
       "      <td>A series of escapades demonstrating the adage ...</td>\n",
       "      <td>1</td>\n",
       "    </tr>\n",
       "    <tr>\n",
       "      <th>1</th>\n",
       "      <td>2</td>\n",
       "      <td>1</td>\n",
       "      <td>A series of escapades demonstrating the adage ...</td>\n",
       "      <td>2</td>\n",
       "    </tr>\n",
       "    <tr>\n",
       "      <th>2</th>\n",
       "      <td>3</td>\n",
       "      <td>1</td>\n",
       "      <td>A series</td>\n",
       "      <td>2</td>\n",
       "    </tr>\n",
       "    <tr>\n",
       "      <th>3</th>\n",
       "      <td>4</td>\n",
       "      <td>1</td>\n",
       "      <td>A</td>\n",
       "      <td>2</td>\n",
       "    </tr>\n",
       "    <tr>\n",
       "      <th>4</th>\n",
       "      <td>5</td>\n",
       "      <td>1</td>\n",
       "      <td>series</td>\n",
       "      <td>2</td>\n",
       "    </tr>\n",
       "  </tbody>\n",
       "</table>\n",
       "</div>"
      ],
      "text/plain": [
       "   PhraseId  SentenceId                                             Phrase  \\\n",
       "0         1           1  A series of escapades demonstrating the adage ...   \n",
       "1         2           1  A series of escapades demonstrating the adage ...   \n",
       "2         3           1                                           A series   \n",
       "3         4           1                                                  A   \n",
       "4         5           1                                             series   \n",
       "\n",
       "   Sentiment  \n",
       "0          1  \n",
       "1          2  \n",
       "2          2  \n",
       "3          2  \n",
       "4          2  "
      ]
     },
     "execution_count": 3,
     "metadata": {},
     "output_type": "execute_result"
    }
   ],
   "source": [
    "train_df.head()\n"
   ]
  },
  {
   "cell_type": "code",
   "execution_count": 4,
   "id": "068eee84",
   "metadata": {
    "execution": {
     "iopub.execute_input": "2022-02-12T18:21:22.879922Z",
     "iopub.status.busy": "2022-02-12T18:21:22.864206Z",
     "iopub.status.idle": "2022-02-12T18:21:22.884819Z",
     "shell.execute_reply": "2022-02-12T18:21:22.885260Z",
     "shell.execute_reply.started": "2022-02-12T18:06:45.657940Z"
    },
    "papermill": {
     "duration": 0.066424,
     "end_time": "2022-02-12T18:21:22.885406",
     "exception": false,
     "start_time": "2022-02-12T18:21:22.818982",
     "status": "completed"
    },
    "tags": []
   },
   "outputs": [
    {
     "name": "stdout",
     "output_type": "stream",
     "text": [
      "(156060, 4)\n",
      "Index(['PhraseId', 'SentenceId', 'Phrase', 'Sentiment'], dtype='object')\n",
      "PhraseId      0\n",
      "SentenceId    0\n",
      "Phrase        0\n",
      "Sentiment     0\n",
      "dtype: int64\n"
     ]
    }
   ],
   "source": [
    "print(train_df.shape)\n",
    "#print(train_df.info)\n",
    "print(train_df.columns)\n",
    "print(train_df.isnull().sum())"
   ]
  },
  {
   "cell_type": "code",
   "execution_count": 5,
   "id": "1f9350f3",
   "metadata": {
    "execution": {
     "iopub.execute_input": "2022-02-12T18:21:22.973529Z",
     "iopub.status.busy": "2022-02-12T18:21:22.972604Z",
     "iopub.status.idle": "2022-02-12T18:21:23.271139Z",
     "shell.execute_reply": "2022-02-12T18:21:23.270211Z",
     "shell.execute_reply.started": "2022-02-12T18:06:46.029447Z"
    },
    "papermill": {
     "duration": 0.34555,
     "end_time": "2022-02-12T18:21:23.271371",
     "exception": false,
     "start_time": "2022-02-12T18:21:22.925821",
     "status": "completed"
    },
    "tags": []
   },
   "outputs": [
    {
     "data": {
      "text/plain": [
       "<AxesSubplot:title={'center':'Pie chart of Sentiment Class'}, ylabel='Sentiment'>"
      ]
     },
     "execution_count": 5,
     "metadata": {},
     "output_type": "execute_result"
    },
    {
     "data": {
      "image/png": "[encoded data removed]",
      "text/plain": [
       "<Figure size 864x864 with 1 Axes>"
      ]
     },
     "metadata": {},
     "output_type": "display_data"
    }
   ],
   "source": [
    "df2=train_df.copy(deep=True)\n",
    "pie1=pd.DataFrame(df2['Sentiment'].replace(0,'Negative').replace(1,'Somewhat negative').replace(2,'Neutral').replace(3,'Somewhat positive').replace(4,'Positive').value_counts())\n",
    "pie1.reset_index(inplace=True)\n",
    "pie1.plot(kind='pie', title='Pie chart of Sentiment Class',y = 'Sentiment', \n",
    "          autopct='%1.1f%%', shadow=False, labels=pie1['index'], legend = False, fontsize=14, figsize=(12,12))"
   ]
  },
  {
   "cell_type": "code",
   "execution_count": 6,
   "id": "ab741d23",
   "metadata": {
    "execution": {
     "iopub.execute_input": "2022-02-12T18:21:23.419969Z",
     "iopub.status.busy": "2022-02-12T18:21:23.418917Z",
     "iopub.status.idle": "2022-02-12T18:21:25.068332Z",
     "shell.execute_reply": "2022-02-12T18:21:25.067847Z",
     "shell.execute_reply.started": "2022-02-12T18:06:46.364892Z"
    },
    "papermill": {
     "duration": 1.739631,
     "end_time": "2022-02-12T18:21:25.068463",
     "exception": false,
     "start_time": "2022-02-12T18:21:23.328832",
     "status": "completed"
    },
    "tags": []
   },
   "outputs": [
    {
     "data": {
      "text/plain": [
       "Text(0.5, 0.98, 'Histogram number of words in reviews')"
      ]
     },
     "execution_count": 6,
     "metadata": {},
     "output_type": "execute_result"
    },
    {
     "data": {
      "image/png": "[encoded data removed]",
      "text/plain": [
       "<Figure size 1800x576 with 5 Axes>"
      ]
     },
     "metadata": {
      "needs_background": "light"
     },
     "output_type": "display_data"
    }
   ],
   "source": [
    "f, (ax1, ax2, ax3, ax4, ax5) = plt.subplots(1,5,figsize=(25,8))\n",
    "ax1.hist(train_df[train_df['Sentiment'] == 0]['Phrase'].str.split().map(lambda x: len(x)), bins=50, color='b')\n",
    "ax1.set_title('Negative Reviews')\n",
    "\n",
    "ax2.hist(train_df[train_df['Sentiment'] == 1]['Phrase'].str.split().map(lambda x: len(x)), bins=50, color='r')\n",
    "ax2.set_title('Somewhat Negative Reviews')\n",
    "\n",
    "ax3.hist(train_df[train_df['Sentiment'] == 2]['Phrase'].str.split().map(lambda x: len(x)), bins=50, color='g')\n",
    "ax3.set_title('Neutral Reviews')\n",
    "\n",
    "ax4.hist(train_df[train_df['Sentiment'] == 3]['Phrase'].str.split().map(lambda x: len(x)), bins=50, color='y')\n",
    "ax4.set_title('Somewhat Positive Reviews')\n",
    "\n",
    "ax5.hist(train_df[train_df['Sentiment'] == 4]['Phrase'].str.split().map(lambda x: len(x)), bins=50, color='k')\n",
    "ax5.set_title('Positive Reviews')\n",
    "\n",
    "f.suptitle('Histogram number of words in reviews')"
   ]
  },
  {
   "cell_type": "code",
   "execution_count": 7,
   "id": "f515d308",
   "metadata": {
    "execution": {
     "iopub.execute_input": "2022-02-12T18:21:25.187271Z",
     "iopub.status.busy": "2022-02-12T18:21:25.186248Z",
     "iopub.status.idle": "2022-02-12T18:21:27.481314Z",
     "shell.execute_reply": "2022-02-12T18:21:27.481920Z",
     "shell.execute_reply.started": "2022-02-12T18:06:48.165335Z"
    },
    "papermill": {
     "duration": 2.367284,
     "end_time": "2022-02-12T18:21:27.482119",
     "exception": false,
     "start_time": "2022-02-12T18:21:25.114835",
     "status": "completed"
    },
    "tags": []
   },
   "outputs": [
    {
     "name": "stdout",
     "output_type": "stream",
     "text": [
      "Number of sentences which contain more than 20 words:  11494\n",
      " \n",
      "Number of sentences which contain more than 30 words:  2568\n",
      " \n",
      "Number of sentences which contain more than 40 words:  352\n",
      " \n",
      "Number of sentences which contain more than 50 words:  18\n",
      " \n",
      "Number of sentences which contain 52 words:  3\n",
      " \n"
     ]
    }
   ],
   "source": [
    "df=pd.DataFrame(train_df['Phrase'].str.split().map(lambda x: len(x))>=20)\n",
    "print('Number of sentences which contain more than 20 words: ', df.loc[df['Phrase']==True].shape[0])\n",
    "print(' ')\n",
    "df=pd.DataFrame(train_df['Phrase'].str.split().map(lambda x: len(x))>=30)\n",
    "print('Number of sentences which contain more than 30 words: ', df.loc[df['Phrase']==True].shape[0])\n",
    "print(' ')\n",
    "df=pd.DataFrame(train_df['Phrase'].str.split().map(lambda x: len(x))>=40)\n",
    "print('Number of sentences which contain more than 40 words: ', df.loc[df['Phrase']==True].shape[0])\n",
    "print(' ')\n",
    "df=pd.DataFrame(train_df['Phrase'].str.split().map(lambda x: len(x))>=50)\n",
    "print('Number of sentences which contain more than 50 words: ', df.loc[df['Phrase']==True].shape[0])\n",
    "print(' ')\n",
    "df=pd.DataFrame(train_df['Phrase'].str.split().map(lambda x: len(x))==52)\n",
    "print('Number of sentences which contain 52 words: ', df.loc[df['Phrase']==True].shape[0])\n",
    "print(' ')\n",
    "#dfff.loc[dfff['Phrase']==True]"
   ]
  },
  {
   "cell_type": "markdown",
   "id": "410a7ab4",
   "metadata": {
    "papermill": {
     "duration": 0.044669,
     "end_time": "2022-02-12T18:21:27.572276",
     "exception": false,
     "start_time": "2022-02-12T18:21:27.527607",
     "status": "completed"
    },
    "tags": []
   },
   "source": [
    "## Step 2. Cleaning\n"
   ]
  },
  {
   "cell_type": "code",
   "execution_count": 8,
   "id": "640d81f4",
   "metadata": {
    "execution": {
     "iopub.execute_input": "2022-02-12T18:21:27.680468Z",
     "iopub.status.busy": "2022-02-12T18:21:27.667546Z",
     "iopub.status.idle": "2022-02-12T18:21:28.269379Z",
     "shell.execute_reply": "2022-02-12T18:21:28.268958Z",
     "shell.execute_reply.started": "2022-02-12T18:06:50.546742Z"
    },
    "papermill": {
     "duration": 0.652971,
     "end_time": "2022-02-12T18:21:28.269498",
     "exception": false,
     "start_time": "2022-02-12T18:21:27.616527",
     "status": "completed"
    },
    "tags": []
   },
   "outputs": [
    {
     "name": "stdout",
     "output_type": "stream",
     "text": [
      "(156060, 5)\n",
      "(155708, 5)\n"
     ]
    }
   ],
   "source": [
    "train_df['len'] = train_df['Phrase'].str.split().map(lambda x: len(x))\n",
    "print(train_df.shape)\n",
    "\n",
    "train_df = train_df[train_df['len'] <40 ]\n",
    "print(train_df.shape)"
   ]
  },
  {
   "cell_type": "code",
   "execution_count": 9,
   "id": "626a1949",
   "metadata": {
    "execution": {
     "iopub.execute_input": "2022-02-12T18:21:28.371247Z",
     "iopub.status.busy": "2022-02-12T18:21:28.370561Z",
     "iopub.status.idle": "2022-02-12T18:21:28.373468Z",
     "shell.execute_reply": "2022-02-12T18:21:28.373890Z",
     "shell.execute_reply.started": "2022-02-12T18:06:52.541213Z"
    },
    "papermill": {
     "duration": 0.056577,
     "end_time": "2022-02-12T18:21:28.374035",
     "exception": false,
     "start_time": "2022-02-12T18:21:28.317458",
     "status": "completed"
    },
    "tags": []
   },
   "outputs": [
    {
     "data": {
      "text/plain": [
       "352"
      ]
     },
     "execution_count": 9,
     "metadata": {},
     "output_type": "execute_result"
    }
   ],
   "source": [
    "156060 - 155708"
   ]
  },
  {
   "cell_type": "code",
   "execution_count": 10,
   "id": "78b32d64",
   "metadata": {
    "execution": {
     "iopub.execute_input": "2022-02-12T18:21:28.473728Z",
     "iopub.status.busy": "2022-02-12T18:21:28.473062Z",
     "iopub.status.idle": "2022-02-12T18:21:28.475781Z",
     "shell.execute_reply": "2022-02-12T18:21:28.476190Z",
     "shell.execute_reply.started": "2022-02-12T18:06:53.846764Z"
    },
    "papermill": {
     "duration": 0.056155,
     "end_time": "2022-02-12T18:21:28.476326",
     "exception": false,
     "start_time": "2022-02-12T18:21:28.420171",
     "status": "completed"
    },
    "tags": []
   },
   "outputs": [
    {
     "data": {
      "text/plain": [
       "2    79525\n",
       "3    32810\n",
       "1    27195\n",
       "4     9146\n",
       "0     7032\n",
       "Name: Sentiment, dtype: int64"
      ]
     },
     "execution_count": 10,
     "metadata": {},
     "output_type": "execute_result"
    }
   ],
   "source": [
    "train_df['Sentiment'].value_counts()"
   ]
  },
  {
   "cell_type": "code",
   "execution_count": 11,
   "id": "e5b7b301",
   "metadata": {
    "execution": {
     "iopub.execute_input": "2022-02-12T18:21:28.577914Z",
     "iopub.status.busy": "2022-02-12T18:21:28.577219Z",
     "iopub.status.idle": "2022-02-12T18:21:28.711766Z",
     "shell.execute_reply": "2022-02-12T18:21:28.711245Z",
     "shell.execute_reply.started": "2022-02-12T18:06:54.234635Z"
    },
    "papermill": {
     "duration": 0.189995,
     "end_time": "2022-02-12T18:21:28.711890",
     "exception": false,
     "start_time": "2022-02-12T18:21:28.521895",
     "status": "completed"
    },
    "tags": []
   },
   "outputs": [],
   "source": [
    "from sklearn.model_selection import StratifiedShuffleSplit\n",
    "X = train_df.drop('Sentiment',axis=1)\n",
    "y = train_df['Sentiment']\n",
    "sss = StratifiedShuffleSplit(n_splits=2, test_size=0.1, random_state=0) #test size of 10% \n",
    "\n",
    "for train_index, test_index in sss.split(X , y):  \n",
    "    X_train = X.iloc[train_index]\n",
    "    y_train = y.iloc[train_index]  \n",
    "    X_val = X.iloc[test_index]\n",
    "    y_val = y.iloc[test_index]"
   ]
  },
  {
   "cell_type": "code",
   "execution_count": 12,
   "id": "f7691de3",
   "metadata": {
    "execution": {
     "iopub.execute_input": "2022-02-12T18:21:28.807809Z",
     "iopub.status.busy": "2022-02-12T18:21:28.807223Z",
     "iopub.status.idle": "2022-02-12T18:21:32.987966Z",
     "shell.execute_reply": "2022-02-12T18:21:32.987442Z",
     "shell.execute_reply.started": "2022-02-12T18:06:55.609634Z"
    },
    "papermill": {
     "duration": 4.230407,
     "end_time": "2022-02-12T18:21:32.988112",
     "exception": false,
     "start_time": "2022-02-12T18:21:28.757705",
     "status": "completed"
    },
    "tags": []
   },
   "outputs": [],
   "source": [
    "from transformers import BertModel, BertTokenizer, AdamW, get_linear_schedule_with_warmup"
   ]
  },
  {
   "cell_type": "code",
   "execution_count": 13,
   "id": "4963c7b7",
   "metadata": {
    "execution": {
     "iopub.execute_input": "2022-02-12T18:21:33.094633Z",
     "iopub.status.busy": "2022-02-12T18:21:33.093785Z",
     "iopub.status.idle": "2022-02-12T18:21:37.950810Z",
     "shell.execute_reply": "2022-02-12T18:21:37.950273Z",
     "shell.execute_reply.started": "2022-02-12T18:07:00.018122Z"
    },
    "papermill": {
     "duration": 4.912475,
     "end_time": "2022-02-12T18:21:37.950945",
     "exception": false,
     "start_time": "2022-02-12T18:21:33.038470",
     "status": "completed"
    },
    "tags": []
   },
   "outputs": [
    {
     "data": {
      "application/vnd.jupyter.widget-view+json": {
       "model_id": "4bc0b22831ea49a3b7b79e5153f34469",
       "version_major": 2,
       "version_minor": 0
      },
      "text/plain": [
       "Downloading:   0%|          | 0.00/208k [00:00<?, ?B/s]"
      ]
     },
     "metadata": {},
     "output_type": "display_data"
    },
    {
     "data": {
      "application/vnd.jupyter.widget-view+json": {
       "model_id": "bee30fa6f4834eb294277f1894d58b4c",
       "version_major": 2,
       "version_minor": 0
      },
      "text/plain": [
       "Downloading:   0%|          | 0.00/29.0 [00:00<?, ?B/s]"
      ]
     },
     "metadata": {},
     "output_type": "display_data"
    },
    {
     "data": {
      "application/vnd.jupyter.widget-view+json": {
       "model_id": "091d424179ac4c9eb823e1fc6b079067",
       "version_major": 2,
       "version_minor": 0
      },
      "text/plain": [
       "Downloading:   0%|          | 0.00/426k [00:00<?, ?B/s]"
      ]
     },
     "metadata": {},
     "output_type": "display_data"
    },
    {
     "data": {
      "application/vnd.jupyter.widget-view+json": {
       "model_id": "6f062ea14eb641f0818dc3f8d82efc34",
       "version_major": 2,
       "version_minor": 0
      },
      "text/plain": [
       "Downloading:   0%|          | 0.00/570 [00:00<?, ?B/s]"
      ]
     },
     "metadata": {},
     "output_type": "display_data"
    }
   ],
   "source": [
    "pre_trainer = 'bert-base-cased'\n",
    "tokenizer = BertTokenizer.from_pretrained(pre_trainer)"
   ]
  },
  {
   "cell_type": "code",
   "execution_count": 14,
   "id": "72280db3",
   "metadata": {
    "execution": {
     "iopub.execute_input": "2022-02-12T18:21:38.059650Z",
     "iopub.status.busy": "2022-02-12T18:21:38.058747Z",
     "iopub.status.idle": "2022-02-12T18:21:38.090905Z",
     "shell.execute_reply": "2022-02-12T18:21:38.090406Z",
     "shell.execute_reply.started": "2022-02-12T18:07:06.385232Z"
    },
    "papermill": {
     "duration": 0.089627,
     "end_time": "2022-02-12T18:21:38.091033",
     "exception": false,
     "start_time": "2022-02-12T18:21:38.001406",
     "status": "completed"
    },
    "tags": []
   },
   "outputs": [
    {
     "name": "stdout",
     "output_type": "stream",
     "text": [
      "dict_keys(['input_ids', 'attention_mask'])\n",
      "{'input_ids': tensor([[  101,   138,  1326,  1104, 13936, 25265, 16913, 15107,  1103,  8050,\n",
      "          2553,  1115,  1184,  1110,  1363,  1111,  1103, 20398,  1110,  1145,\n",
      "          1363,  1111,  1103,   176,  9900,   117,  1199,  1104,  1134,  5411,\n",
      "          1821,   102]]), 'attention_mask': tensor([[1, 1, 1, 1, 1, 1, 1, 1, 1, 1, 1, 1, 1, 1, 1, 1, 1, 1, 1, 1, 1, 1, 1, 1,\n",
      "         1, 1, 1, 1, 1, 1, 1, 1]])}\n"
     ]
    }
   ],
   "source": [
    "# The above tokens can be added through the encode_plus method\n",
    "sample_txt = X_train['Phrase'][0]\n",
    "encoding = tokenizer.encode_plus(\n",
    "  sample_txt,\n",
    "  max_length=32,\n",
    "  truncation=True,\n",
    "  add_special_tokens=True, # Add '[CLS]' and '[SEP]'\n",
    "  return_token_type_ids=False,\n",
    "  padding='max_length',\n",
    "  return_attention_mask=True,\n",
    "  return_tensors='pt',  # Return PyTorch tensors but you can return tf tensors or np arrays by setting this to tf or np\n",
    ")\n",
    "print(encoding.keys())\n",
    "print(encoding)"
   ]
  },
  {
   "cell_type": "code",
   "execution_count": 15,
   "id": "d19b7bb1",
   "metadata": {
    "execution": {
     "iopub.execute_input": "2022-02-12T18:21:38.196507Z",
     "iopub.status.busy": "2022-02-12T18:21:38.194866Z",
     "iopub.status.idle": "2022-02-12T18:21:38.197122Z",
     "shell.execute_reply": "2022-02-12T18:21:38.197514Z",
     "shell.execute_reply.started": "2022-02-12T18:07:06.422036Z"
    },
    "papermill": {
     "duration": 0.056147,
     "end_time": "2022-02-12T18:21:38.197664",
     "exception": false,
     "start_time": "2022-02-12T18:21:38.141517",
     "status": "completed"
    },
    "tags": []
   },
   "outputs": [],
   "source": [
    "max_len = 35\n",
    "batch_size = 16"
   ]
  },
  {
   "cell_type": "code",
   "execution_count": 16,
   "id": "ea050654",
   "metadata": {
    "execution": {
     "iopub.execute_input": "2022-02-12T18:21:38.299782Z",
     "iopub.status.busy": "2022-02-12T18:21:38.299110Z",
     "iopub.status.idle": "2022-02-12T18:21:38.302372Z",
     "shell.execute_reply": "2022-02-12T18:21:38.302782Z",
     "shell.execute_reply.started": "2022-02-12T18:07:06.428275Z"
    },
    "papermill": {
     "duration": 0.056949,
     "end_time": "2022-02-12T18:21:38.302919",
     "exception": false,
     "start_time": "2022-02-12T18:21:38.245970",
     "status": "completed"
    },
    "tags": []
   },
   "outputs": [
    {
     "data": {
      "text/plain": [
       "array([1, 2, 2, ..., 3, 2, 2])"
      ]
     },
     "execution_count": 16,
     "metadata": {},
     "output_type": "execute_result"
    }
   ],
   "source": [
    "y.values"
   ]
  },
  {
   "cell_type": "code",
   "execution_count": 17,
   "id": "e430ac52",
   "metadata": {
    "execution": {
     "iopub.execute_input": "2022-02-12T18:21:38.405712Z",
     "iopub.status.busy": "2022-02-12T18:21:38.405093Z",
     "iopub.status.idle": "2022-02-12T18:21:38.407627Z",
     "shell.execute_reply": "2022-02-12T18:21:38.408027Z",
     "shell.execute_reply.started": "2022-02-12T18:07:06.439640Z"
    },
    "papermill": {
     "duration": 0.057042,
     "end_time": "2022-02-12T18:21:38.408152",
     "exception": false,
     "start_time": "2022-02-12T18:21:38.351110",
     "status": "completed"
    },
    "tags": []
   },
   "outputs": [
    {
     "data": {
      "text/plain": [
       "155708"
      ]
     },
     "execution_count": 17,
     "metadata": {},
     "output_type": "execute_result"
    }
   ],
   "source": [
    "len(X['Phrase'])"
   ]
  },
  {
   "cell_type": "code",
   "execution_count": 18,
   "id": "656a6892",
   "metadata": {
    "execution": {
     "iopub.execute_input": "2022-02-12T18:21:38.511528Z",
     "iopub.status.busy": "2022-02-12T18:21:38.510953Z",
     "iopub.status.idle": "2022-02-12T18:21:38.513639Z",
     "shell.execute_reply": "2022-02-12T18:21:38.514063Z",
     "shell.execute_reply.started": "2022-02-12T18:07:06.448749Z"
    },
    "papermill": {
     "duration": 0.056931,
     "end_time": "2022-02-12T18:21:38.514199",
     "exception": false,
     "start_time": "2022-02-12T18:21:38.457268",
     "status": "completed"
    },
    "tags": []
   },
   "outputs": [
    {
     "data": {
      "text/plain": [
       "2"
      ]
     },
     "execution_count": 18,
     "metadata": {},
     "output_type": "execute_result"
    }
   ],
   "source": [
    "y.values[2]"
   ]
  },
  {
   "cell_type": "markdown",
   "id": "dbf592b5",
   "metadata": {
    "papermill": {
     "duration": 0.048914,
     "end_time": "2022-02-12T18:21:38.612126",
     "exception": false,
     "start_time": "2022-02-12T18:21:38.563212",
     "status": "completed"
    },
    "tags": []
   },
   "source": [
    "## Step 3. Dataset tokenization"
   ]
  },
  {
   "cell_type": "code",
   "execution_count": 19,
   "id": "8f104652",
   "metadata": {
    "execution": {
     "iopub.execute_input": "2022-02-12T18:21:38.713872Z",
     "iopub.status.busy": "2022-02-12T18:21:38.713065Z",
     "iopub.status.idle": "2022-02-12T18:21:38.721031Z",
     "shell.execute_reply": "2022-02-12T18:21:38.720542Z",
     "shell.execute_reply.started": "2022-02-12T18:07:10.446903Z"
    },
    "papermill": {
     "duration": 0.06004,
     "end_time": "2022-02-12T18:21:38.721143",
     "exception": false,
     "start_time": "2022-02-12T18:21:38.661103",
     "status": "completed"
    },
    "tags": []
   },
   "outputs": [],
   "source": [
    "class DataGenerator(Dataset):\n",
    "    def __init__(self, text, targets, tokenizer, max_len):\n",
    "        self.text = text\n",
    "        self.targets = targets\n",
    "        self.tokenizer = tokenizer\n",
    "        self.max_len = max_len\n",
    "    \n",
    "    def __len__(self):\n",
    "        return len(self.text)\n",
    "    \n",
    "    def __getitem__(self, idx):\n",
    "        text = str(self.text[idx])\n",
    "        target = self.targets[idx]\n",
    "        \n",
    "        encoding = self.tokenizer.encode_plus(\n",
    "            text, \n",
    "            add_special_tokens=True,\n",
    "            max_length = self.max_len,\n",
    "            truncation=True,\n",
    "            padding='max_length',\n",
    "            return_token_type_ids=False,\n",
    "            return_attention_mask=True,\n",
    "            return_tensors='pt'\n",
    "        )\n",
    "        return {\n",
    "      #'text': text,\n",
    "      'input_ids': encoding['input_ids'].flatten(),\n",
    "      'attention_mask': encoding['attention_mask'].flatten(),\n",
    "      'targets': torch.tensor(target, dtype=torch.long)\n",
    "    }\n"
   ]
  },
  {
   "cell_type": "code",
   "execution_count": 20,
   "id": "65434b08",
   "metadata": {
    "execution": {
     "iopub.execute_input": "2022-02-12T18:21:38.824804Z",
     "iopub.status.busy": "2022-02-12T18:21:38.823949Z",
     "iopub.status.idle": "2022-02-12T18:21:38.831842Z",
     "shell.execute_reply": "2022-02-12T18:21:38.831385Z",
     "shell.execute_reply.started": "2022-02-12T18:07:14.966427Z"
    },
    "papermill": {
     "duration": 0.060979,
     "end_time": "2022-02-12T18:21:38.831958",
     "exception": false,
     "start_time": "2022-02-12T18:21:38.770979",
     "status": "completed"
    },
    "tags": []
   },
   "outputs": [],
   "source": [
    " encode = tokenizer.encode_plus(\n",
    "     str(X['Phrase'][2]),\n",
    "     add_special_tokens=True,\n",
    "     max_length = max_len,                          \n",
    "     truncation=True,                          \n",
    "     padding='max_length',                          \n",
    "     return_token_type_ids=False,\n",
    "     return_attention_mask=True,\n",
    "     return_tensors='pt')"
   ]
  },
  {
   "cell_type": "code",
   "execution_count": 21,
   "id": "1d3ade08",
   "metadata": {
    "execution": {
     "iopub.execute_input": "2022-02-12T18:21:38.936572Z",
     "iopub.status.busy": "2022-02-12T18:21:38.935718Z",
     "iopub.status.idle": "2022-02-12T18:21:38.939952Z",
     "shell.execute_reply": "2022-02-12T18:21:38.940423Z",
     "shell.execute_reply.started": "2022-02-12T18:07:15.346583Z"
    },
    "papermill": {
     "duration": 0.059413,
     "end_time": "2022-02-12T18:21:38.940561",
     "exception": false,
     "start_time": "2022-02-12T18:21:38.881148",
     "status": "completed"
    },
    "tags": []
   },
   "outputs": [
    {
     "data": {
      "text/plain": [
       "{'input_ids': tensor([[ 101,  138, 1326,  102,    0,    0,    0,    0,    0,    0,    0,    0,\n",
       "            0,    0,    0,    0,    0,    0,    0,    0,    0,    0,    0,    0,\n",
       "            0,    0,    0,    0,    0,    0,    0,    0,    0,    0,    0]]), 'attention_mask': tensor([[1, 1, 1, 1, 0, 0, 0, 0, 0, 0, 0, 0, 0, 0, 0, 0, 0, 0, 0, 0, 0, 0, 0, 0,\n",
       "         0, 0, 0, 0, 0, 0, 0, 0, 0, 0, 0]])}"
      ]
     },
     "execution_count": 21,
     "metadata": {},
     "output_type": "execute_result"
    }
   ],
   "source": [
    "encode"
   ]
  },
  {
   "cell_type": "code",
   "execution_count": 22,
   "id": "0d79d651",
   "metadata": {
    "execution": {
     "iopub.execute_input": "2022-02-12T18:21:39.052729Z",
     "iopub.status.busy": "2022-02-12T18:21:39.051817Z",
     "iopub.status.idle": "2022-02-12T18:21:39.053717Z",
     "shell.execute_reply": "2022-02-12T18:21:39.054197Z",
     "shell.execute_reply.started": "2022-02-12T18:07:17.559831Z"
    },
    "papermill": {
     "duration": 0.061064,
     "end_time": "2022-02-12T18:21:39.054327",
     "exception": false,
     "start_time": "2022-02-12T18:21:38.993263",
     "status": "completed"
    },
    "tags": []
   },
   "outputs": [],
   "source": [
    "def data_loader(X,y , tokenizer, max_len, batch_size):\n",
    "    ds = DataGenerator(\n",
    "        text=X['Phrase'].to_numpy(),\n",
    "        targets=y.to_numpy(),\n",
    "        tokenizer=tokenizer,\n",
    "        max_len=max_len\n",
    "    )\n",
    "    \n",
    "    return DataLoader(\n",
    "        ds,\n",
    "        batch_size=batch_size)"
   ]
  },
  {
   "cell_type": "code",
   "execution_count": 23,
   "id": "7cea583f",
   "metadata": {
    "execution": {
     "iopub.execute_input": "2022-02-12T18:21:39.164139Z",
     "iopub.status.busy": "2022-02-12T18:21:39.163201Z",
     "iopub.status.idle": "2022-02-12T18:21:39.165006Z",
     "shell.execute_reply": "2022-02-12T18:21:39.165453Z",
     "shell.execute_reply.started": "2022-02-12T18:07:18.288380Z"
    },
    "papermill": {
     "duration": 0.059186,
     "end_time": "2022-02-12T18:21:39.165594",
     "exception": false,
     "start_time": "2022-02-12T18:21:39.106408",
     "status": "completed"
    },
    "tags": []
   },
   "outputs": [],
   "source": [
    "train_data_loader = data_loader(X_train,\n",
    "                                y_train,\n",
    "                                tokenizer, max_len, batch_size)\n",
    "val_data_loader = data_loader(X_val,\n",
    "                              y_val,\n",
    "                              tokenizer, max_len, batch_size)"
   ]
  },
  {
   "cell_type": "code",
   "execution_count": 24,
   "id": "690c154d",
   "metadata": {
    "execution": {
     "iopub.execute_input": "2022-02-12T18:21:39.274081Z",
     "iopub.status.busy": "2022-02-12T18:21:39.273425Z",
     "iopub.status.idle": "2022-02-12T18:21:39.276172Z",
     "shell.execute_reply": "2022-02-12T18:21:39.276571Z",
     "shell.execute_reply.started": "2022-02-12T18:07:22.056879Z"
    },
    "papermill": {
     "duration": 0.059068,
     "end_time": "2022-02-12T18:21:39.276733",
     "exception": false,
     "start_time": "2022-02-12T18:21:39.217665",
     "status": "completed"
    },
    "tags": []
   },
   "outputs": [
    {
     "data": {
      "text/plain": [
       "array(['have done', 'is and',\n",
       "       \"trimmed Dickens ' wonderfully sprawling soap opera , the better\",\n",
       "       ..., 'all too seriously',\n",
       "       'the scintillating force of its actors to draw out the menace of its sparse dialogue',\n",
       "       \"Thewlis 's\"], dtype=object)"
      ]
     },
     "execution_count": 24,
     "metadata": {},
     "output_type": "execute_result"
    }
   ],
   "source": [
    "X_train['Phrase'].to_numpy()"
   ]
  },
  {
   "cell_type": "code",
   "execution_count": 25,
   "id": "9dad7223",
   "metadata": {
    "execution": {
     "iopub.execute_input": "2022-02-12T18:21:39.382189Z",
     "iopub.status.busy": "2022-02-12T18:21:39.381527Z",
     "iopub.status.idle": "2022-02-12T18:21:39.384277Z",
     "shell.execute_reply": "2022-02-12T18:21:39.384708Z",
     "shell.execute_reply.started": "2022-02-12T18:07:22.321939Z"
    },
    "papermill": {
     "duration": 0.058141,
     "end_time": "2022-02-12T18:21:39.384847",
     "exception": false,
     "start_time": "2022-02-12T18:21:39.326706",
     "status": "completed"
    },
    "tags": []
   },
   "outputs": [
    {
     "data": {
      "text/plain": [
       "array(['have done', 'is and',\n",
       "       \"trimmed Dickens ' wonderfully sprawling soap opera , the better\",\n",
       "       ..., 'all too seriously',\n",
       "       'the scintillating force of its actors to draw out the menace of its sparse dialogue',\n",
       "       \"Thewlis 's\"], dtype=object)"
      ]
     },
     "execution_count": 25,
     "metadata": {},
     "output_type": "execute_result"
    }
   ],
   "source": [
    "X_train['Phrase'].to_numpy()"
   ]
  },
  {
   "cell_type": "code",
   "execution_count": 26,
   "id": "8c597e18",
   "metadata": {
    "execution": {
     "iopub.execute_input": "2022-02-12T18:21:39.500575Z",
     "iopub.status.busy": "2022-02-12T18:21:39.499947Z",
     "iopub.status.idle": "2022-02-12T18:21:39.502701Z",
     "shell.execute_reply": "2022-02-12T18:21:39.503125Z",
     "shell.execute_reply.started": "2022-02-12T18:07:22.578278Z"
    },
    "papermill": {
     "duration": 0.058045,
     "end_time": "2022-02-12T18:21:39.503259",
     "exception": false,
     "start_time": "2022-02-12T18:21:39.445214",
     "status": "completed"
    },
    "tags": []
   },
   "outputs": [
    {
     "data": {
      "text/plain": [
       "array([1, 2, 2, ..., 3, 2, 2])"
      ]
     },
     "execution_count": 26,
     "metadata": {},
     "output_type": "execute_result"
    }
   ],
   "source": [
    "y.to_numpy()"
   ]
  },
  {
   "cell_type": "code",
   "execution_count": 27,
   "id": "e15aa074",
   "metadata": {
    "collapsed": true,
    "execution": {
     "iopub.execute_input": "2022-02-12T18:21:39.607693Z",
     "iopub.status.busy": "2022-02-12T18:21:39.606971Z",
     "iopub.status.idle": "2022-02-12T18:21:39.609477Z",
     "shell.execute_reply": "2022-02-12T18:21:39.609065Z",
     "shell.execute_reply.started": "2022-02-12T16:08:30.315527Z"
    },
    "jupyter": {
     "outputs_hidden": true
    },
    "papermill": {
     "duration": 0.055893,
     "end_time": "2022-02-12T18:21:39.609593",
     "exception": false,
     "start_time": "2022-02-12T18:21:39.553700",
     "status": "completed"
    },
    "tags": []
   },
   "outputs": [],
   "source": [
    "# counter = 0\n",
    "# for data in train_data_loader:\n",
    "#     print(\"Enter loop \",counter )\n",
    "#     print(counter)\n",
    "#     counter +=1\n",
    "#     print(\"safely exiting\")\n",
    "#     print(\"----------------------\")"
   ]
  },
  {
   "cell_type": "code",
   "execution_count": 28,
   "id": "586af843",
   "metadata": {
    "execution": {
     "iopub.execute_input": "2022-02-12T18:21:39.714920Z",
     "iopub.status.busy": "2022-02-12T18:21:39.714356Z",
     "iopub.status.idle": "2022-02-12T18:21:39.743699Z",
     "shell.execute_reply": "2022-02-12T18:21:39.744089Z",
     "shell.execute_reply.started": "2022-02-12T18:07:25.342354Z"
    },
    "papermill": {
     "duration": 0.084201,
     "end_time": "2022-02-12T18:21:39.744222",
     "exception": false,
     "start_time": "2022-02-12T18:21:39.660021",
     "status": "completed"
    },
    "tags": []
   },
   "outputs": [
    {
     "data": {
      "text/plain": [
       "dict_keys(['input_ids', 'attention_mask', 'targets'])"
      ]
     },
     "execution_count": 28,
     "metadata": {},
     "output_type": "execute_result"
    }
   ],
   "source": [
    "data = next(iter(train_data_loader))\n",
    "data.keys()"
   ]
  },
  {
   "cell_type": "code",
   "execution_count": 29,
   "id": "ed7d2bcd",
   "metadata": {
    "collapsed": true,
    "execution": {
     "iopub.execute_input": "2022-02-12T18:21:39.851984Z",
     "iopub.status.busy": "2022-02-12T18:21:39.848823Z",
     "iopub.status.idle": "2022-02-12T18:21:39.855239Z",
     "shell.execute_reply": "2022-02-12T18:21:39.854793Z",
     "shell.execute_reply.started": "2022-02-12T18:07:26.156483Z"
    },
    "jupyter": {
     "outputs_hidden": true
    },
    "papermill": {
     "duration": 0.06064,
     "end_time": "2022-02-12T18:21:39.855346",
     "exception": false,
     "start_time": "2022-02-12T18:21:39.794706",
     "status": "completed"
    },
    "tags": []
   },
   "outputs": [
    {
     "data": {
      "text/plain": [
       "tensor([[  101,  1138,  1694,   102,     0,     0,     0,     0,     0,     0,\n",
       "             0,     0,     0,     0,     0,     0,     0,     0,     0,     0,\n",
       "             0,     0,     0,     0,     0,     0,     0,     0,     0,     0,\n",
       "             0,     0,     0,     0,     0],\n",
       "        [  101,  1110,  1105,   102,     0,     0,     0,     0,     0,     0,\n",
       "             0,     0,     0,     0,     0,     0,     0,     0,     0,     0,\n",
       "             0,     0,     0,     0,     0,     0,     0,     0,     0,     0,\n",
       "             0,     0,     0,     0,     0],\n",
       "        [  101, 24509, 21677,   112,  7310,  1193, 27541,  8439,  4677,   117,\n",
       "          1103,  1618,   102,     0,     0,     0,     0,     0,     0,     0,\n",
       "             0,     0,     0,     0,     0,     0,     0,     0,     0,     0,\n",
       "             0,     0,     0,     0,     0],\n",
       "        [  101,  2157,  1184,  1119,  1144,  1263,  1458,  1106,  1474,   117,\n",
       "         15034,  1158,  1103,  6176,  1104,  1117,  1319,  3073, 13335, 18637,\n",
       "          6006,  1105, 21243,  1116,   102,     0,     0,     0,     0,     0,\n",
       "             0,     0,     0,     0,     0],\n",
       "        [  101,  1126,  5426,  4301,  6730,   102,     0,     0,     0,     0,\n",
       "             0,     0,     0,     0,     0,     0,     0,     0,     0,     0,\n",
       "             0,     0,     0,     0,     0,     0,     0,     0,     0,     0,\n",
       "             0,     0,     0,     0,     0],\n",
       "        [  101,  1103,  3703,  1111,   140,  5765,  1548,  1706,  3818,   102,\n",
       "             0,     0,     0,     0,     0,     0,     0,     0,     0,     0,\n",
       "             0,     0,     0,     0,     0,     0,     0,     0,     0,     0,\n",
       "             0,     0,     0,     0,     0],\n",
       "        [  101, 14477,  1279, 26044,  2293,   112,   188,  1250,   102,     0,\n",
       "             0,     0,     0,     0,     0,     0,     0,     0,     0,     0,\n",
       "             0,     0,     0,     0,     0,     0,     0,     0,     0,     0,\n",
       "             0,     0,     0,     0,     0],\n",
       "        [  101,   146,  1169,  1587,  1128,  1115,  1175,   112,   188,  1185,\n",
       "          1168,  2255,  1725,  2256,  1431,  8255, 11566,  1122,   119,   102,\n",
       "             0,     0,     0,     0,     0,     0,     0,     0,     0,     0,\n",
       "             0,     0,     0,     0,     0],\n",
       "        [  101,  1120,  1126,  2396,  1105,  2570,   118,  1199,  1904,   102,\n",
       "             0,     0,     0,     0,     0,     0,     0,     0,     0,     0,\n",
       "             0,     0,     0,     0,     0,     0,     0,     0,     0,     0,\n",
       "             0,     0,     0,     0,     0],\n",
       "        [  101, 13227,  1105,  6276,   117,  1126,  2168, 11540,  1115,   112,\n",
       "           188, 28117, 21643,  2365,  1536,  1111,  2214,  4067,  1133,  1136,\n",
       "          1315, 13952,  1111,  1103,  1278,   118,  1425,  3515,   102,     0,\n",
       "             0,     0,     0,     0,     0],\n",
       "        [  101,  1103,  1499,  1983,  8794,  1116,  1104,  2793, 17787,   102,\n",
       "             0,     0,     0,     0,     0,     0,     0,     0,     0,     0,\n",
       "             0,     0,     0,     0,     0,     0,     0,     0,     0,     0,\n",
       "             0,     0,     0,     0,     0],\n",
       "        [  101,  2654,   119,   102,     0,     0,     0,     0,     0,     0,\n",
       "             0,     0,     0,     0,     0,     0,     0,     0,     0,     0,\n",
       "             0,     0,     0,     0,     0,     0,     0,     0,     0,     0,\n",
       "             0,     0,     0,     0,     0],\n",
       "        [  101,  1173,  1103,  2590,   102,     0,     0,     0,     0,     0,\n",
       "             0,     0,     0,     0,     0,     0,     0,     0,     0,     0,\n",
       "             0,     0,     0,     0,     0,     0,     0,     0,     0,     0,\n",
       "             0,     0,     0,     0,     0],\n",
       "        [  101,  1110, 11134,   117,  2191,   118,  1107,  7641, 21463,  2227,\n",
       "           117,  1105,   118,  4997,  1104,  1155,   118, 12533,   119,   102,\n",
       "             0,     0,     0,     0,     0,     0,     0,     0,     0,     0,\n",
       "             0,     0,     0,     0,     0],\n",
       "        [  101,  1103,  1159,  2008,  5170,  1104,  6288,   102,     0,     0,\n",
       "             0,     0,     0,     0,     0,     0,     0,     0,     0,     0,\n",
       "             0,     0,     0,     0,     0,     0,     0,     0,     0,     0,\n",
       "             0,     0,     0,     0,     0],\n",
       "        [  101,  1897, 27466,  8223, 15105,  1273, 10448,   102,     0,     0,\n",
       "             0,     0,     0,     0,     0,     0,     0,     0,     0,     0,\n",
       "             0,     0,     0,     0,     0,     0,     0,     0,     0,     0,\n",
       "             0,     0,     0,     0,     0]])"
      ]
     },
     "execution_count": 29,
     "metadata": {},
     "output_type": "execute_result"
    }
   ],
   "source": [
    "data['input_ids']"
   ]
  },
  {
   "cell_type": "code",
   "execution_count": 30,
   "id": "db43bd10",
   "metadata": {
    "execution": {
     "iopub.execute_input": "2022-02-12T18:21:39.963724Z",
     "iopub.status.busy": "2022-02-12T18:21:39.963162Z",
     "iopub.status.idle": "2022-02-12T18:21:39.967360Z",
     "shell.execute_reply": "2022-02-12T18:21:39.967968Z",
     "shell.execute_reply.started": "2022-02-12T18:07:32.701980Z"
    },
    "papermill": {
     "duration": 0.061702,
     "end_time": "2022-02-12T18:21:39.968148",
     "exception": false,
     "start_time": "2022-02-12T18:21:39.906446",
     "status": "completed"
    },
    "tags": []
   },
   "outputs": [
    {
     "name": "stdout",
     "output_type": "stream",
     "text": [
      "torch.Size([16, 35])\n",
      "torch.Size([16, 35])\n",
      "torch.Size([16])\n"
     ]
    }
   ],
   "source": [
    "print(data['input_ids'].shape)\n",
    "print(data['attention_mask'].shape)\n",
    "print(data['targets'].shape)"
   ]
  },
  {
   "cell_type": "code",
   "execution_count": 31,
   "id": "44941822",
   "metadata": {
    "execution": {
     "iopub.execute_input": "2022-02-12T18:21:40.077455Z",
     "iopub.status.busy": "2022-02-12T18:21:40.076657Z",
     "iopub.status.idle": "2022-02-12T18:21:53.570773Z",
     "shell.execute_reply": "2022-02-12T18:21:53.570118Z",
     "shell.execute_reply.started": "2022-02-12T18:07:33.440145Z"
    },
    "papermill": {
     "duration": 13.550372,
     "end_time": "2022-02-12T18:21:53.570954",
     "exception": false,
     "start_time": "2022-02-12T18:21:40.020582",
     "status": "completed"
    },
    "tags": []
   },
   "outputs": [
    {
     "data": {
      "application/vnd.jupyter.widget-view+json": {
       "model_id": "08d2bf8206e041dbbb31c6af325436df",
       "version_major": 2,
       "version_minor": 0
      },
      "text/plain": [
       "Downloading:   0%|          | 0.00/416M [00:00<?, ?B/s]"
      ]
     },
     "metadata": {},
     "output_type": "display_data"
    },
    {
     "name": "stderr",
     "output_type": "stream",
     "text": [
      "Some weights of the model checkpoint at bert-base-cased were not used when initializing BertModel: ['cls.predictions.transform.dense.weight', 'cls.predictions.bias', 'cls.predictions.decoder.weight', 'cls.predictions.transform.LayerNorm.bias', 'cls.predictions.transform.dense.bias', 'cls.seq_relationship.bias', 'cls.seq_relationship.weight', 'cls.predictions.transform.LayerNorm.weight']\n",
      "- This IS expected if you are initializing BertModel from the checkpoint of a model trained on another task or with another architecture (e.g. initializing a BertForSequenceClassification model from a BertForPreTraining model).\n",
      "- This IS NOT expected if you are initializing BertModel from the checkpoint of a model that you expect to be exactly identical (initializing a BertForSequenceClassification model from a BertForSequenceClassification model).\n"
     ]
    }
   ],
   "source": [
    "# First, a small scale example using our encoder that we created for our sample text\n",
    "bert = BertModel.from_pretrained(pre_trainer)\n",
    "\n",
    "# last_hidden_state is a sequence of hidden states of the last layer of the model\n",
    "# "
   ]
  },
  {
   "cell_type": "code",
   "execution_count": 32,
   "id": "639597c2",
   "metadata": {
    "execution": {
     "iopub.execute_input": "2022-02-12T18:21:53.693674Z",
     "iopub.status.busy": "2022-02-12T18:21:53.693063Z",
     "iopub.status.idle": "2022-02-12T18:21:55.091430Z",
     "shell.execute_reply": "2022-02-12T18:21:55.090690Z",
     "shell.execute_reply.started": "2022-02-12T18:07:51.628121Z"
    },
    "papermill": {
     "duration": 1.463412,
     "end_time": "2022-02-12T18:21:55.091600",
     "exception": false,
     "start_time": "2022-02-12T18:21:53.628188",
     "status": "completed"
    },
    "tags": []
   },
   "outputs": [
    {
     "name": "stdout",
     "output_type": "stream",
     "text": [
      "torch.Size([16, 35, 768])\n",
      "torch.Size([16, 768])\n"
     ]
    }
   ],
   "source": [
    "# output = bert(input_ids = data['input_ids'],\n",
    "#         attention_mask=data['attention_mask'] , return_dict = False)\n",
    "#output\n",
    "\n",
    "last_hidden_state, pooled_output = bert(input_ids = data['input_ids'],\n",
    "        attention_mask=data['attention_mask'] , return_dict = False)\n",
    "print(last_hidden_state.shape)\n",
    "print(pooled_output.shape)"
   ]
  },
  {
   "cell_type": "markdown",
   "id": "72c0b40b",
   "metadata": {
    "papermill": {
     "duration": 0.056367,
     "end_time": "2022-02-12T18:21:55.209366",
     "exception": false,
     "start_time": "2022-02-12T18:21:55.152999",
     "status": "completed"
    },
    "tags": []
   },
   "source": [
    "## Step 4. Model defining"
   ]
  },
  {
   "cell_type": "code",
   "execution_count": 33,
   "id": "59bfcd7a",
   "metadata": {
    "execution": {
     "iopub.execute_input": "2022-02-12T18:21:55.328938Z",
     "iopub.status.busy": "2022-02-12T18:21:55.327994Z",
     "iopub.status.idle": "2022-02-12T18:21:55.329892Z",
     "shell.execute_reply": "2022-02-12T18:21:55.330367Z",
     "shell.execute_reply.started": "2022-02-12T18:07:53.072571Z"
    },
    "papermill": {
     "duration": 0.064713,
     "end_time": "2022-02-12T18:21:55.330503",
     "exception": false,
     "start_time": "2022-02-12T18:21:55.265790",
     "status": "completed"
    },
    "tags": []
   },
   "outputs": [],
   "source": [
    "class SentimentClassifier(nn.Module):\n",
    "    \n",
    "    def __init__(self, n_classes):\n",
    "        super(SentimentClassifier, self).__init__()\n",
    "        self.bert = BertModel.from_pretrained(pre_trainer)\n",
    "        self.drop = nn.Dropout(p=0.5)\n",
    "        self.out = nn.Sequential(\n",
    "            nn.Linear(self.bert.config.hidden_size, n_classes),\n",
    "            nn.Softmax(dim = 1)\n",
    "        )\n",
    "        \n",
    "    def forward(self, input_ids, attention_mask):\n",
    "        _, pooled_output = self.bert(\n",
    "        input_ids=input_ids,\n",
    "        attention_mask=attention_mask , return_dict = False\n",
    "        )\n",
    "        output = self.drop(pooled_output)\n",
    "        return self.out(output)"
   ]
  },
  {
   "cell_type": "code",
   "execution_count": 34,
   "id": "d740ddb0",
   "metadata": {
    "execution": {
     "iopub.execute_input": "2022-02-12T18:21:55.487396Z",
     "iopub.status.busy": "2022-02-12T18:21:55.482136Z",
     "iopub.status.idle": "2022-02-12T18:22:02.220390Z",
     "shell.execute_reply": "2022-02-12T18:22:02.219556Z",
     "shell.execute_reply.started": "2022-02-12T18:07:57.185646Z"
    },
    "papermill": {
     "duration": 6.833687,
     "end_time": "2022-02-12T18:22:02.220542",
     "exception": false,
     "start_time": "2022-02-12T18:21:55.386855",
     "status": "completed"
    },
    "tags": []
   },
   "outputs": [
    {
     "name": "stdout",
     "output_type": "stream",
     "text": [
      "cuda:0\n"
     ]
    },
    {
     "name": "stderr",
     "output_type": "stream",
     "text": [
      "Some weights of the model checkpoint at bert-base-cased were not used when initializing BertModel: ['cls.predictions.transform.dense.weight', 'cls.predictions.bias', 'cls.predictions.decoder.weight', 'cls.predictions.transform.LayerNorm.bias', 'cls.predictions.transform.dense.bias', 'cls.seq_relationship.bias', 'cls.seq_relationship.weight', 'cls.predictions.transform.LayerNorm.weight']\n",
      "- This IS expected if you are initializing BertModel from the checkpoint of a model trained on another task or with another architecture (e.g. initializing a BertForSequenceClassification model from a BertForPreTraining model).\n",
      "- This IS NOT expected if you are initializing BertModel from the checkpoint of a model that you expect to be exactly identical (initializing a BertForSequenceClassification model from a BertForSequenceClassification model).\n"
     ]
    },
    {
     "data": {
      "text/plain": [
       "SentimentClassifier(\n",
       "  (bert): BertModel(\n",
       "    (embeddings): BertEmbeddings(\n",
       "      (word_embeddings): Embedding(28996, 768, padding_idx=0)\n",
       "      (position_embeddings): Embedding(512, 768)\n",
       "      (token_type_embeddings): Embedding(2, 768)\n",
       "      (LayerNorm): LayerNorm((768,), eps=1e-12, elementwise_affine=True)\n",
       "      (dropout): Dropout(p=0.1, inplace=False)\n",
       "    )\n",
       "    (encoder): BertEncoder(\n",
       "      (layer): ModuleList(\n",
       "        (0): BertLayer(\n",
       "          (attention): BertAttention(\n",
       "            (self): BertSelfAttention(\n",
       "              (query): Linear(in_features=768, out_features=768, bias=True)\n",
       "              (key): Linear(in_features=768, out_features=768, bias=True)\n",
       "              (value): Linear(in_features=768, out_features=768, bias=True)\n",
       "              (dropout): Dropout(p=0.1, inplace=False)\n",
       "            )\n",
       "            (output): BertSelfOutput(\n",
       "              (dense): Linear(in_features=768, out_features=768, bias=True)\n",
       "              (LayerNorm): LayerNorm((768,), eps=1e-12, elementwise_affine=True)\n",
       "              (dropout): Dropout(p=0.1, inplace=False)\n",
       "            )\n",
       "          )\n",
       "          (intermediate): BertIntermediate(\n",
       "            (dense): Linear(in_features=768, out_features=3072, bias=True)\n",
       "          )\n",
       "          (output): BertOutput(\n",
       "            (dense): Linear(in_features=3072, out_features=768, bias=True)\n",
       "            (LayerNorm): LayerNorm((768,), eps=1e-12, elementwise_affine=True)\n",
       "            (dropout): Dropout(p=0.1, inplace=False)\n",
       "          )\n",
       "        )\n",
       "        (1): BertLayer(\n",
       "          (attention): BertAttention(\n",
       "            (self): BertSelfAttention(\n",
       "              (query): Linear(in_features=768, out_features=768, bias=True)\n",
       "              (key): Linear(in_features=768, out_features=768, bias=True)\n",
       "              (value): Linear(in_features=768, out_features=768, bias=True)\n",
       "              (dropout): Dropout(p=0.1, inplace=False)\n",
       "            )\n",
       "            (output): BertSelfOutput(\n",
       "              (dense): Linear(in_features=768, out_features=768, bias=True)\n",
       "              (LayerNorm): LayerNorm((768,), eps=1e-12, elementwise_affine=True)\n",
       "              (dropout): Dropout(p=0.1, inplace=False)\n",
       "            )\n",
       "          )\n",
       "          (intermediate): BertIntermediate(\n",
       "            (dense): Linear(in_features=768, out_features=3072, bias=True)\n",
       "          )\n",
       "          (output): BertOutput(\n",
       "            (dense): Linear(in_features=3072, out_features=768, bias=True)\n",
       "            (LayerNorm): LayerNorm((768,), eps=1e-12, elementwise_affine=True)\n",
       "            (dropout): Dropout(p=0.1, inplace=False)\n",
       "          )\n",
       "        )\n",
       "        (2): BertLayer(\n",
       "          (attention): BertAttention(\n",
       "            (self): BertSelfAttention(\n",
       "              (query): Linear(in_features=768, out_features=768, bias=True)\n",
       "              (key): Linear(in_features=768, out_features=768, bias=True)\n",
       "              (value): Linear(in_features=768, out_features=768, bias=True)\n",
       "              (dropout): Dropout(p=0.1, inplace=False)\n",
       "            )\n",
       "            (output): BertSelfOutput(\n",
       "              (dense): Linear(in_features=768, out_features=768, bias=True)\n",
       "              (LayerNorm): LayerNorm((768,), eps=1e-12, elementwise_affine=True)\n",
       "              (dropout): Dropout(p=0.1, inplace=False)\n",
       "            )\n",
       "          )\n",
       "          (intermediate): BertIntermediate(\n",
       "            (dense): Linear(in_features=768, out_features=3072, bias=True)\n",
       "          )\n",
       "          (output): BertOutput(\n",
       "            (dense): Linear(in_features=3072, out_features=768, bias=True)\n",
       "            (LayerNorm): LayerNorm((768,), eps=1e-12, elementwise_affine=True)\n",
       "            (dropout): Dropout(p=0.1, inplace=False)\n",
       "          )\n",
       "        )\n",
       "        (3): BertLayer(\n",
       "          (attention): BertAttention(\n",
       "            (self): BertSelfAttention(\n",
       "              (query): Linear(in_features=768, out_features=768, bias=True)\n",
       "              (key): Linear(in_features=768, out_features=768, bias=True)\n",
       "              (value): Linear(in_features=768, out_features=768, bias=True)\n",
       "              (dropout): Dropout(p=0.1, inplace=False)\n",
       "            )\n",
       "            (output): BertSelfOutput(\n",
       "              (dense): Linear(in_features=768, out_features=768, bias=True)\n",
       "              (LayerNorm): LayerNorm((768,), eps=1e-12, elementwise_affine=True)\n",
       "              (dropout): Dropout(p=0.1, inplace=False)\n",
       "            )\n",
       "          )\n",
       "          (intermediate): BertIntermediate(\n",
       "            (dense): Linear(in_features=768, out_features=3072, bias=True)\n",
       "          )\n",
       "          (output): BertOutput(\n",
       "            (dense): Linear(in_features=3072, out_features=768, bias=True)\n",
       "            (LayerNorm): LayerNorm((768,), eps=1e-12, elementwise_affine=True)\n",
       "            (dropout): Dropout(p=0.1, inplace=False)\n",
       "          )\n",
       "        )\n",
       "        (4): BertLayer(\n",
       "          (attention): BertAttention(\n",
       "            (self): BertSelfAttention(\n",
       "              (query): Linear(in_features=768, out_features=768, bias=True)\n",
       "              (key): Linear(in_features=768, out_features=768, bias=True)\n",
       "              (value): Linear(in_features=768, out_features=768, bias=True)\n",
       "              (dropout): Dropout(p=0.1, inplace=False)\n",
       "            )\n",
       "            (output): BertSelfOutput(\n",
       "              (dense): Linear(in_features=768, out_features=768, bias=True)\n",
       "              (LayerNorm): LayerNorm((768,), eps=1e-12, elementwise_affine=True)\n",
       "              (dropout): Dropout(p=0.1, inplace=False)\n",
       "            )\n",
       "          )\n",
       "          (intermediate): BertIntermediate(\n",
       "            (dense): Linear(in_features=768, out_features=3072, bias=True)\n",
       "          )\n",
       "          (output): BertOutput(\n",
       "            (dense): Linear(in_features=3072, out_features=768, bias=True)\n",
       "            (LayerNorm): LayerNorm((768,), eps=1e-12, elementwise_affine=True)\n",
       "            (dropout): Dropout(p=0.1, inplace=False)\n",
       "          )\n",
       "        )\n",
       "        (5): BertLayer(\n",
       "          (attention): BertAttention(\n",
       "            (self): BertSelfAttention(\n",
       "              (query): Linear(in_features=768, out_features=768, bias=True)\n",
       "              (key): Linear(in_features=768, out_features=768, bias=True)\n",
       "              (value): Linear(in_features=768, out_features=768, bias=True)\n",
       "              (dropout): Dropout(p=0.1, inplace=False)\n",
       "            )\n",
       "            (output): BertSelfOutput(\n",
       "              (dense): Linear(in_features=768, out_features=768, bias=True)\n",
       "              (LayerNorm): LayerNorm((768,), eps=1e-12, elementwise_affine=True)\n",
       "              (dropout): Dropout(p=0.1, inplace=False)\n",
       "            )\n",
       "          )\n",
       "          (intermediate): BertIntermediate(\n",
       "            (dense): Linear(in_features=768, out_features=3072, bias=True)\n",
       "          )\n",
       "          (output): BertOutput(\n",
       "            (dense): Linear(in_features=3072, out_features=768, bias=True)\n",
       "            (LayerNorm): LayerNorm((768,), eps=1e-12, elementwise_affine=True)\n",
       "            (dropout): Dropout(p=0.1, inplace=False)\n",
       "          )\n",
       "        )\n",
       "        (6): BertLayer(\n",
       "          (attention): BertAttention(\n",
       "            (self): BertSelfAttention(\n",
       "              (query): Linear(in_features=768, out_features=768, bias=True)\n",
       "              (key): Linear(in_features=768, out_features=768, bias=True)\n",
       "              (value): Linear(in_features=768, out_features=768, bias=True)\n",
       "              (dropout): Dropout(p=0.1, inplace=False)\n",
       "            )\n",
       "            (output): BertSelfOutput(\n",
       "              (dense): Linear(in_features=768, out_features=768, bias=True)\n",
       "              (LayerNorm): LayerNorm((768,), eps=1e-12, elementwise_affine=True)\n",
       "              (dropout): Dropout(p=0.1, inplace=False)\n",
       "            )\n",
       "          )\n",
       "          (intermediate): BertIntermediate(\n",
       "            (dense): Linear(in_features=768, out_features=3072, bias=True)\n",
       "          )\n",
       "          (output): BertOutput(\n",
       "            (dense): Linear(in_features=3072, out_features=768, bias=True)\n",
       "            (LayerNorm): LayerNorm((768,), eps=1e-12, elementwise_affine=True)\n",
       "            (dropout): Dropout(p=0.1, inplace=False)\n",
       "          )\n",
       "        )\n",
       "        (7): BertLayer(\n",
       "          (attention): BertAttention(\n",
       "            (self): BertSelfAttention(\n",
       "              (query): Linear(in_features=768, out_features=768, bias=True)\n",
       "              (key): Linear(in_features=768, out_features=768, bias=True)\n",
       "              (value): Linear(in_features=768, out_features=768, bias=True)\n",
       "              (dropout): Dropout(p=0.1, inplace=False)\n",
       "            )\n",
       "            (output): BertSelfOutput(\n",
       "              (dense): Linear(in_features=768, out_features=768, bias=True)\n",
       "              (LayerNorm): LayerNorm((768,), eps=1e-12, elementwise_affine=True)\n",
       "              (dropout): Dropout(p=0.1, inplace=False)\n",
       "            )\n",
       "          )\n",
       "          (intermediate): BertIntermediate(\n",
       "            (dense): Linear(in_features=768, out_features=3072, bias=True)\n",
       "          )\n",
       "          (output): BertOutput(\n",
       "            (dense): Linear(in_features=3072, out_features=768, bias=True)\n",
       "            (LayerNorm): LayerNorm((768,), eps=1e-12, elementwise_affine=True)\n",
       "            (dropout): Dropout(p=0.1, inplace=False)\n",
       "          )\n",
       "        )\n",
       "        (8): BertLayer(\n",
       "          (attention): BertAttention(\n",
       "            (self): BertSelfAttention(\n",
       "              (query): Linear(in_features=768, out_features=768, bias=True)\n",
       "              (key): Linear(in_features=768, out_features=768, bias=True)\n",
       "              (value): Linear(in_features=768, out_features=768, bias=True)\n",
       "              (dropout): Dropout(p=0.1, inplace=False)\n",
       "            )\n",
       "            (output): BertSelfOutput(\n",
       "              (dense): Linear(in_features=768, out_features=768, bias=True)\n",
       "              (LayerNorm): LayerNorm((768,), eps=1e-12, elementwise_affine=True)\n",
       "              (dropout): Dropout(p=0.1, inplace=False)\n",
       "            )\n",
       "          )\n",
       "          (intermediate): BertIntermediate(\n",
       "            (dense): Linear(in_features=768, out_features=3072, bias=True)\n",
       "          )\n",
       "          (output): BertOutput(\n",
       "            (dense): Linear(in_features=3072, out_features=768, bias=True)\n",
       "            (LayerNorm): LayerNorm((768,), eps=1e-12, elementwise_affine=True)\n",
       "            (dropout): Dropout(p=0.1, inplace=False)\n",
       "          )\n",
       "        )\n",
       "        (9): BertLayer(\n",
       "          (attention): BertAttention(\n",
       "            (self): BertSelfAttention(\n",
       "              (query): Linear(in_features=768, out_features=768, bias=True)\n",
       "              (key): Linear(in_features=768, out_features=768, bias=True)\n",
       "              (value): Linear(in_features=768, out_features=768, bias=True)\n",
       "              (dropout): Dropout(p=0.1, inplace=False)\n",
       "            )\n",
       "            (output): BertSelfOutput(\n",
       "              (dense): Linear(in_features=768, out_features=768, bias=True)\n",
       "              (LayerNorm): LayerNorm((768,), eps=1e-12, elementwise_affine=True)\n",
       "              (dropout): Dropout(p=0.1, inplace=False)\n",
       "            )\n",
       "          )\n",
       "          (intermediate): BertIntermediate(\n",
       "            (dense): Linear(in_features=768, out_features=3072, bias=True)\n",
       "          )\n",
       "          (output): BertOutput(\n",
       "            (dense): Linear(in_features=3072, out_features=768, bias=True)\n",
       "            (LayerNorm): LayerNorm((768,), eps=1e-12, elementwise_affine=True)\n",
       "            (dropout): Dropout(p=0.1, inplace=False)\n",
       "          )\n",
       "        )\n",
       "        (10): BertLayer(\n",
       "          (attention): BertAttention(\n",
       "            (self): BertSelfAttention(\n",
       "              (query): Linear(in_features=768, out_features=768, bias=True)\n",
       "              (key): Linear(in_features=768, out_features=768, bias=True)\n",
       "              (value): Linear(in_features=768, out_features=768, bias=True)\n",
       "              (dropout): Dropout(p=0.1, inplace=False)\n",
       "            )\n",
       "            (output): BertSelfOutput(\n",
       "              (dense): Linear(in_features=768, out_features=768, bias=True)\n",
       "              (LayerNorm): LayerNorm((768,), eps=1e-12, elementwise_affine=True)\n",
       "              (dropout): Dropout(p=0.1, inplace=False)\n",
       "            )\n",
       "          )\n",
       "          (intermediate): BertIntermediate(\n",
       "            (dense): Linear(in_features=768, out_features=3072, bias=True)\n",
       "          )\n",
       "          (output): BertOutput(\n",
       "            (dense): Linear(in_features=3072, out_features=768, bias=True)\n",
       "            (LayerNorm): LayerNorm((768,), eps=1e-12, elementwise_affine=True)\n",
       "            (dropout): Dropout(p=0.1, inplace=False)\n",
       "          )\n",
       "        )\n",
       "        (11): BertLayer(\n",
       "          (attention): BertAttention(\n",
       "            (self): BertSelfAttention(\n",
       "              (query): Linear(in_features=768, out_features=768, bias=True)\n",
       "              (key): Linear(in_features=768, out_features=768, bias=True)\n",
       "              (value): Linear(in_features=768, out_features=768, bias=True)\n",
       "              (dropout): Dropout(p=0.1, inplace=False)\n",
       "            )\n",
       "            (output): BertSelfOutput(\n",
       "              (dense): Linear(in_features=768, out_features=768, bias=True)\n",
       "              (LayerNorm): LayerNorm((768,), eps=1e-12, elementwise_affine=True)\n",
       "              (dropout): Dropout(p=0.1, inplace=False)\n",
       "            )\n",
       "          )\n",
       "          (intermediate): BertIntermediate(\n",
       "            (dense): Linear(in_features=768, out_features=3072, bias=True)\n",
       "          )\n",
       "          (output): BertOutput(\n",
       "            (dense): Linear(in_features=3072, out_features=768, bias=True)\n",
       "            (LayerNorm): LayerNorm((768,), eps=1e-12, elementwise_affine=True)\n",
       "            (dropout): Dropout(p=0.1, inplace=False)\n",
       "          )\n",
       "        )\n",
       "      )\n",
       "    )\n",
       "    (pooler): BertPooler(\n",
       "      (dense): Linear(in_features=768, out_features=768, bias=True)\n",
       "      (activation): Tanh()\n",
       "    )\n",
       "  )\n",
       "  (drop): Dropout(p=0.5, inplace=False)\n",
       "  (out): Sequential(\n",
       "    (0): Linear(in_features=768, out_features=5, bias=True)\n",
       "    (1): Softmax(dim=1)\n",
       "  )\n",
       ")"
      ]
     },
     "execution_count": 34,
     "metadata": {},
     "output_type": "execute_result"
    }
   ],
   "source": [
    "device = torch.device(\"cuda:0\" if torch.cuda.is_available() else \"cpu\")\n",
    "print(device)\n",
    "model = SentimentClassifier(5)\n",
    "model.to(device)"
   ]
  },
  {
   "cell_type": "code",
   "execution_count": 35,
   "id": "83fdff17",
   "metadata": {
    "execution": {
     "iopub.execute_input": "2022-02-12T18:22:02.343396Z",
     "iopub.status.busy": "2022-02-12T18:22:02.342748Z",
     "iopub.status.idle": "2022-02-12T18:22:03.114234Z",
     "shell.execute_reply": "2022-02-12T18:22:03.114964Z",
     "shell.execute_reply.started": "2022-02-12T18:08:04.829681Z"
    },
    "papermill": {
     "duration": 0.833988,
     "end_time": "2022-02-12T18:22:03.115215",
     "exception": false,
     "start_time": "2022-02-12T18:22:02.281227",
     "status": "completed"
    },
    "tags": []
   },
   "outputs": [],
   "source": [
    "pred = model.forward(data['input_ids'].to(device) , data['attention_mask'].to(device))"
   ]
  },
  {
   "cell_type": "code",
   "execution_count": 36,
   "id": "15a77b8a",
   "metadata": {
    "execution": {
     "iopub.execute_input": "2022-02-12T18:22:03.363884Z",
     "iopub.status.busy": "2022-02-12T18:22:03.362737Z",
     "iopub.status.idle": "2022-02-12T18:22:03.367498Z",
     "shell.execute_reply": "2022-02-12T18:22:03.364968Z",
     "shell.execute_reply.started": "2022-02-12T18:08:05.608716Z"
    },
    "papermill": {
     "duration": 0.137951,
     "end_time": "2022-02-12T18:22:03.367703",
     "exception": false,
     "start_time": "2022-02-12T18:22:03.229752",
     "status": "completed"
    },
    "tags": []
   },
   "outputs": [
    {
     "data": {
      "text/plain": [
       "torch.Size([16, 5])"
      ]
     },
     "execution_count": 36,
     "metadata": {},
     "output_type": "execute_result"
    }
   ],
   "source": [
    "pred.shape"
   ]
  },
  {
   "cell_type": "code",
   "execution_count": 37,
   "id": "6d3d1863",
   "metadata": {
    "execution": {
     "iopub.execute_input": "2022-02-12T18:22:03.562118Z",
     "iopub.status.busy": "2022-02-12T18:22:03.561347Z",
     "iopub.status.idle": "2022-02-12T18:22:03.591358Z",
     "shell.execute_reply": "2022-02-12T18:22:03.591878Z",
     "shell.execute_reply.started": "2022-02-12T18:08:09.426099Z"
    },
    "papermill": {
     "duration": 0.104594,
     "end_time": "2022-02-12T18:22:03.592032",
     "exception": false,
     "start_time": "2022-02-12T18:22:03.487438",
     "status": "completed"
    },
    "tags": []
   },
   "outputs": [
    {
     "data": {
      "text/plain": [
       "tensor([[0.0604, 0.0702, 0.2469, 0.2234, 0.3991],\n",
       "        [0.0986, 0.0840, 0.2277, 0.2711, 0.3186],\n",
       "        [0.0806, 0.1044, 0.2949, 0.1493, 0.3709],\n",
       "        [0.1921, 0.0885, 0.2970, 0.2031, 0.2193],\n",
       "        [0.1034, 0.1201, 0.3596, 0.2789, 0.1380],\n",
       "        [0.0339, 0.1159, 0.2677, 0.0884, 0.4941],\n",
       "        [0.0466, 0.2045, 0.2446, 0.2664, 0.2379],\n",
       "        [0.0339, 0.3100, 0.1163, 0.1174, 0.4224],\n",
       "        [0.0617, 0.2026, 0.1905, 0.1206, 0.4246],\n",
       "        [0.1002, 0.2489, 0.2101, 0.1551, 0.2857],\n",
       "        [0.0497, 0.1387, 0.3392, 0.2649, 0.2074],\n",
       "        [0.0606, 0.1008, 0.3080, 0.1344, 0.3962],\n",
       "        [0.0756, 0.1375, 0.2709, 0.3039, 0.2121],\n",
       "        [0.0376, 0.1816, 0.1805, 0.3256, 0.2747],\n",
       "        [0.0493, 0.1408, 0.3280, 0.0681, 0.4139],\n",
       "        [0.0484, 0.2006, 0.2656, 0.2506, 0.2347]], device='cuda:0',\n",
       "       grad_fn=<SoftmaxBackward>)"
      ]
     },
     "execution_count": 37,
     "metadata": {},
     "output_type": "execute_result"
    }
   ],
   "source": [
    "pred"
   ]
  },
  {
   "cell_type": "code",
   "execution_count": 38,
   "id": "b3ba01ce",
   "metadata": {
    "execution": {
     "iopub.execute_input": "2022-02-12T18:22:03.735287Z",
     "iopub.status.busy": "2022-02-12T18:22:03.733520Z",
     "iopub.status.idle": "2022-02-12T18:22:03.735980Z",
     "shell.execute_reply": "2022-02-12T18:22:03.736443Z",
     "shell.execute_reply.started": "2022-02-12T18:08:09.695206Z"
    },
    "papermill": {
     "duration": 0.077234,
     "end_time": "2022-02-12T18:22:03.736580",
     "exception": false,
     "start_time": "2022-02-12T18:22:03.659346",
     "status": "completed"
    },
    "tags": []
   },
   "outputs": [],
   "source": [
    "EPOCHS = 10\n",
    "optimizer = torch.optim.Adam(filter(lambda p: p.requires_grad, model.parameters()), lr=0.001)\n",
    "total_steps = len(train_data_loader) * EPOCHS\n",
    "loss_fn = nn.CrossEntropyLoss().to(device)"
   ]
  },
  {
   "cell_type": "code",
   "execution_count": 39,
   "id": "24a15c79",
   "metadata": {
    "execution": {
     "iopub.execute_input": "2022-02-12T18:22:03.866175Z",
     "iopub.status.busy": "2022-02-12T18:22:03.865358Z",
     "iopub.status.idle": "2022-02-12T18:22:03.868142Z",
     "shell.execute_reply": "2022-02-12T18:22:03.868580Z",
     "shell.execute_reply.started": "2022-02-12T18:08:12.610139Z"
    },
    "papermill": {
     "duration": 0.070272,
     "end_time": "2022-02-12T18:22:03.868727",
     "exception": false,
     "start_time": "2022-02-12T18:22:03.798455",
     "status": "completed"
    },
    "tags": []
   },
   "outputs": [
    {
     "data": {
      "text/plain": [
       "8759"
      ]
     },
     "execution_count": 39,
     "metadata": {},
     "output_type": "execute_result"
    }
   ],
   "source": [
    "len(train_data_loader)"
   ]
  },
  {
   "cell_type": "code",
   "execution_count": 40,
   "id": "53fa0072",
   "metadata": {
    "collapsed": true,
    "execution": {
     "iopub.execute_input": "2022-02-12T18:22:04.001524Z",
     "iopub.status.busy": "2022-02-12T18:22:04.000382Z",
     "iopub.status.idle": "2022-02-12T18:22:04.002373Z",
     "shell.execute_reply": "2022-02-12T18:22:04.002816Z",
     "shell.execute_reply.started": "2022-02-12T10:38:11.68928Z"
    },
    "jupyter": {
     "outputs_hidden": true
    },
    "papermill": {
     "duration": 0.071409,
     "end_time": "2022-02-12T18:22:04.002965",
     "exception": false,
     "start_time": "2022-02-12T18:22:03.931556",
     "status": "completed"
    },
    "tags": []
   },
   "outputs": [],
   "source": [
    "# for epoch in range(20):\n",
    "#     start_time = time.time()\n",
    "    \n",
    "    \n",
    "#     # Set model to train configuration\n",
    "#     model.train()\n",
    "#     losses = []\n",
    "#     correct_predictions = 0\n",
    "#     for d in train_data_loader:\n",
    "#         input_ids = d[\"input_ids\"].to(device)\n",
    "#         attention_mask = d[\"attention_mask\"].to(device)\n",
    "#         targets = d[\"targets\"].to(device)\n",
    "        \n",
    "#         outputs = model(input_ids=input_ids,\n",
    "#                        attention_mask=attention_mask)\n",
    "        \n",
    "#         _, preds = torch.max(outputs, dim=1)\n",
    "#         loss = loss_fn(outputs, targets)\n",
    "#         correct_predictions += torch.sum(preds == targets)\n",
    "#         losses.append(loss.item())\n",
    "#         loss.backward()\n",
    "#         nn.utils.clip_grad_norm_(model.parameters(), max_norm=1.0)\n",
    "#         optimizer.step()\n",
    "#         optimizer.zero_grad()\n",
    "        \n",
    "#     elapsed_time = time.time() - start_time    \n",
    "#     print(f'Epoch {epoch} \\t  loss {loss} \\t correct predictions {correct_predictions} \\t time elapsed {elapsed_time}')\n",
    "\n",
    "    "
   ]
  },
  {
   "cell_type": "code",
   "execution_count": 41,
   "id": "435317e1",
   "metadata": {
    "execution": {
     "iopub.execute_input": "2022-02-12T18:22:04.132799Z",
     "iopub.status.busy": "2022-02-12T18:22:04.132186Z",
     "iopub.status.idle": "2022-02-12T22:20:31.236415Z",
     "shell.execute_reply": "2022-02-12T22:20:31.236862Z",
     "shell.execute_reply.started": "2022-02-12T18:13:08.872100Z"
    },
    "papermill": {
     "duration": 14307.173553,
     "end_time": "2022-02-12T22:20:31.237025",
     "exception": false,
     "start_time": "2022-02-12T18:22:04.063472",
     "status": "completed"
    },
    "tags": []
   },
   "outputs": [
    {
     "name": "stdout",
     "output_type": "stream",
     "text": [
      "Epoch 0 \t  loss 1.349277138710022 \t accuracy  0.5106 \t time elapsed  11.92 mins\n",
      "Epoch 1 \t  loss 1.349277138710022 \t accuracy  0.5107 \t time elapsed  11.92 mins\n",
      "Epoch 2 \t  loss 1.349277138710022 \t accuracy  0.5107 \t time elapsed  11.90 mins\n",
      "Epoch 3 \t  loss 1.349277138710022 \t accuracy  0.5107 \t time elapsed  11.89 mins\n",
      "Epoch 4 \t  loss 1.349277138710022 \t accuracy  0.5107 \t time elapsed  11.90 mins\n",
      "Epoch 5 \t  loss 1.349277138710022 \t accuracy  0.5107 \t time elapsed  11.91 mins\n",
      "Epoch 6 \t  loss 1.349277138710022 \t accuracy  0.5107 \t time elapsed  11.93 mins\n",
      "Epoch 7 \t  loss 1.349277138710022 \t accuracy  0.5107 \t time elapsed  11.98 mins\n",
      "Epoch 8 \t  loss 1.349277138710022 \t accuracy  0.5107 \t time elapsed  11.91 mins\n",
      "Epoch 9 \t  loss 1.349277138710022 \t accuracy  0.5107 \t time elapsed  11.91 mins\n",
      "Epoch 10 \t  loss 1.349277138710022 \t accuracy  0.5107 \t time elapsed  11.90 mins\n",
      "Epoch 11 \t  loss 1.349277138710022 \t accuracy  0.5107 \t time elapsed  11.93 mins\n",
      "Epoch 12 \t  loss 1.349277138710022 \t accuracy  0.5107 \t time elapsed  11.93 mins\n",
      "Epoch 13 \t  loss 1.349277138710022 \t accuracy  0.5107 \t time elapsed  11.93 mins\n",
      "Epoch 14 \t  loss 1.349277138710022 \t accuracy  0.5107 \t time elapsed  11.95 mins\n",
      "Epoch 15 \t  loss 1.349277138710022 \t accuracy  0.5107 \t time elapsed  11.91 mins\n",
      "Epoch 16 \t  loss 1.349277138710022 \t accuracy  0.5107 \t time elapsed  11.90 mins\n",
      "Epoch 17 \t  loss 1.349277138710022 \t accuracy  0.5107 \t time elapsed  11.94 mins\n",
      "Epoch 18 \t  loss 1.349277138710022 \t accuracy  0.5107 \t time elapsed  11.95 mins\n",
      "Epoch 19 \t  loss 1.349277138710022 \t accuracy  0.5107 \t time elapsed  11.95 mins\n"
     ]
    }
   ],
   "source": [
    "for epoch in range(20):\n",
    "    counter = 0 \n",
    "    start_time  = time.time()\n",
    "    \n",
    "    model.train()\n",
    "    losses = []\n",
    "    correct_predictions = 0\n",
    "    for d in train_data_loader:\n",
    "        #print(\"hello\")\n",
    "        #print(counter)\n",
    "        counter +=1\n",
    "        \n",
    "        input_ids = d[\"input_ids\"].to(device)\n",
    "        attention_mask = d[\"attention_mask\"].to(device)\n",
    "        targets = d[\"targets\"].to(device)\n",
    "        \n",
    "        outputs = model(input_ids=input_ids,\n",
    "                        attention_mask=attention_mask)\n",
    "        ##\n",
    "        _, preds = torch.max(outputs, dim=1)\n",
    "        #print(preds)\n",
    "        loss = loss_fn(outputs, targets)\n",
    "        #print(loss)\n",
    "        correct_predictions += torch.sum(preds == targets)\n",
    "        #print(correct_predictions)\n",
    "        \n",
    "        ##\n",
    "        losses.append(loss.item())\n",
    "        optimizer.zero_grad()\n",
    "        loss.backward()\n",
    "        optimizer.step()\n",
    "        #print('Time elapsed ' , time.time() -  start_time)\n",
    "        ##\n",
    "    \n",
    "    elapsed_time = time.time() - start_time\n",
    "    print(f'Epoch {epoch} \\t  loss {loss} \\t accuracy {correct_predictions / len(X_train) : .4f} \\t time elapsed {elapsed_time/60 : .2f} mins')"
   ]
  },
  {
   "cell_type": "code",
   "execution_count": 42,
   "id": "d5d98184",
   "metadata": {
    "execution": {
     "iopub.execute_input": "2022-02-12T22:20:31.364825Z",
     "iopub.status.busy": "2022-02-12T22:20:31.363194Z",
     "iopub.status.idle": "2022-02-12T22:20:31.365386Z",
     "shell.execute_reply": "2022-02-12T22:20:31.365821Z",
     "shell.execute_reply.started": "2022-02-12T18:18:42.381091Z"
    },
    "papermill": {
     "duration": 0.067542,
     "end_time": "2022-02-12T22:20:31.365958",
     "exception": false,
     "start_time": "2022-02-12T22:20:31.298416",
     "status": "completed"
    },
    "tags": []
   },
   "outputs": [],
   "source": [
    "#len(X_train)/len(train_data_loader)"
   ]
  },
  {
   "cell_type": "code",
   "execution_count": 43,
   "id": "afeb623d",
   "metadata": {
    "execution": {
     "iopub.execute_input": "2022-02-12T22:20:31.493819Z",
     "iopub.status.busy": "2022-02-12T22:20:31.493028Z",
     "iopub.status.idle": "2022-02-12T22:20:31.495491Z",
     "shell.execute_reply": "2022-02-12T22:20:31.495088Z",
     "shell.execute_reply.started": "2022-02-12T18:19:01.516583Z"
    },
    "papermill": {
     "duration": 0.06745,
     "end_time": "2022-02-12T22:20:31.495633",
     "exception": false,
     "start_time": "2022-02-12T22:20:31.428183",
     "status": "completed"
    },
    "tags": []
   },
   "outputs": [],
   "source": [
    "#len(X_val)"
   ]
  },
  {
   "cell_type": "code",
   "execution_count": 44,
   "id": "8eaad3ac",
   "metadata": {
    "execution": {
     "iopub.execute_input": "2022-02-12T22:20:31.622624Z",
     "iopub.status.busy": "2022-02-12T22:20:31.621056Z",
     "iopub.status.idle": "2022-02-12T22:20:31.623193Z",
     "shell.execute_reply": "2022-02-12T22:20:31.623590Z",
     "shell.execute_reply.started": "2022-02-12T18:20:04.708468Z"
    },
    "papermill": {
     "duration": 0.06724,
     "end_time": "2022-02-12T22:20:31.623746",
     "exception": false,
     "start_time": "2022-02-12T22:20:31.556506",
     "status": "completed"
    },
    "tags": []
   },
   "outputs": [],
   "source": [
    "#print(f'Epoch {epoch} \\t  loss {loss} \\t accuracy {correct_predictions / len(X_val) : .4f} \\t time elapsed {elapsed_time/60 : .2f} mins')"
   ]
  },
  {
   "cell_type": "code",
   "execution_count": null,
   "id": "bf63f0c4",
   "metadata": {
    "papermill": {
     "duration": 0.061613,
     "end_time": "2022-02-12T22:20:31.746743",
     "exception": false,
     "start_time": "2022-02-12T22:20:31.685130",
     "status": "completed"
    },
    "tags": []
   },
   "outputs": [],
   "source": []
  }
 ],
 "metadata": {
  "kernelspec": {
   "display_name": "Python 3",
   "language": "python",
   "name": "python3"
  },
  "language_info": {
   "codemirror_mode": {
    "name": "ipython",
    "version": 3
   },
   "file_extension": ".py",
   "mimetype": "text/x-python",
   "name": "python",
   "nbconvert_exporter": "python",
   "pygments_lexer": "ipython3",
   "version": "3.7.12"
  },
  "papermill": {
   "default_parameters": {},
   "duration": 14364.031756,
   "end_time": "2022-02-12T22:20:35.430079",
   "environment_variables": {},
   "exception": null,
   "input_path": "__notebook__.ipynb",
   "output_path": "__notebook__.ipynb",
   "parameters": {},
   "start_time": "2022-02-12T18:21:11.398323",
   "version": "2.3.3"
  },
  "widgets": {
   "application/vnd.jupyter.widget-state+json": {
    "state": {
     "019715dd79ec4125805c907608d7d417": {
      "model_module": "@jupyter-widgets/controls",
      "model_module_version": "1.5.0",
      "model_name": "ProgressStyleModel",
      "state": {
       "_model_module": "@jupyter-widgets/controls",
       "_model_module_version": "1.5.0",
       "_model_name": "ProgressStyleModel",
       "_view_count": null,
       "_view_module": "@jupyter-widgets/base",
       "_view_module_version": "1.2.0",
       "_view_name": "StyleView",
       "bar_color": null,
       "description_width": ""
      }
     },
     "0517c6d595fa4f6ea78f2766f2fe5dd2": {
      "model_module": "@jupyter-widgets/base",
      "model_module_version": "1.2.0",
      "model_name": "LayoutModel",
      "state": {
       "_model_module": "@jupyter-widgets/base",
       "_model_module_version": "1.2.0",
       "_model_name": "LayoutModel",
       "_view_count": null,
       "_view_module": "@jupyter-widgets/base",
       "_view_module_version": "1.2.0",
       "_view_name": "LayoutView",
       "align_content": null,
       "align_items": null,
       "align_self": null,
       "border": null,
       "bottom": null,
       "display": null,
       "flex": null,
       "flex_flow": null,
       "grid_area": null,
       "grid_auto_columns": null,
       "grid_auto_flow": null,
       "grid_auto_rows": null,
       "grid_column": null,
       "grid_gap": null,
       "grid_row": null,
       "grid_template_areas": null,
       "grid_template_columns": null,
       "grid_template_rows": null,
       "height": null,
       "justify_content": null,
       "justify_items": null,
       "left": null,
       "margin": null,
       "max_height": null,
       "max_width": null,
       "min_height": null,
       "min_width": null,
       "object_fit": null,
       "object_position": null,
       "order": null,
       "overflow": null,
       "overflow_x": null,
       "overflow_y": null,
       "padding": null,
       "right": null,
       "top": null,
       "visibility": null,
       "width": null
      }
     },
     "08d2bf8206e041dbbb31c6af325436df": {
      "model_module": "@jupyter-widgets/controls",
      "model_module_version": "1.5.0",
      "model_name": "HBoxModel",
      "state": {
       "_dom_classes": [],
       "_model_module": "@jupyter-widgets/controls",
       "_model_module_version": "1.5.0",
       "_model_name": "HBoxModel",
       "_view_count": null,
       "_view_module": "@jupyter-widgets/controls",
       "_view_module_version": "1.5.0",
       "_view_name": "HBoxView",
       "box_style": "",
       "children": [
        "IPY_MODEL_8c6c8e8d94c74dc9b964f32831f21f68",
        "IPY_MODEL_5e216e916e09492d928069f56ed8b67a",
        "IPY_MODEL_441b317768ba46dd822ead827efb4155"
       ],
       "layout": "IPY_MODEL_7abca3ed992a4b6dbfcd193b43405be6"
      }
     },
     "091d424179ac4c9eb823e1fc6b079067": {
      "model_module": "@jupyter-widgets/controls",
      "model_module_version": "1.5.0",
      "model_name": "HBoxModel",
      "state": {
       "_dom_classes": [],
       "_model_module": "@jupyter-widgets/controls",
       "_model_module_version": "1.5.0",
       "_model_name": "HBoxModel",
       "_view_count": null,
       "_view_module": "@jupyter-widgets/controls",
       "_view_module_version": "1.5.0",
       "_view_name": "HBoxView",
       "box_style": "",
       "children": [
        "IPY_MODEL_5c5c7d29114840ac96b367dedca2989b",
        "IPY_MODEL_d8ad6dce06cd4b9aa5828fe92bfadf9b",
        "IPY_MODEL_daa3893f4540418bba95dc7650cf189b"
       ],
       "layout": "IPY_MODEL_d46bea8b60f34608a6f231778cdaed70"
      }
     },
     "0b6f459ed8f342afa160c8784cf19949": {
      "model_module": "@jupyter-widgets/controls",
      "model_module_version": "1.5.0",
      "model_name": "DescriptionStyleModel",
      "state": {
       "_model_module": "@jupyter-widgets/controls",
       "_model_module_version": "1.5.0",
       "_model_name": "DescriptionStyleModel",
       "_view_count": null,
       "_view_module": "@jupyter-widgets/base",
       "_view_module_version": "1.2.0",
       "_view_name": "StyleView",
       "description_width": ""
      }
     },
     "1242bd7ebc1346798c3292d433ae91e2": {
      "model_module": "@jupyter-widgets/base",
      "model_module_version": "1.2.0",
      "model_name": "LayoutModel",
      "state": {
       "_model_module": "@jupyter-widgets/base",
       "_model_module_version": "1.2.0",
       "_model_name": "LayoutModel",
       "_view_count": null,
       "_view_module": "@jupyter-widgets/base",
       "_view_module_version": "1.2.0",
       "_view_name": "LayoutView",
       "align_content": null,
       "align_items": null,
       "align_self": null,
       "border": null,
       "bottom": null,
       "display": null,
       "flex": null,
       "flex_flow": null,
       "grid_area": null,
       "grid_auto_columns": null,
       "grid_auto_flow": null,
       "grid_auto_rows": null,
       "grid_column": null,
       "grid_gap": null,
       "grid_row": null,
       "grid_template_areas": null,
       "grid_template_columns": null,
       "grid_template_rows": null,
       "height": null,
       "justify_content": null,
       "justify_items": null,
       "left": null,
       "margin": null,
       "max_height": null,
       "max_width": null,
       "min_height": null,
       "min_width": null,
       "object_fit": null,
       "object_position": null,
       "order": null,
       "overflow": null,
       "overflow_x": null,
       "overflow_y": null,
       "padding": null,
       "right": null,
       "top": null,
       "visibility": null,
       "width": null
      }
     },
     "1736b956b173499e9b13b4e988636ea8": {
      "model_module": "@jupyter-widgets/controls",
      "model_module_version": "1.5.0",
      "model_name": "DescriptionStyleModel",
      "state": {
       "_model_module": "@jupyter-widgets/controls",
       "_model_module_version": "1.5.0",
       "_model_name": "DescriptionStyleModel",
       "_view_count": null,
       "_view_module": "@jupyter-widgets/base",
       "_view_module_version": "1.2.0",
       "_view_name": "StyleView",
       "description_width": ""
      }
     },
     "18ec0063cb944f7c8e6f1134c441f3dc": {
      "model_module": "@jupyter-widgets/controls",
      "model_module_version": "1.5.0",
      "model_name": "DescriptionStyleModel",
      "state": {
       "_model_module": "@jupyter-widgets/controls",
       "_model_module_version": "1.5.0",
       "_model_name": "DescriptionStyleModel",
       "_view_count": null,
       "_view_module": "@jupyter-widgets/base",
       "_view_module_version": "1.2.0",
       "_view_name": "StyleView",
       "description_width": ""
      }
     },
     "1f9e8bfc04c7453b8e79d9d8da17d387": {
      "model_module": "@jupyter-widgets/base",
      "model_module_version": "1.2.0",
      "model_name": "LayoutModel",
      "state": {
       "_model_module": "@jupyter-widgets/base",
       "_model_module_version": "1.2.0",
       "_model_name": "LayoutModel",
       "_view_count": null,
       "_view_module": "@jupyter-widgets/base",
       "_view_module_version": "1.2.0",
       "_view_name": "LayoutView",
       "align_content": null,
       "align_items": null,
       "align_self": null,
       "border": null,
       "bottom": null,
       "display": null,
       "flex": null,
       "flex_flow": null,
       "grid_area": null,
       "grid_auto_columns": null,
       "grid_auto_flow": null,
       "grid_auto_rows": null,
       "grid_column": null,
       "grid_gap": null,
       "grid_row": null,
       "grid_template_areas": null,
       "grid_template_columns": null,
       "grid_template_rows": null,
       "height": null,
       "justify_content": null,
       "justify_items": null,
       "left": null,
       "margin": null,
       "max_height": null,
       "max_width": null,
       "min_height": null,
       "min_width": null,
       "object_fit": null,
       "object_position": null,
       "order": null,
       "overflow": null,
       "overflow_x": null,
       "overflow_y": null,
       "padding": null,
       "right": null,
       "top": null,
       "visibility": null,
       "width": null
      }
     },
     "270dc560e9eb4fd7a4c471fb4873312b": {
      "model_module": "@jupyter-widgets/controls",
      "model_module_version": "1.5.0",
      "model_name": "DescriptionStyleModel",
      "state": {
       "_model_module": "@jupyter-widgets/controls",
       "_model_module_version": "1.5.0",
       "_model_name": "DescriptionStyleModel",
       "_view_count": null,
       "_view_module": "@jupyter-widgets/base",
       "_view_module_version": "1.2.0",
       "_view_name": "StyleView",
       "description_width": ""
      }
     },
     "27b9e51304be40b09fe208c3d27df497": {
      "model_module": "@jupyter-widgets/controls",
      "model_module_version": "1.5.0",
      "model_name": "ProgressStyleModel",
      "state": {
       "_model_module": "@jupyter-widgets/controls",
       "_model_module_version": "1.5.0",
       "_model_name": "ProgressStyleModel",
       "_view_count": null,
       "_view_module": "@jupyter-widgets/base",
       "_view_module_version": "1.2.0",
       "_view_name": "StyleView",
       "bar_color": null,
       "description_width": ""
      }
     },
     "2b44ff3084ee4a298ebf607a536a50ad": {
      "model_module": "@jupyter-widgets/controls",
      "model_module_version": "1.5.0",
      "model_name": "HTMLModel",
      "state": {
       "_dom_classes": [],
       "_model_module": "@jupyter-widgets/controls",
       "_model_module_version": "1.5.0",
       "_model_name": "HTMLModel",
       "_view_count": null,
       "_view_module": "@jupyter-widgets/controls",
       "_view_module_version": "1.5.0",
       "_view_name": "HTMLView",
       "description": "",
       "description_tooltip": null,
       "layout": "IPY_MODEL_38c6c404f2344238963411b599d606d8",
       "placeholder": "​",
       "style": "IPY_MODEL_b33fe8b00ec346bab84ca22a83ab1e06",
       "value": "Downloading: 100%"
      }
     },
     "38c6c404f2344238963411b599d606d8": {
      "model_module": "@jupyter-widgets/base",
      "model_module_version": "1.2.0",
      "model_name": "LayoutModel",
      "state": {
       "_model_module": "@jupyter-widgets/base",
       "_model_module_version": "1.2.0",
       "_model_name": "LayoutModel",
       "_view_count": null,
       "_view_module": "@jupyter-widgets/base",
       "_view_module_version": "1.2.0",
       "_view_name": "LayoutView",
       "align_content": null,
       "align_items": null,
       "align_self": null,
       "border": null,
       "bottom": null,
       "display": null,
       "flex": null,
       "flex_flow": null,
       "grid_area": null,
       "grid_auto_columns": null,
       "grid_auto_flow": null,
       "grid_auto_rows": null,
       "grid_column": null,
       "grid_gap": null,
       "grid_row": null,
       "grid_template_areas": null,
       "grid_template_columns": null,
       "grid_template_rows": null,
       "height": null,
       "justify_content": null,
       "justify_items": null,
       "left": null,
       "margin": null,
       "max_height": null,
       "max_width": null,
       "min_height": null,
       "min_width": null,
       "object_fit": null,
       "object_position": null,
       "order": null,
       "overflow": null,
       "overflow_x": null,
       "overflow_y": null,
       "padding": null,
       "right": null,
       "top": null,
       "visibility": null,
       "width": null
      }
     },
     "3aae984e7ab24118b2c7660af98c9574": {
      "model_module": "@jupyter-widgets/controls",
      "model_module_version": "1.5.0",
      "model_name": "ProgressStyleModel",
      "state": {
       "_model_module": "@jupyter-widgets/controls",
       "_model_module_version": "1.5.0",
       "_model_name": "ProgressStyleModel",
       "_view_count": null,
       "_view_module": "@jupyter-widgets/base",
       "_view_module_version": "1.2.0",
       "_view_name": "StyleView",
       "bar_color": null,
       "description_width": ""
      }
     },
     "40c5b3b119fb4fcd8235c9dbd81ae1ca": {
      "model_module": "@jupyter-widgets/base",
      "model_module_version": "1.2.0",
      "model_name": "LayoutModel",
      "state": {
       "_model_module": "@jupyter-widgets/base",
       "_model_module_version": "1.2.0",
       "_model_name": "LayoutModel",
       "_view_count": null,
       "_view_module": "@jupyter-widgets/base",
       "_view_module_version": "1.2.0",
       "_view_name": "LayoutView",
       "align_content": null,
       "align_items": null,
       "align_self": null,
       "border": null,
       "bottom": null,
       "display": null,
       "flex": null,
       "flex_flow": null,
       "grid_area": null,
       "grid_auto_columns": null,
       "grid_auto_flow": null,
       "grid_auto_rows": null,
       "grid_column": null,
       "grid_gap": null,
       "grid_row": null,
       "grid_template_areas": null,
       "grid_template_columns": null,
       "grid_template_rows": null,
       "height": null,
       "justify_content": null,
       "justify_items": null,
       "left": null,
       "margin": null,
       "max_height": null,
       "max_width": null,
       "min_height": null,
       "min_width": null,
       "object_fit": null,
       "object_position": null,
       "order": null,
       "overflow": null,
       "overflow_x": null,
       "overflow_y": null,
       "padding": null,
       "right": null,
       "top": null,
       "visibility": null,
       "width": null
      }
     },
     "43dea31bd7ee491c88cdc29374c3fecc": {
      "model_module": "@jupyter-widgets/controls",
      "model_module_version": "1.5.0",
      "model_name": "ProgressStyleModel",
      "state": {
       "_model_module": "@jupyter-widgets/controls",
       "_model_module_version": "1.5.0",
       "_model_name": "ProgressStyleModel",
       "_view_count": null,
       "_view_module": "@jupyter-widgets/base",
       "_view_module_version": "1.2.0",
       "_view_name": "StyleView",
       "bar_color": null,
       "description_width": ""
      }
     },
     "441b317768ba46dd822ead827efb4155": {
      "model_module": "@jupyter-widgets/controls",
      "model_module_version": "1.5.0",
      "model_name": "HTMLModel",
      "state": {
       "_dom_classes": [],
       "_model_module": "@jupyter-widgets/controls",
       "_model_module_version": "1.5.0",
       "_model_name": "HTMLModel",
       "_view_count": null,
       "_view_module": "@jupyter-widgets/controls",
       "_view_module_version": "1.5.0",
       "_view_name": "HTMLView",
       "description": "",
       "description_tooltip": null,
       "layout": "IPY_MODEL_44e6caaa660f470db04bfbb50202e175",
       "placeholder": "​",
       "style": "IPY_MODEL_f77347dcf47040aea390c7e45533f901",
       "value": " 416M/416M [00:10&lt;00:00, 45.1MB/s]"
      }
     },
     "44e6caaa660f470db04bfbb50202e175": {
      "model_module": "@jupyter-widgets/base",
      "model_module_version": "1.2.0",
      "model_name": "LayoutModel",
      "state": {
       "_model_module": "@jupyter-widgets/base",
       "_model_module_version": "1.2.0",
       "_model_name": "LayoutModel",
       "_view_count": null,
       "_view_module": "@jupyter-widgets/base",
       "_view_module_version": "1.2.0",
       "_view_name": "LayoutView",
       "align_content": null,
       "align_items": null,
       "align_self": null,
       "border": null,
       "bottom": null,
       "display": null,
       "flex": null,
       "flex_flow": null,
       "grid_area": null,
       "grid_auto_columns": null,
       "grid_auto_flow": null,
       "grid_auto_rows": null,
       "grid_column": null,
       "grid_gap": null,
       "grid_row": null,
       "grid_template_areas": null,
       "grid_template_columns": null,
       "grid_template_rows": null,
       "height": null,
       "justify_content": null,
       "justify_items": null,
       "left": null,
       "margin": null,
       "max_height": null,
       "max_width": null,
       "min_height": null,
       "min_width": null,
       "object_fit": null,
       "object_position": null,
       "order": null,
       "overflow": null,
       "overflow_x": null,
       "overflow_y": null,
       "padding": null,
       "right": null,
       "top": null,
       "visibility": null,
       "width": null
      }
     },
     "4961d8dfa6ea422089bae58216f8d814": {
      "model_module": "@jupyter-widgets/controls",
      "model_module_version": "1.5.0",
      "model_name": "DescriptionStyleModel",
      "state": {
       "_model_module": "@jupyter-widgets/controls",
       "_model_module_version": "1.5.0",
       "_model_name": "DescriptionStyleModel",
       "_view_count": null,
       "_view_module": "@jupyter-widgets/base",
       "_view_module_version": "1.2.0",
       "_view_name": "StyleView",
       "description_width": ""
      }
     },
     "4bc0b22831ea49a3b7b79e5153f34469": {
      "model_module": "@jupyter-widgets/controls",
      "model_module_version": "1.5.0",
      "model_name": "HBoxModel",
      "state": {
       "_dom_classes": [],
       "_model_module": "@jupyter-widgets/controls",
       "_model_module_version": "1.5.0",
       "_model_name": "HBoxModel",
       "_view_count": null,
       "_view_module": "@jupyter-widgets/controls",
       "_view_module_version": "1.5.0",
       "_view_name": "HBoxView",
       "box_style": "",
       "children": [
        "IPY_MODEL_aea183960ee7467f8849dbc2ed45d333",
        "IPY_MODEL_ccf4de15f93b4cdc858408b86c038d73",
        "IPY_MODEL_bf1143723d054fcc92f335569a2cc164"
       ],
       "layout": "IPY_MODEL_e880f9b94f5246e495f08b3b1c59c39d"
      }
     },
     "512e7cf6d2544aad93f1e4f74a6ad48c": {
      "model_module": "@jupyter-widgets/controls",
      "model_module_version": "1.5.0",
      "model_name": "DescriptionStyleModel",
      "state": {
       "_model_module": "@jupyter-widgets/controls",
       "_model_module_version": "1.5.0",
       "_model_name": "DescriptionStyleModel",
       "_view_count": null,
       "_view_module": "@jupyter-widgets/base",
       "_view_module_version": "1.2.0",
       "_view_name": "StyleView",
       "description_width": ""
      }
     },
     "5c324293e6e248da8b3cf286494ccbb7": {
      "model_module": "@jupyter-widgets/controls",
      "model_module_version": "1.5.0",
      "model_name": "ProgressStyleModel",
      "state": {
       "_model_module": "@jupyter-widgets/controls",
       "_model_module_version": "1.5.0",
       "_model_name": "ProgressStyleModel",
       "_view_count": null,
       "_view_module": "@jupyter-widgets/base",
       "_view_module_version": "1.2.0",
       "_view_name": "StyleView",
       "bar_color": null,
       "description_width": ""
      }
     },
     "5c5c7d29114840ac96b367dedca2989b": {
      "model_module": "@jupyter-widgets/controls",
      "model_module_version": "1.5.0",
      "model_name": "HTMLModel",
      "state": {
       "_dom_classes": [],
       "_model_module": "@jupyter-widgets/controls",
       "_model_module_version": "1.5.0",
       "_model_name": "HTMLModel",
       "_view_count": null,
       "_view_module": "@jupyter-widgets/controls",
       "_view_module_version": "1.5.0",
       "_view_name": "HTMLView",
       "description": "",
       "description_tooltip": null,
       "layout": "IPY_MODEL_af697c7d37db4ad384a2dd12c8f75667",
       "placeholder": "​",
       "style": "IPY_MODEL_0b6f459ed8f342afa160c8784cf19949",
       "value": "Downloading: 100%"
      }
     },
     "5e216e916e09492d928069f56ed8b67a": {
      "model_module": "@jupyter-widgets/controls",
      "model_module_version": "1.5.0",
      "model_name": "FloatProgressModel",
      "state": {
       "_dom_classes": [],
       "_model_module": "@jupyter-widgets/controls",
       "_model_module_version": "1.5.0",
       "_model_name": "FloatProgressModel",
       "_view_count": null,
       "_view_module": "@jupyter-widgets/controls",
       "_view_module_version": "1.5.0",
       "_view_name": "ProgressView",
       "bar_style": "success",
       "description": "",
       "description_tooltip": null,
       "layout": "IPY_MODEL_a2b480de17a0400abf3e1e0174794abe",
       "max": 435779157.0,
       "min": 0.0,
       "orientation": "horizontal",
       "style": "IPY_MODEL_3aae984e7ab24118b2c7660af98c9574",
       "value": 435779157.0
      }
     },
     "6aed777c236048a5a0350c7513977744": {
      "model_module": "@jupyter-widgets/base",
      "model_module_version": "1.2.0",
      "model_name": "LayoutModel",
      "state": {
       "_model_module": "@jupyter-widgets/base",
       "_model_module_version": "1.2.0",
       "_model_name": "LayoutModel",
       "_view_count": null,
       "_view_module": "@jupyter-widgets/base",
       "_view_module_version": "1.2.0",
       "_view_name": "LayoutView",
       "align_content": null,
       "align_items": null,
       "align_self": null,
       "border": null,
       "bottom": null,
       "display": null,
       "flex": null,
       "flex_flow": null,
       "grid_area": null,
       "grid_auto_columns": null,
       "grid_auto_flow": null,
       "grid_auto_rows": null,
       "grid_column": null,
       "grid_gap": null,
       "grid_row": null,
       "grid_template_areas": null,
       "grid_template_columns": null,
       "grid_template_rows": null,
       "height": null,
       "justify_content": null,
       "justify_items": null,
       "left": null,
       "margin": null,
       "max_height": null,
       "max_width": null,
       "min_height": null,
       "min_width": null,
       "object_fit": null,
       "object_position": null,
       "order": null,
       "overflow": null,
       "overflow_x": null,
       "overflow_y": null,
       "padding": null,
       "right": null,
       "top": null,
       "visibility": null,
       "width": null
      }
     },
     "6f062ea14eb641f0818dc3f8d82efc34": {
      "model_module": "@jupyter-widgets/controls",
      "model_module_version": "1.5.0",
      "model_name": "HBoxModel",
      "state": {
       "_dom_classes": [],
       "_model_module": "@jupyter-widgets/controls",
       "_model_module_version": "1.5.0",
       "_model_name": "HBoxModel",
       "_view_count": null,
       "_view_module": "@jupyter-widgets/controls",
       "_view_module_version": "1.5.0",
       "_view_name": "HBoxView",
       "box_style": "",
       "children": [
        "IPY_MODEL_2b44ff3084ee4a298ebf607a536a50ad",
        "IPY_MODEL_aadd7ba389a846738f21a0e10987a8dd",
        "IPY_MODEL_f6aec37ed0fd4f9ab77ca12461f65b3b"
       ],
       "layout": "IPY_MODEL_fddf144e25724b04b47fa51e614217e2"
      }
     },
     "7437bbe788dd4576960a7b797245ef3f": {
      "model_module": "@jupyter-widgets/controls",
      "model_module_version": "1.5.0",
      "model_name": "DescriptionStyleModel",
      "state": {
       "_model_module": "@jupyter-widgets/controls",
       "_model_module_version": "1.5.0",
       "_model_name": "DescriptionStyleModel",
       "_view_count": null,
       "_view_module": "@jupyter-widgets/base",
       "_view_module_version": "1.2.0",
       "_view_name": "StyleView",
       "description_width": ""
      }
     },
     "7abca3ed992a4b6dbfcd193b43405be6": {
      "model_module": "@jupyter-widgets/base",
      "model_module_version": "1.2.0",
      "model_name": "LayoutModel",
      "state": {
       "_model_module": "@jupyter-widgets/base",
       "_model_module_version": "1.2.0",
       "_model_name": "LayoutModel",
       "_view_count": null,
       "_view_module": "@jupyter-widgets/base",
       "_view_module_version": "1.2.0",
       "_view_name": "LayoutView",
       "align_content": null,
       "align_items": null,
       "align_self": null,
       "border": null,
       "bottom": null,
       "display": null,
       "flex": null,
       "flex_flow": null,
       "grid_area": null,
       "grid_auto_columns": null,
       "grid_auto_flow": null,
       "grid_auto_rows": null,
       "grid_column": null,
       "grid_gap": null,
       "grid_row": null,
       "grid_template_areas": null,
       "grid_template_columns": null,
       "grid_template_rows": null,
       "height": null,
       "justify_content": null,
       "justify_items": null,
       "left": null,
       "margin": null,
       "max_height": null,
       "max_width": null,
       "min_height": null,
       "min_width": null,
       "object_fit": null,
       "object_position": null,
       "order": null,
       "overflow": null,
       "overflow_x": null,
       "overflow_y": null,
       "padding": null,
       "right": null,
       "top": null,
       "visibility": null,
       "width": null
      }
     },
     "8c6c8e8d94c74dc9b964f32831f21f68": {
      "model_module": "@jupyter-widgets/controls",
      "model_module_version": "1.5.0",
      "model_name": "HTMLModel",
      "state": {
       "_dom_classes": [],
       "_model_module": "@jupyter-widgets/controls",
       "_model_module_version": "1.5.0",
       "_model_name": "HTMLModel",
       "_view_count": null,
       "_view_module": "@jupyter-widgets/controls",
       "_view_module_version": "1.5.0",
       "_view_name": "HTMLView",
       "description": "",
       "description_tooltip": null,
       "layout": "IPY_MODEL_0517c6d595fa4f6ea78f2766f2fe5dd2",
       "placeholder": "​",
       "style": "IPY_MODEL_fddd752be0764885b40f506f264e1e26",
       "value": "Downloading: 100%"
      }
     },
     "96b21c72eb244592b26bd5b6f71ecdb5": {
      "model_module": "@jupyter-widgets/base",
      "model_module_version": "1.2.0",
      "model_name": "LayoutModel",
      "state": {
       "_model_module": "@jupyter-widgets/base",
       "_model_module_version": "1.2.0",
       "_model_name": "LayoutModel",
       "_view_count": null,
       "_view_module": "@jupyter-widgets/base",
       "_view_module_version": "1.2.0",
       "_view_name": "LayoutView",
       "align_content": null,
       "align_items": null,
       "align_self": null,
       "border": null,
       "bottom": null,
       "display": null,
       "flex": null,
       "flex_flow": null,
       "grid_area": null,
       "grid_auto_columns": null,
       "grid_auto_flow": null,
       "grid_auto_rows": null,
       "grid_column": null,
       "grid_gap": null,
       "grid_row": null,
       "grid_template_areas": null,
       "grid_template_columns": null,
       "grid_template_rows": null,
       "height": null,
       "justify_content": null,
       "justify_items": null,
       "left": null,
       "margin": null,
       "max_height": null,
       "max_width": null,
       "min_height": null,
       "min_width": null,
       "object_fit": null,
       "object_position": null,
       "order": null,
       "overflow": null,
       "overflow_x": null,
       "overflow_y": null,
       "padding": null,
       "right": null,
       "top": null,
       "visibility": null,
       "width": null
      }
     },
     "973229356e37458db8d23212c6dc7176": {
      "model_module": "@jupyter-widgets/base",
      "model_module_version": "1.2.0",
      "model_name": "LayoutModel",
      "state": {
       "_model_module": "@jupyter-widgets/base",
       "_model_module_version": "1.2.0",
       "_model_name": "LayoutModel",
       "_view_count": null,
       "_view_module": "@jupyter-widgets/base",
       "_view_module_version": "1.2.0",
       "_view_name": "LayoutView",
       "align_content": null,
       "align_items": null,
       "align_self": null,
       "border": null,
       "bottom": null,
       "display": null,
       "flex": null,
       "flex_flow": null,
       "grid_area": null,
       "grid_auto_columns": null,
       "grid_auto_flow": null,
       "grid_auto_rows": null,
       "grid_column": null,
       "grid_gap": null,
       "grid_row": null,
       "grid_template_areas": null,
       "grid_template_columns": null,
       "grid_template_rows": null,
       "height": null,
       "justify_content": null,
       "justify_items": null,
       "left": null,
       "margin": null,
       "max_height": null,
       "max_width": null,
       "min_height": null,
       "min_width": null,
       "object_fit": null,
       "object_position": null,
       "order": null,
       "overflow": null,
       "overflow_x": null,
       "overflow_y": null,
       "padding": null,
       "right": null,
       "top": null,
       "visibility": null,
       "width": null
      }
     },
     "989a0fd48b4d4fb6974c7774200385bb": {
      "model_module": "@jupyter-widgets/controls",
      "model_module_version": "1.5.0",
      "model_name": "FloatProgressModel",
      "state": {
       "_dom_classes": [],
       "_model_module": "@jupyter-widgets/controls",
       "_model_module_version": "1.5.0",
       "_model_name": "FloatProgressModel",
       "_view_count": null,
       "_view_module": "@jupyter-widgets/controls",
       "_view_module_version": "1.5.0",
       "_view_name": "ProgressView",
       "bar_style": "success",
       "description": "",
       "description_tooltip": null,
       "layout": "IPY_MODEL_40c5b3b119fb4fcd8235c9dbd81ae1ca",
       "max": 29.0,
       "min": 0.0,
       "orientation": "horizontal",
       "style": "IPY_MODEL_27b9e51304be40b09fe208c3d27df497",
       "value": 29.0
      }
     },
     "a1c3af4785824efbbb644cd40a6c0830": {
      "model_module": "@jupyter-widgets/controls",
      "model_module_version": "1.5.0",
      "model_name": "HTMLModel",
      "state": {
       "_dom_classes": [],
       "_model_module": "@jupyter-widgets/controls",
       "_model_module_version": "1.5.0",
       "_model_name": "HTMLModel",
       "_view_count": null,
       "_view_module": "@jupyter-widgets/controls",
       "_view_module_version": "1.5.0",
       "_view_name": "HTMLView",
       "description": "",
       "description_tooltip": null,
       "layout": "IPY_MODEL_6aed777c236048a5a0350c7513977744",
       "placeholder": "​",
       "style": "IPY_MODEL_4961d8dfa6ea422089bae58216f8d814",
       "value": " 29.0/29.0 [00:00&lt;00:00, 1.12kB/s]"
      }
     },
     "a2b480de17a0400abf3e1e0174794abe": {
      "model_module": "@jupyter-widgets/base",
      "model_module_version": "1.2.0",
      "model_name": "LayoutModel",
      "state": {
       "_model_module": "@jupyter-widgets/base",
       "_model_module_version": "1.2.0",
       "_model_name": "LayoutModel",
       "_view_count": null,
       "_view_module": "@jupyter-widgets/base",
       "_view_module_version": "1.2.0",
       "_view_name": "LayoutView",
       "align_content": null,
       "align_items": null,
       "align_self": null,
       "border": null,
       "bottom": null,
       "display": null,
       "flex": null,
       "flex_flow": null,
       "grid_area": null,
       "grid_auto_columns": null,
       "grid_auto_flow": null,
       "grid_auto_rows": null,
       "grid_column": null,
       "grid_gap": null,
       "grid_row": null,
       "grid_template_areas": null,
       "grid_template_columns": null,
       "grid_template_rows": null,
       "height": null,
       "justify_content": null,
       "justify_items": null,
       "left": null,
       "margin": null,
       "max_height": null,
       "max_width": null,
       "min_height": null,
       "min_width": null,
       "object_fit": null,
       "object_position": null,
       "order": null,
       "overflow": null,
       "overflow_x": null,
       "overflow_y": null,
       "padding": null,
       "right": null,
       "top": null,
       "visibility": null,
       "width": null
      }
     },
     "a40918746bf54954bcacfbe8b0877904": {
      "model_module": "@jupyter-widgets/base",
      "model_module_version": "1.2.0",
      "model_name": "LayoutModel",
      "state": {
       "_model_module": "@jupyter-widgets/base",
       "_model_module_version": "1.2.0",
       "_model_name": "LayoutModel",
       "_view_count": null,
       "_view_module": "@jupyter-widgets/base",
       "_view_module_version": "1.2.0",
       "_view_name": "LayoutView",
       "align_content": null,
       "align_items": null,
       "align_self": null,
       "border": null,
       "bottom": null,
       "display": null,
       "flex": null,
       "flex_flow": null,
       "grid_area": null,
       "grid_auto_columns": null,
       "grid_auto_flow": null,
       "grid_auto_rows": null,
       "grid_column": null,
       "grid_gap": null,
       "grid_row": null,
       "grid_template_areas": null,
       "grid_template_columns": null,
       "grid_template_rows": null,
       "height": null,
       "justify_content": null,
       "justify_items": null,
       "left": null,
       "margin": null,
       "max_height": null,
       "max_width": null,
       "min_height": null,
       "min_width": null,
       "object_fit": null,
       "object_position": null,
       "order": null,
       "overflow": null,
       "overflow_x": null,
       "overflow_y": null,
       "padding": null,
       "right": null,
       "top": null,
       "visibility": null,
       "width": null
      }
     },
     "aadd7ba389a846738f21a0e10987a8dd": {
      "model_module": "@jupyter-widgets/controls",
      "model_module_version": "1.5.0",
      "model_name": "FloatProgressModel",
      "state": {
       "_dom_classes": [],
       "_model_module": "@jupyter-widgets/controls",
       "_model_module_version": "1.5.0",
       "_model_name": "FloatProgressModel",
       "_view_count": null,
       "_view_module": "@jupyter-widgets/controls",
       "_view_module_version": "1.5.0",
       "_view_name": "ProgressView",
       "bar_style": "success",
       "description": "",
       "description_tooltip": null,
       "layout": "IPY_MODEL_af4db7c093e748f3985b8332e3168e7f",
       "max": 570.0,
       "min": 0.0,
       "orientation": "horizontal",
       "style": "IPY_MODEL_5c324293e6e248da8b3cf286494ccbb7",
       "value": 570.0
      }
     },
     "aea183960ee7467f8849dbc2ed45d333": {
      "model_module": "@jupyter-widgets/controls",
      "model_module_version": "1.5.0",
      "model_name": "HTMLModel",
      "state": {
       "_dom_classes": [],
       "_model_module": "@jupyter-widgets/controls",
       "_model_module_version": "1.5.0",
       "_model_name": "HTMLModel",
       "_view_count": null,
       "_view_module": "@jupyter-widgets/controls",
       "_view_module_version": "1.5.0",
       "_view_name": "HTMLView",
       "description": "",
       "description_tooltip": null,
       "layout": "IPY_MODEL_96b21c72eb244592b26bd5b6f71ecdb5",
       "placeholder": "​",
       "style": "IPY_MODEL_7437bbe788dd4576960a7b797245ef3f",
       "value": "Downloading: 100%"
      }
     },
     "af4db7c093e748f3985b8332e3168e7f": {
      "model_module": "@jupyter-widgets/base",
      "model_module_version": "1.2.0",
      "model_name": "LayoutModel",
      "state": {
       "_model_module": "@jupyter-widgets/base",
       "_model_module_version": "1.2.0",
       "_model_name": "LayoutModel",
       "_view_count": null,
       "_view_module": "@jupyter-widgets/base",
       "_view_module_version": "1.2.0",
       "_view_name": "LayoutView",
       "align_content": null,
       "align_items": null,
       "align_self": null,
       "border": null,
       "bottom": null,
       "display": null,
       "flex": null,
       "flex_flow": null,
       "grid_area": null,
       "grid_auto_columns": null,
       "grid_auto_flow": null,
       "grid_auto_rows": null,
       "grid_column": null,
       "grid_gap": null,
       "grid_row": null,
       "grid_template_areas": null,
       "grid_template_columns": null,
       "grid_template_rows": null,
       "height": null,
       "justify_content": null,
       "justify_items": null,
       "left": null,
       "margin": null,
       "max_height": null,
       "max_width": null,
       "min_height": null,
       "min_width": null,
       "object_fit": null,
       "object_position": null,
       "order": null,
       "overflow": null,
       "overflow_x": null,
       "overflow_y": null,
       "padding": null,
       "right": null,
       "top": null,
       "visibility": null,
       "width": null
      }
     },
     "af697c7d37db4ad384a2dd12c8f75667": {
      "model_module": "@jupyter-widgets/base",
      "model_module_version": "1.2.0",
      "model_name": "LayoutModel",
      "state": {
       "_model_module": "@jupyter-widgets/base",
       "_model_module_version": "1.2.0",
       "_model_name": "LayoutModel",
       "_view_count": null,
       "_view_module": "@jupyter-widgets/base",
       "_view_module_version": "1.2.0",
       "_view_name": "LayoutView",
       "align_content": null,
       "align_items": null,
       "align_self": null,
       "border": null,
       "bottom": null,
       "display": null,
       "flex": null,
       "flex_flow": null,
       "grid_area": null,
       "grid_auto_columns": null,
       "grid_auto_flow": null,
       "grid_auto_rows": null,
       "grid_column": null,
       "grid_gap": null,
       "grid_row": null,
       "grid_template_areas": null,
       "grid_template_columns": null,
       "grid_template_rows": null,
       "height": null,
       "justify_content": null,
       "justify_items": null,
       "left": null,
       "margin": null,
       "max_height": null,
       "max_width": null,
       "min_height": null,
       "min_width": null,
       "object_fit": null,
       "object_position": null,
       "order": null,
       "overflow": null,
       "overflow_x": null,
       "overflow_y": null,
       "padding": null,
       "right": null,
       "top": null,
       "visibility": null,
       "width": null
      }
     },
     "b33fe8b00ec346bab84ca22a83ab1e06": {
      "model_module": "@jupyter-widgets/controls",
      "model_module_version": "1.5.0",
      "model_name": "DescriptionStyleModel",
      "state": {
       "_model_module": "@jupyter-widgets/controls",
       "_model_module_version": "1.5.0",
       "_model_name": "DescriptionStyleModel",
       "_view_count": null,
       "_view_module": "@jupyter-widgets/base",
       "_view_module_version": "1.2.0",
       "_view_name": "StyleView",
       "description_width": ""
      }
     },
     "bb999c0448044e2abd287496d89d1647": {
      "model_module": "@jupyter-widgets/base",
      "model_module_version": "1.2.0",
      "model_name": "LayoutModel",
      "state": {
       "_model_module": "@jupyter-widgets/base",
       "_model_module_version": "1.2.0",
       "_model_name": "LayoutModel",
       "_view_count": null,
       "_view_module": "@jupyter-widgets/base",
       "_view_module_version": "1.2.0",
       "_view_name": "LayoutView",
       "align_content": null,
       "align_items": null,
       "align_self": null,
       "border": null,
       "bottom": null,
       "display": null,
       "flex": null,
       "flex_flow": null,
       "grid_area": null,
       "grid_auto_columns": null,
       "grid_auto_flow": null,
       "grid_auto_rows": null,
       "grid_column": null,
       "grid_gap": null,
       "grid_row": null,
       "grid_template_areas": null,
       "grid_template_columns": null,
       "grid_template_rows": null,
       "height": null,
       "justify_content": null,
       "justify_items": null,
       "left": null,
       "margin": null,
       "max_height": null,
       "max_width": null,
       "min_height": null,
       "min_width": null,
       "object_fit": null,
       "object_position": null,
       "order": null,
       "overflow": null,
       "overflow_x": null,
       "overflow_y": null,
       "padding": null,
       "right": null,
       "top": null,
       "visibility": null,
       "width": null
      }
     },
     "bee30fa6f4834eb294277f1894d58b4c": {
      "model_module": "@jupyter-widgets/controls",
      "model_module_version": "1.5.0",
      "model_name": "HBoxModel",
      "state": {
       "_dom_classes": [],
       "_model_module": "@jupyter-widgets/controls",
       "_model_module_version": "1.5.0",
       "_model_name": "HBoxModel",
       "_view_count": null,
       "_view_module": "@jupyter-widgets/controls",
       "_view_module_version": "1.5.0",
       "_view_name": "HBoxView",
       "box_style": "",
       "children": [
        "IPY_MODEL_c1776037f7734de2a672e618f9ad2e8e",
        "IPY_MODEL_989a0fd48b4d4fb6974c7774200385bb",
        "IPY_MODEL_a1c3af4785824efbbb644cd40a6c0830"
       ],
       "layout": "IPY_MODEL_973229356e37458db8d23212c6dc7176"
      }
     },
     "bf1143723d054fcc92f335569a2cc164": {
      "model_module": "@jupyter-widgets/controls",
      "model_module_version": "1.5.0",
      "model_name": "HTMLModel",
      "state": {
       "_dom_classes": [],
       "_model_module": "@jupyter-widgets/controls",
       "_model_module_version": "1.5.0",
       "_model_name": "HTMLModel",
       "_view_count": null,
       "_view_module": "@jupyter-widgets/controls",
       "_view_module_version": "1.5.0",
       "_view_name": "HTMLView",
       "description": "",
       "description_tooltip": null,
       "layout": "IPY_MODEL_c6e78bb030654202bbdaab7097347329",
       "placeholder": "​",
       "style": "IPY_MODEL_512e7cf6d2544aad93f1e4f74a6ad48c",
       "value": " 208k/208k [00:00&lt;00:00, 841kB/s]"
      }
     },
     "c1776037f7734de2a672e618f9ad2e8e": {
      "model_module": "@jupyter-widgets/controls",
      "model_module_version": "1.5.0",
      "model_name": "HTMLModel",
      "state": {
       "_dom_classes": [],
       "_model_module": "@jupyter-widgets/controls",
       "_model_module_version": "1.5.0",
       "_model_name": "HTMLModel",
       "_view_count": null,
       "_view_module": "@jupyter-widgets/controls",
       "_view_module_version": "1.5.0",
       "_view_name": "HTMLView",
       "description": "",
       "description_tooltip": null,
       "layout": "IPY_MODEL_a40918746bf54954bcacfbe8b0877904",
       "placeholder": "​",
       "style": "IPY_MODEL_18ec0063cb944f7c8e6f1134c441f3dc",
       "value": "Downloading: 100%"
      }
     },
     "c6e78bb030654202bbdaab7097347329": {
      "model_module": "@jupyter-widgets/base",
      "model_module_version": "1.2.0",
      "model_name": "LayoutModel",
      "state": {
       "_model_module": "@jupyter-widgets/base",
       "_model_module_version": "1.2.0",
       "_model_name": "LayoutModel",
       "_view_count": null,
       "_view_module": "@jupyter-widgets/base",
       "_view_module_version": "1.2.0",
       "_view_name": "LayoutView",
       "align_content": null,
       "align_items": null,
       "align_self": null,
       "border": null,
       "bottom": null,
       "display": null,
       "flex": null,
       "flex_flow": null,
       "grid_area": null,
       "grid_auto_columns": null,
       "grid_auto_flow": null,
       "grid_auto_rows": null,
       "grid_column": null,
       "grid_gap": null,
       "grid_row": null,
       "grid_template_areas": null,
       "grid_template_columns": null,
       "grid_template_rows": null,
       "height": null,
       "justify_content": null,
       "justify_items": null,
       "left": null,
       "margin": null,
       "max_height": null,
       "max_width": null,
       "min_height": null,
       "min_width": null,
       "object_fit": null,
       "object_position": null,
       "order": null,
       "overflow": null,
       "overflow_x": null,
       "overflow_y": null,
       "padding": null,
       "right": null,
       "top": null,
       "visibility": null,
       "width": null
      }
     },
     "ccf4de15f93b4cdc858408b86c038d73": {
      "model_module": "@jupyter-widgets/controls",
      "model_module_version": "1.5.0",
      "model_name": "FloatProgressModel",
      "state": {
       "_dom_classes": [],
       "_model_module": "@jupyter-widgets/controls",
       "_model_module_version": "1.5.0",
       "_model_name": "FloatProgressModel",
       "_view_count": null,
       "_view_module": "@jupyter-widgets/controls",
       "_view_module_version": "1.5.0",
       "_view_name": "ProgressView",
       "bar_style": "success",
       "description": "",
       "description_tooltip": null,
       "layout": "IPY_MODEL_bb999c0448044e2abd287496d89d1647",
       "max": 213450.0,
       "min": 0.0,
       "orientation": "horizontal",
       "style": "IPY_MODEL_43dea31bd7ee491c88cdc29374c3fecc",
       "value": 213450.0
      }
     },
     "d46bea8b60f34608a6f231778cdaed70": {
      "model_module": "@jupyter-widgets/base",
      "model_module_version": "1.2.0",
      "model_name": "LayoutModel",
      "state": {
       "_model_module": "@jupyter-widgets/base",
       "_model_module_version": "1.2.0",
       "_model_name": "LayoutModel",
       "_view_count": null,
       "_view_module": "@jupyter-widgets/base",
       "_view_module_version": "1.2.0",
       "_view_name": "LayoutView",
       "align_content": null,
       "align_items": null,
       "align_self": null,
       "border": null,
       "bottom": null,
       "display": null,
       "flex": null,
       "flex_flow": null,
       "grid_area": null,
       "grid_auto_columns": null,
       "grid_auto_flow": null,
       "grid_auto_rows": null,
       "grid_column": null,
       "grid_gap": null,
       "grid_row": null,
       "grid_template_areas": null,
       "grid_template_columns": null,
       "grid_template_rows": null,
       "height": null,
       "justify_content": null,
       "justify_items": null,
       "left": null,
       "margin": null,
       "max_height": null,
       "max_width": null,
       "min_height": null,
       "min_width": null,
       "object_fit": null,
       "object_position": null,
       "order": null,
       "overflow": null,
       "overflow_x": null,
       "overflow_y": null,
       "padding": null,
       "right": null,
       "top": null,
       "visibility": null,
       "width": null
      }
     },
     "d8ad6dce06cd4b9aa5828fe92bfadf9b": {
      "model_module": "@jupyter-widgets/controls",
      "model_module_version": "1.5.0",
      "model_name": "FloatProgressModel",
      "state": {
       "_dom_classes": [],
       "_model_module": "@jupyter-widgets/controls",
       "_model_module_version": "1.5.0",
       "_model_name": "FloatProgressModel",
       "_view_count": null,
       "_view_module": "@jupyter-widgets/controls",
       "_view_module_version": "1.5.0",
       "_view_name": "ProgressView",
       "bar_style": "success",
       "description": "",
       "description_tooltip": null,
       "layout": "IPY_MODEL_1242bd7ebc1346798c3292d433ae91e2",
       "max": 435797.0,
       "min": 0.0,
       "orientation": "horizontal",
       "style": "IPY_MODEL_019715dd79ec4125805c907608d7d417",
       "value": 435797.0
      }
     },
     "daa3893f4540418bba95dc7650cf189b": {
      "model_module": "@jupyter-widgets/controls",
      "model_module_version": "1.5.0",
      "model_name": "HTMLModel",
      "state": {
       "_dom_classes": [],
       "_model_module": "@jupyter-widgets/controls",
       "_model_module_version": "1.5.0",
       "_model_name": "HTMLModel",
       "_view_count": null,
       "_view_module": "@jupyter-widgets/controls",
       "_view_module_version": "1.5.0",
       "_view_name": "HTMLView",
       "description": "",
       "description_tooltip": null,
       "layout": "IPY_MODEL_e182b34ed9cb431fa7ed0cdee54ae08f",
       "placeholder": "​",
       "style": "IPY_MODEL_270dc560e9eb4fd7a4c471fb4873312b",
       "value": " 426k/426k [00:00&lt;00:00, 785kB/s]"
      }
     },
     "e182b34ed9cb431fa7ed0cdee54ae08f": {
      "model_module": "@jupyter-widgets/base",
      "model_module_version": "1.2.0",
      "model_name": "LayoutModel",
      "state": {
       "_model_module": "@jupyter-widgets/base",
       "_model_module_version": "1.2.0",
       "_model_name": "LayoutModel",
       "_view_count": null,
       "_view_module": "@jupyter-widgets/base",
       "_view_module_version": "1.2.0",
       "_view_name": "LayoutView",
       "align_content": null,
       "align_items": null,
       "align_self": null,
       "border": null,
       "bottom": null,
       "display": null,
       "flex": null,
       "flex_flow": null,
       "grid_area": null,
       "grid_auto_columns": null,
       "grid_auto_flow": null,
       "grid_auto_rows": null,
       "grid_column": null,
       "grid_gap": null,
       "grid_row": null,
       "grid_template_areas": null,
       "grid_template_columns": null,
       "grid_template_rows": null,
       "height": null,
       "justify_content": null,
       "justify_items": null,
       "left": null,
       "margin": null,
       "max_height": null,
       "max_width": null,
       "min_height": null,
       "min_width": null,
       "object_fit": null,
       "object_position": null,
       "order": null,
       "overflow": null,
       "overflow_x": null,
       "overflow_y": null,
       "padding": null,
       "right": null,
       "top": null,
       "visibility": null,
       "width": null
      }
     },
     "e880f9b94f5246e495f08b3b1c59c39d": {
      "model_module": "@jupyter-widgets/base",
      "model_module_version": "1.2.0",
      "model_name": "LayoutModel",
      "state": {
       "_model_module": "@jupyter-widgets/base",
       "_model_module_version": "1.2.0",
       "_model_name": "LayoutModel",
       "_view_count": null,
       "_view_module": "@jupyter-widgets/base",
       "_view_module_version": "1.2.0",
       "_view_name": "LayoutView",
       "align_content": null,
       "align_items": null,
       "align_self": null,
       "border": null,
       "bottom": null,
       "display": null,
       "flex": null,
       "flex_flow": null,
       "grid_area": null,
       "grid_auto_columns": null,
       "grid_auto_flow": null,
       "grid_auto_rows": null,
       "grid_column": null,
       "grid_gap": null,
       "grid_row": null,
       "grid_template_areas": null,
       "grid_template_columns": null,
       "grid_template_rows": null,
       "height": null,
       "justify_content": null,
       "justify_items": null,
       "left": null,
       "margin": null,
       "max_height": null,
       "max_width": null,
       "min_height": null,
       "min_width": null,
       "object_fit": null,
       "object_position": null,
       "order": null,
       "overflow": null,
       "overflow_x": null,
       "overflow_y": null,
       "padding": null,
       "right": null,
       "top": null,
       "visibility": null,
       "width": null
      }
     },
     "f6aec37ed0fd4f9ab77ca12461f65b3b": {
      "model_module": "@jupyter-widgets/controls",
      "model_module_version": "1.5.0",
      "model_name": "HTMLModel",
      "state": {
       "_dom_classes": [],
       "_model_module": "@jupyter-widgets/controls",
       "_model_module_version": "1.5.0",
       "_model_name": "HTMLModel",
       "_view_count": null,
       "_view_module": "@jupyter-widgets/controls",
       "_view_module_version": "1.5.0",
       "_view_name": "HTMLView",
       "description": "",
       "description_tooltip": null,
       "layout": "IPY_MODEL_1f9e8bfc04c7453b8e79d9d8da17d387",
       "placeholder": "​",
       "style": "IPY_MODEL_1736b956b173499e9b13b4e988636ea8",
       "value": " 570/570 [00:00&lt;00:00, 22.5kB/s]"
      }
     },
     "f77347dcf47040aea390c7e45533f901": {
      "model_module": "@jupyter-widgets/controls",
      "model_module_version": "1.5.0",
      "model_name": "DescriptionStyleModel",
      "state": {
       "_model_module": "@jupyter-widgets/controls",
       "_model_module_version": "1.5.0",
       "_model_name": "DescriptionStyleModel",
       "_view_count": null,
       "_view_module": "@jupyter-widgets/base",
       "_view_module_version": "1.2.0",
       "_view_name": "StyleView",
       "description_width": ""
      }
     },
     "fddd752be0764885b40f506f264e1e26": {
      "model_module": "@jupyter-widgets/controls",
      "model_module_version": "1.5.0",
      "model_name": "DescriptionStyleModel",
      "state": {
       "_model_module": "@jupyter-widgets/controls",
       "_model_module_version": "1.5.0",
       "_model_name": "DescriptionStyleModel",
       "_view_count": null,
       "_view_module": "@jupyter-widgets/base",
       "_view_module_version": "1.2.0",
       "_view_name": "StyleView",
       "description_width": ""
      }
     },
     "fddf144e25724b04b47fa51e614217e2": {
      "model_module": "@jupyter-widgets/base",
      "model_module_version": "1.2.0",
      "model_name": "LayoutModel",
      "state": {
       "_model_module": "@jupyter-widgets/base",
       "_model_module_version": "1.2.0",
       "_model_name": "LayoutModel",
       "_view_count": null,
       "_view_module": "@jupyter-widgets/base",
       "_view_module_version": "1.2.0",
       "_view_name": "LayoutView",
       "align_content": null,
       "align_items": null,
       "align_self": null,
       "border": null,
       "bottom": null,
       "display": null,
       "flex": null,
       "flex_flow": null,
       "grid_area": null,
       "grid_auto_columns": null,
       "grid_auto_flow": null,
       "grid_auto_rows": null,
       "grid_column": null,
       "grid_gap": null,
       "grid_row": null,
       "grid_template_areas": null,
       "grid_template_columns": null,
       "grid_template_rows": null,
       "height": null,
       "justify_content": null,
       "justify_items": null,
       "left": null,
       "margin": null,
       "max_height": null,
       "max_width": null,
       "min_height": null,
       "min_width": null,
       "object_fit": null,
       "object_position": null,
       "order": null,
       "overflow": null,
       "overflow_x": null,
       "overflow_y": null,
       "padding": null,
       "right": null,
       "top": null,
       "visibility": null,
       "width": null
      }
     }
    },
    "version_major": 2,
    "version_minor": 0
   }
  }
 },
 "nbformat": 4,
 "nbformat_minor": 5
}
